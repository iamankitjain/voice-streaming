{
 "cells": [
  {
   "cell_type": "markdown",
   "id": "00a79e20-51db-439a-951e-314d79c40359",
   "metadata": {},
   "source": [
    "# Video replication with Amazon Nova\n",
    "\n",
    "Imagine you want to replicate a captivating scene from your favorite movie or create a video that evokes the same powerful emotion. In this notebook, we will guide you through the process of bringing your vision to life using **Amazon Nova Canvas** and **Amazon Nova Reel** on **Amazon Bedrock**."
   ]
  },
  {
   "cell_type": "markdown",
   "id": "46088f83-a436-4753-9200-b3d767c98edf",
   "metadata": {
    "jp-MarkdownHeadingCollapsed": true
   },
   "source": [
    "Let's get started!"
   ]
  },
  {
   "cell_type": "code",
   "execution_count": null,
   "id": "0103bf97-d348-469e-b6dd-f60b238740a1",
   "metadata": {},
   "outputs": [],
   "source": [
    "# Install libraries\n",
    "%pip install moviepy --quiet\n",
    "%pip install --upgrade boto3 --quiet\n",
    "%pip install --upgrade ipython opencv-python-headless --quiet"
   ]
  },
  {
   "cell_type": "code",
   "execution_count": null,
   "id": "60d0ea55-7c5c-4a39-8d51-df2c86e553f6",
   "metadata": {
    "jp-MarkdownHeadingCollapsed": true
   },
   "outputs": [],
   "source": [
    "# Import libraries\n",
    "import os\n",
    "import sys\n",
    "import json\n",
    "import boto3\n",
    "import base64\n",
    "import logging\n",
    "from datetime import datetime\n",
    "from IPython.display import display, Image, Video, IFrame\n",
    "\n",
    "# Local video util library\n",
    "sys.path.append('../../video-generation/python')\n",
    "import amazon_video_util"
   ]
  },
  {
   "cell_type": "code",
   "execution_count": null,
   "id": "4db29412-9e0b-49ef-a473-047b524ebcc5",
   "metadata": {
    "jp-MarkdownHeadingCollapsed": true
   },
   "outputs": [],
   "source": [
    "# Constants\n",
    "IMAGE_MODEL_ID = \"amazon.nova-canvas-v1:0\"\n",
    "VIDEO_MODEL_ID = \"amazon.nova-reel-v1:0\"\n",
    "VIDEO_TARGET_S3_BUCKET = \"BUCKET_NAME\" # Change to an existing Amazon S3 bucket name"
   ]
  },
  {
   "cell_type": "code",
   "execution_count": null,
   "id": "29059a59-f10f-4e65-be8a-d5f9809b7565",
   "metadata": {},
   "outputs": [],
   "source": [
    "# Create the logger\n",
    "logging.basicConfig(level=logging.INFO, format='[%(levelname)s] %(message)s')\n",
    "logger = logging.getLogger(__name__)\n",
    "\n",
    "# Set default region and credentials\n",
    "boto3.setup_default_session(\n",
    "    region_name=\"us-east-1\"\n",
    ")\n",
    "\n",
    "# Create the Amazon Bedrock Runtime client\n",
    "client = boto3.client(\"bedrock-runtime\")"
   ]
  },
  {
   "cell_type": "markdown",
   "id": "12fc62e0-2da8-4412-924b-9d5631a9c31c",
   "metadata": {},
   "source": [
    "If you were born in the 1980s, this is undoubtedly an intro you would remember!"
   ]
  },
  {
   "cell_type": "code",
   "execution_count": null,
   "id": "f509731a-efa5-43e1-affe-58a58e993bb1",
   "metadata": {},
   "outputs": [],
   "source": [
    "display(IFrame(\"https://www.youtube.com/embed/VzZN9AVBS1I?start=89\", width=512, height=256))"
   ]
  },
  {
   "cell_type": "markdown",
   "id": "ad9901bf-1724-4442-a02e-0ed158129826",
   "metadata": {},
   "source": [
    "Suppose that you want to create a video that essence the suspense of the previous scene: a helicopter hovering near a lush green island, seemingly poised for an enigmatic purpose. Below is the request we'll submit to **Amazon Nova Reel** to bring this moment to life (review each comment to understand each parameter)."
   ]
  },
  {
   "cell_type": "code",
   "execution_count": null,
   "id": "06a8426b-63e8-4791-bb56-06138f868524",
   "metadata": {},
   "outputs": [],
   "source": [
    "request = {\n",
    "    \"taskType\": \"TEXT_VIDEO\", # TEXT_VIDEO (MULTI_SHOT_MANUAL and MULTI_SHOT_AUTOMATED with Amazon Nova Reel 1.1)\n",
    "    \"textToVideoParams\": {\n",
    "        \"text\": # Describe the camera position and the main object/character\n",
    "                \"Aerial shot of a grey and blue helicopter with blades moving rapidly.\" +\n",
    "                # Describe the object/character movement\n",
    "                \"The helicopter is heading an imposing island with lush mountains rising from stormy waters.\" +\n",
    "                # Describe any other relevant element\n",
    "                \"A solitary sea stack stands isolated in the bottom left.\" +\n",
    "                # Describe light\n",
    "                \"Moody storm clouds cast dramatic shadows across the landscape.\" +\n",
    "                # Describe colors\n",
    "                \"Emerald greens contrasted with steel grays and deep blues.\" +\n",
    "                # Describe style and quality\n",
    "                \"Cinematic, 4K.\" +\n",
    "                # Describe the camera movement\n",
    "                \"Dolly forward.\"\n",
    "    },\n",
    "    \"videoGenerationConfig\": {\n",
    "        \"durationSeconds\": 6,  # 6 second (Up to two minutes with Amazon Nova Reel 1.1)\n",
    "        \"fps\": 24,  # Only supported value currently\n",
    "        \"dimension\": \"1280x720\",  # Only supported value currently\n",
    "        \"seed\": 1 # You can randomize this for different results\n",
    "    },\n",
    "}"
   ]
  },
  {
   "cell_type": "markdown",
   "id": "bf0e0b8c-22a0-428d-ab6a-92ae54c86110",
   "metadata": {},
   "source": [
    "Let's invoke **Amazon Nova Reel**."
   ]
  },
  {
   "cell_type": "code",
   "execution_count": null,
   "id": "d0810482-fc64-40b2-aa0d-b80225fb99a8",
   "metadata": {},
   "outputs": [],
   "source": [
    "try:\n",
    "    # Start the asynchronous video generation job\n",
    "    invocation = client.start_async_invoke(\n",
    "        modelId=VIDEO_MODEL_ID,\n",
    "        modelInput=request,\n",
    "        outputDataConfig={\"s3OutputDataConfig\": {\"s3Uri\": f\"s3://{VIDEO_TARGET_S3_BUCKET}\"}},\n",
    "    )\n",
    "\n",
    "    # Invocation Amazon Resource Name (ARN) to monitor the video generation\n",
    "    invocation_arn = invocation[\"invocationArn\"]\n",
    "\n",
    "    # Save the invocation details for monitoring (helpful for debugging and reporting feedback)\n",
    "    amazon_video_util.save_invocation_info(invocation, VIDEO_MODEL_ID)\n",
    "\n",
    "except Exception as e:\n",
    "    logger.error(e)"
   ]
  },
  {
   "cell_type": "code",
   "execution_count": null,
   "id": "96a28228-812f-4d8c-be90-721e582e18ea",
   "metadata": {},
   "outputs": [],
   "source": [
    "# Monitoring and downloading the video\n",
    "output_directory_video = amazon_video_util.monitor_and_download_video(invocation_arn, \"output\")"
   ]
  },
  {
   "cell_type": "code",
   "execution_count": null,
   "id": "964e7059-b305-4073-9dc6-8aea0e25494a",
   "metadata": {},
   "outputs": [],
   "source": [
    "Video(output_directory_video, embed=True, height=300)"
   ]
  },
  {
   "cell_type": "markdown",
   "id": "533c7c9d-10de-46fa-9166-bb735266c266",
   "metadata": {},
   "source": [
    "What do you think? As you can see, the prompt utilized here shows a high level of organization and specificity. To enhance such prompts, you can take advantage of **Amazon Nova Pro** to suggest alternative wording, improve descriptive elements, or restructure your prompt entirely to make it more effective.\n",
    "\n",
    "Additionally [Amazon Bedrock Playground](https://docs.aws.amazon.com/bedrock/latest/userguide/playgrounds.html) can be crucial in the testing part allowing to quickly iterate and copy the API request once the results are satisfying.\n",
    "\n",
    "Finally, if you want to deep dive into the **Amazon Nova Reel** best practices, be sure to check out this [documentation](https://docs.aws.amazon.com/nova/latest/userguide/prompting-video-generation.html) and this great [blog]( https://aws.amazon.com/blogs/machine-learning/image-and-video-prompt-engineering-for-amazon-nova-canvas-and-amazon-nova-reel/) full of examples."
   ]
  },
  {
   "cell_type": "markdown",
   "id": "ac03b939-d29a-4169-bcec-941def5e4166",
   "metadata": {},
   "source": [
    "Now we are using a different approach - starting with a base image and generating dynamic movement from it. This method ensures consistent visual quality while creating compelling motion through precise camera direction."
   ]
  },
  {
   "cell_type": "markdown",
   "id": "2ab69c61-db50-47c6-9c21-ce4eb0afa7ef",
   "metadata": {},
   "source": [
    "Below is the request we'll use to generate the source image of the video (review each comment to understand each parameter). We will use the same prompt text as for the video but excluding the helicopter, the movement, and changing the camera position.\n"
   ]
  },
  {
   "cell_type": "code",
   "execution_count": null,
   "id": "0743a13e-694f-46d1-885c-87e2fd7097c1",
   "metadata": {},
   "outputs": [],
   "source": [
    "request = {\n",
    "    \"taskType\": \"TEXT_IMAGE\",\n",
    "    \"textToImageParams\": {\n",
    "        \"text\": \"\"\"Low angle shot of an imposing island with lush mountains rising from stormy waters.\n",
    "                   A solitary sea stack stands isolated in the bottom left.\n",
    "                   Moody storm clouds cast dramatic shadows across the landscape.\n",
    "                   Emerald greens contrasted with steel grays and deep blues.\n",
    "                   Cinematic, 4K.\"\"\"\n",
    "    },\n",
    "    \"imageGenerationConfig\": {\n",
    "        \"numberOfImages\": 1, # Number of images to generate\n",
    "        # Supported image resolutions: https://docs.aws.amazon.com/nova/latest/userguide/image-gen-access.html#image-gen-resolutions\n",
    "        \"height\": 720,\n",
    "        \"width\": 1280,\n",
    "        \"quality\": \"premium\", # premium or standard\n",
    "        \"cfgScale\": 10, # Image adherence to the prompt (1.1 to 10, lower values more randomness)\n",
    "        \"seed\": 45 # You can randomize this for different results\n",
    "    }\n",
    "}"
   ]
  },
  {
   "cell_type": "markdown",
   "id": "8c238b79-e183-437d-9392-24eba693e668",
   "metadata": {},
   "source": [
    "Let's invoke **Amazon Nova Canvas**."
   ]
  },
  {
   "cell_type": "code",
   "execution_count": null,
   "id": "5b0b1c35-3d56-49bd-976c-c5df7ae1c64a",
   "metadata": {},
   "outputs": [],
   "source": [
    "try:\n",
    "    # Invoke the model\n",
    "    response = client.invoke_model(\n",
    "        modelId=IMAGE_MODEL_ID,\n",
    "        body=json.dumps(request)\n",
    "    )\n",
    "    # Parse the response\n",
    "    response_body = json.loads(response[\"body\"].read())\n",
    "    \n",
    "    # Extract the base64 image data\n",
    "    base64_image = response_body[\"images\"][0]\n",
    "    \n",
    "    # Create output directory if it doesn't exist\n",
    "    output_dir = \"output\"\n",
    "    if not os.path.exists(output_dir):\n",
    "        os.makedirs(output_dir)\n",
    "\n",
    "    # Generate timestamp\n",
    "    timestamp = datetime.now().strftime(\"%Y%m%d_%H%M%S\")\n",
    "    \n",
    "    # Create filename with random number\n",
    "    image_filename = f\"image_{timestamp}.png\"\n",
    "    image_path = os.path.join(output_dir, image_filename)\n",
    "    with open(image_path, \"wb\") as f:\n",
    "        f.write(base64.b64decode(base64_image))\n",
    "\n",
    "except Exception as e:\n",
    "    logger.error(e)"
   ]
  },
  {
   "cell_type": "code",
   "execution_count": null,
   "id": "30de5fb9-b103-4dca-b3d6-df90e46e0e40",
   "metadata": {},
   "outputs": [],
   "source": [
    "display(Image(filename=image_path, width=512))"
   ]
  },
  {
   "cell_type": "markdown",
   "id": "5518c5f6-61e0-45b4-9835-6d5049bc073e",
   "metadata": {},
   "source": [
    "We use the previous image as input and as prompt text, we only detail the movement of the camera: Dolly forward."
   ]
  },
  {
   "cell_type": "code",
   "execution_count": null,
   "id": "a07b9c39-f2b3-4ec2-bb16-d7d6fd820ffc",
   "metadata": {},
   "outputs": [],
   "source": [
    "request = {\n",
    "    \"taskType\": \"TEXT_VIDEO\",\n",
    "    \"textToVideoParams\": {\n",
    "        \"text\": \"Dolly forward.\",\n",
    "        \"images\": [\n",
    "            {\n",
    "                \"format\": \"png\", # png or jpeg\n",
    "                \"source\": {\n",
    "                    \"bytes\": base64_image\n",
    "                }\n",
    "            }\n",
    "        ]},\n",
    "    \"videoGenerationConfig\": {\n",
    "        \"durationSeconds\": 6,\n",
    "        \"fps\": 24,\n",
    "        \"dimension\": \"1280x720\",\n",
    "        \"seed\": 1\n",
    "    },\n",
    "}"
   ]
  },
  {
   "cell_type": "markdown",
   "id": "bf089dca-602f-4dd4-9af9-85aa58689e3d",
   "metadata": {},
   "source": [
    "Let's invoke **Amazon Nova Reel**."
   ]
  },
  {
   "cell_type": "code",
   "execution_count": null,
   "id": "3ac8df70-5a34-4a28-9694-14b80283a1b9",
   "metadata": {},
   "outputs": [],
   "source": [
    "try:\n",
    "    # Start the asynchronous video generation job\n",
    "    invocation = client.start_async_invoke(\n",
    "        modelId=VIDEO_MODEL_ID,\n",
    "        modelInput=request,\n",
    "        outputDataConfig={\"s3OutputDataConfig\": {\"s3Uri\": f\"s3://{VIDEO_TARGET_S3_BUCKET}\"}},\n",
    "    )\n",
    "\n",
    "    # Invocation Amazon Resource Name (ARN) to monitor the video generation\n",
    "    invocation_arn = invocation[\"invocationArn\"]\n",
    "\n",
    "    # Save the invocation details for monitoring (helpful for debugging and reporting feedback)\n",
    "    amazon_video_util.save_invocation_info(invocation, VIDEO_MODEL_ID)\n",
    "\n",
    "except Exception as e:\n",
    "    logger.error(e)"
   ]
  },
  {
   "cell_type": "code",
   "execution_count": null,
   "id": "eb59185d-8342-400b-bcc7-a8574343b0a5",
   "metadata": {},
   "outputs": [],
   "source": [
    "# Monitoring and downloading the video\n",
    "output_directory_video = amazon_video_util.monitor_and_download_video(invocation_arn, \"output\")"
   ]
  },
  {
   "cell_type": "code",
   "execution_count": null,
   "id": "c938e76c-25a1-48e4-8293-888fcf80e5bf",
   "metadata": {},
   "outputs": [],
   "source": [
    "Video(output_directory_video, embed=True, height=300)"
   ]
  },
  {
   "cell_type": "markdown",
   "id": "09e4a020-60bf-49c0-8a98-8a00dcf11e66",
   "metadata": {},
   "source": [
    "Let's continue with another scene. Have you seen this famous dust explosion in slow motion?"
   ]
  },
  {
   "cell_type": "code",
   "execution_count": null,
   "id": "da05ea1d-4774-4e5a-a150-c08c169975fc",
   "metadata": {},
   "outputs": [],
   "source": [
    "display(IFrame(\"https://www.youtube.com/embed/o66mUfzI3iw?start=185\", width=512, height=256))"
   ]
  },
  {
   "cell_type": "markdown",
   "id": "09cb95fb-be7b-411f-8a20-3f7d7f79af94",
   "metadata": {},
   "source": [
    "**Amazon Nova Reel** not only allows you to control the camera movement, but also the speed. Let's try to replicate the previous epic explosion."
   ]
  },
  {
   "cell_type": "code",
   "execution_count": null,
   "id": "829f671b-e323-4ad3-89b6-01b56b749d91",
   "metadata": {},
   "outputs": [],
   "source": [
    "request = {\n",
    "    \"taskType\": \"TEXT_VIDEO\",\n",
    "    \"textToVideoParams\": {\n",
    "        \"text\": \"\"\"Slow motion massive dust explosion in an urban setting.\n",
    "                   Dust and debris erupt up to the sky occuping the full image.\n",
    "                   Cinematic, 4K.\"\"\"\n",
    "    },\n",
    "    \"videoGenerationConfig\": {\n",
    "        \"durationSeconds\": 6,\n",
    "        \"fps\": 24,\n",
    "        \"dimension\": \"1280x720\",\n",
    "        \"seed\": 0\n",
    "    },\n",
    "}"
   ]
  },
  {
   "cell_type": "code",
   "execution_count": null,
   "id": "4bb23dab-3ebc-4ce1-aa56-fb3c7b5503b6",
   "metadata": {},
   "outputs": [],
   "source": [
    "try:\n",
    "    # Start the asynchronous video generation job\n",
    "    invocation = client.start_async_invoke(\n",
    "        modelId=VIDEO_MODEL_ID,\n",
    "        modelInput=request,\n",
    "        outputDataConfig={\"s3OutputDataConfig\": {\"s3Uri\": f\"s3://{VIDEO_TARGET_S3_BUCKET}\"}},\n",
    "    )\n",
    "\n",
    "    # Invocation Amazon Resource Name (ARN) to monitor the video generation\n",
    "    invocation_arn = invocation[\"invocationArn\"]\n",
    "\n",
    "    # Save the invocation details for monitoring (helpful for debugging and reporting feedback)\n",
    "    amazon_video_util.save_invocation_info(invocation, VIDEO_MODEL_ID)\n",
    "\n",
    "except Exception as e:\n",
    "    logger.error(e)"
   ]
  },
  {
   "cell_type": "code",
   "execution_count": null,
   "id": "63847647-63f6-4290-ba85-3a69db10ce49",
   "metadata": {},
   "outputs": [],
   "source": [
    "# Monitoring and downloading the video\n",
    "output_directory_video = amazon_video_util.monitor_and_download_video(invocation_arn, \"output\")"
   ]
  },
  {
   "cell_type": "code",
   "execution_count": null,
   "id": "9c15e66b-0d5d-4f53-9703-7c7b471f9d39",
   "metadata": {},
   "outputs": [],
   "source": [
    "Video(output_directory_video, embed=True, height=300)"
   ]
  },
  {
   "cell_type": "markdown",
   "id": "774dd5d2-b59a-4262-b654-5d31dbbfc2ca",
   "metadata": {},
   "source": [
    "Is it close to the real one? If you want to deep dive in the camera positions and speed, please check this [documentation](https://docs.aws.amazon.com/nova/latest/userguide/prompting-video-camera-control.html)."
   ]
  },
  {
   "cell_type": "markdown",
   "id": "9463eec3-4a13-40d4-94a5-ab00cbd085a8",
   "metadata": {},
   "source": [
    "Let's embark on a adventure into the depths of space. I'm inviting you to help recreate one of the most memorable scenes from cinema's greatest space epics. Can you guess which film moment I'm thinking of?"
   ]
  },
  {
   "cell_type": "code",
   "execution_count": null,
   "id": "7a04c3c5-60b0-43d7-a12a-9ca1494bffe8",
   "metadata": {},
   "outputs": [],
   "source": [
    "display(IFrame(\"https://www.youtube.com/embed/qckDs0ODemg?start=86\", width=512, height=256))"
   ]
  },
  {
   "cell_type": "code",
   "execution_count": null,
   "id": "574e6725-14cd-4e4e-a327-bf620d2a1e41",
   "metadata": {},
   "outputs": [],
   "source": [
    "request = {\n",
    "    \"taskType\": \"TEXT_VIDEO\",\n",
    "    \"textToVideoParams\": {\n",
    "        \"text\": \"\"\"First-person view inside a spacecraft cockpit entering hyperspace.\n",
    "                   Stars visible through windshield begin stretching into blue-white streaks, creating a radial tunnel effect.\n",
    "                   Control panels with blinking lights frame the view.\n",
    "                   The cockpit illuminates with cool blue glow as the hyperjump intensifies.\n",
    "                   Capture the sensation of incredible speed from the safety of the pilot's seat.\"\"\"\n",
    "    },\n",
    "    \"videoGenerationConfig\": {\n",
    "        \"durationSeconds\": 6,\n",
    "        \"fps\": 24,\n",
    "        \"dimension\": \"1280x720\",\n",
    "        \"seed\": 2\n",
    "    },\n",
    "}"
   ]
  },
  {
   "cell_type": "code",
   "execution_count": null,
   "id": "bce1740d-50b0-4aac-a846-dae36ff4b5bf",
   "metadata": {},
   "outputs": [],
   "source": [
    "try:\n",
    "    # Start the asynchronous video generation job\n",
    "    invocation = client.start_async_invoke(\n",
    "        modelId=VIDEO_MODEL_ID,\n",
    "        modelInput=request,\n",
    "        outputDataConfig={\"s3OutputDataConfig\": {\"s3Uri\": f\"s3://{VIDEO_TARGET_S3_BUCKET}\"}},\n",
    "    )\n",
    "\n",
    "    # Invocation Amazon Resource Name (ARN) to monitor the video generation\n",
    "    invocation_arn = invocation[\"invocationArn\"]\n",
    "\n",
    "    # Save the invocation details for monitoring (helpful for debugging and reporting feedback)\n",
    "    amazon_video_util.save_invocation_info(invocation, VIDEO_MODEL_ID)\n",
    "\n",
    "except Exception as e:\n",
    "    logger.error(e)"
   ]
  },
  {
   "cell_type": "code",
   "execution_count": null,
   "id": "5e9f9924-495b-474d-a47c-66a333d4114c",
   "metadata": {},
   "outputs": [],
   "source": [
    "# Monitoring and downloading the video\n",
    "output_directory_video = amazon_video_util.monitor_and_download_video(invocation_arn, \"output\")"
   ]
  },
  {
   "cell_type": "code",
   "execution_count": null,
   "id": "c6e4f8b1-956f-463e-b219-d064e99104ec",
   "metadata": {},
   "outputs": [],
   "source": [
    "Video(output_directory_video, embed=True, height=300)"
   ]
  },
  {
   "cell_type": "markdown",
   "id": "e4f6fe30-4538-43c5-bc29-c6b3e88abf6f",
   "metadata": {},
   "source": [
    "Feel free to modify this notebook to try to replicate your favorite scenes from your preferred movies!"
   ]
  }
 ],
 "metadata": {
  "kernelspec": {
   "display_name": "Python 3 (ipykernel)",
   "language": "python",
   "name": "python3"
  },
  "language_info": {
   "codemirror_mode": {
    "name": "ipython",
    "version": 3
   },
   "file_extension": ".py",
   "mimetype": "text/x-python",
   "name": "python",
   "nbconvert_exporter": "python",
   "pygments_lexer": "ipython3",
   "version": "3.11.11"
  }
 },
 "nbformat": 4,
 "nbformat_minor": 5
}
