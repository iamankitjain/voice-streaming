{
 "cells": [
  {
   "cell_type": "markdown",
   "id": "9ceb9d55",
   "metadata": {},
   "source": [
    "## Introduction to Color Conditioning\n",
    "\n",
    "In this notebook, we will be focusing on **Color Conditioning** feature, which allows you to specify precise color values to control the color palette of generated images. Optionally, you may also supply a reference image to generate visuals that combine the specified color palette with the styling inherited from the reference.\n",
    "\n",
    "### Use Case\n",
    "\n",
    "OctankFashion knows that their customers care a lot about incorporating their perfect wedding colors into the apparel for their special day. OctankFashion's designers are excited to use AI to help them design fun and colorful accessories, starting with new line of patterned bow ties.\n"
   ]
  },
  {
   "cell_type": "markdown",
   "id": "cea8a44c",
   "metadata": {},
   "source": [
    "<div class=\"alert alert-block alert-warning\">\n",
    "<b>Prerequisites:</b> Please run the prerequiresites <b>00-prerequisites.ipynb</b> first before proceeding.\n",
    "</div>\n"
   ]
  },
  {
   "cell_type": "code",
   "execution_count": null,
   "id": "208dc3d8",
   "metadata": {},
   "outputs": [],
   "source": [
    "import io\n",
    "import json\n",
    "import base64\n",
    "import boto3\n",
    "from botocore.config import Config\n",
    "from PIL import Image\n",
    "from utils import (\n",
    "    save_image,\n",
    "    plot_color_conditioning,\n",
    "    plot_images_for_comparison,\n",
    "    create_color_palette_image,\n",
    ")\n",
    "from string import Template\n",
    "\n",
    "bedrock_runtime_client = boto3.client(\n",
    "    \"bedrock-runtime\",\n",
    "    region_name=\"us-east-1\",\n",
    "    config=Config(\n",
    "        read_timeout=5 * 60\n",
    "    ),  # IMPORTANT: Increase the read timeout to 5 minutes to support longer operations.\n",
    ")\n",
    "image_generation_model_id = \"amazon.nova-canvas-v1:0\"\n",
    "output_dir = \"output\""
   ]
  },
  {
   "cell_type": "markdown",
   "id": "cb86afd2",
   "metadata": {},
   "source": [
    "### Example 1: Color conditioning with color values\n",
    "\n",
    "Color conditioning enables control over the color palette of generated images by providing a list of colors expressed as hexidecimal color codes. This is useful for adhering to brand guidelines or specific design requirements.\n",
    "\n",
    "In the code below, we define a prompt template that lets us generate a number of different patterned bow ties. The `colors` list defines the exact colors we want to incorporate into each design.\n",
    "\n",
    "Run the cells below to generate some bowtie designs. The generated images will be saved to the \"output\" folder.\n"
   ]
  },
  {
   "cell_type": "code",
   "execution_count": null,
   "id": "48e8160f",
   "metadata": {},
   "outputs": [],
   "source": [
    "# Define a prompt template and a set of \"pattern\" values that will be used with the template.\n",
    "prompt_template = Template(\"a patterned bowtie, $pattern, on solid white background\")\n",
    "patterns = [\"paisley\", \"striped\", \"floral\"]\n",
    "\n",
    "# Define the main input parameters.\n",
    "colors = [\"#FFFFFF\", \"#FF9900\", \"#F2F2F2\", \"#232F3E\"]\n",
    "seed = 35"
   ]
  },
  {
   "cell_type": "code",
   "execution_count": null,
   "id": "a8b490db",
   "metadata": {},
   "outputs": [],
   "source": [
    "generated_images = []\n",
    "\n",
    "# Generate images for each pattern.\n",
    "for index, pattern in enumerate(patterns):\n",
    "\n",
    "    # Generate image condition on color palette\n",
    "    body = json.dumps(\n",
    "        {\n",
    "            \"taskType\": \"COLOR_GUIDED_GENERATION\",\n",
    "            \"colorGuidedGenerationParams\": {\n",
    "                \"text\": prompt_template.substitute({\"pattern\": pattern}),\n",
    "                \"colors\": colors,\n",
    "            },\n",
    "            \"imageGenerationConfig\": {\n",
    "                \"numberOfImages\": 1,  # Number of images to generate, up to 5\n",
    "                \"cfgScale\": 6.5,  # How closely the prompt will be followed\n",
    "                \"width\": 1024,\n",
    "                \"height\": 1024,\n",
    "                \"seed\": seed,\n",
    "                \"quality\": \"standard\",  # Quality of either \"standard\" or \"premium\"\n",
    "            },\n",
    "        }\n",
    "    )\n",
    "\n",
    "    print(f\"Generating image {index + 1} of {len(patterns)}...\")\n",
    "\n",
    "    response = bedrock_runtime_client.invoke_model(\n",
    "        body=body,\n",
    "        modelId=image_generation_model_id,\n",
    "        accept=\"application/json\",\n",
    "        contentType=\"application/json\",\n",
    "    )\n",
    "\n",
    "    response_body = json.loads(response.get(\"body\").read())\n",
    "\n",
    "    base64_images = response_body.get(\"images\")\n",
    "    image_path = f\"{output_dir}/07-color-conditioning_pattern-{pattern}.png\"\n",
    "    save_image(base64_images[0], image_path)\n",
    "    print(f\"Saved image to {image_path}\")\n",
    "\n",
    "    generated_img = [\n",
    "        Image.open(io.BytesIO(base64.b64decode(base64_image)))\n",
    "        for base64_image in base64_images\n",
    "    ]\n",
    "    generated_images.append(generated_img[0])\n",
    "\n",
    "# Display the color palette.\n",
    "color_palette_image = create_color_palette_image(\n",
    "    colors, width=400, height=50, border_color=\"#cccccc\", border_width=2\n",
    ")\n",
    "display(color_palette_image)\n",
    "\n",
    "# Plot comparison images\n",
    "plot_images_for_comparison(\n",
    "    generated_images=generated_images,\n",
    "    labels=patterns,\n",
    "    prompt=prompt_template.substitute({\"pattern\": \"#pattern\"}),\n",
    "    comparison_mode=True,\n",
    "    title_prefix=\"Pattern:\",\n",
    ")"
   ]
  },
  {
   "cell_type": "markdown",
   "id": "7ee33314",
   "metadata": {},
   "source": [
    "<div class=\"alert alert-block alert-info\">\n",
    "<strong>💡 Bonus Activity:</strong> Change the color values (up to 10) to define your own color palette. You can use the online <a href=\"https://g.co/kgs/98bBfY5\" target=\"_blank\">Google Color Picker</a> to select a color and get it's hex value. Try editing the styles list to define your own styles.\n",
    "</div>\n"
   ]
  },
  {
   "cell_type": "markdown",
   "id": "35d99799",
   "metadata": {},
   "source": [
    "# Take Away\n",
    "\n",
    "The Nova Canvas color conditioning feature allows customers to control the color palette of generated images, whether to adhere to a brand style guide or simply to gain more control over the final image look.\n",
    "\n",
    "We encourage users to explore these new functionalities within Amazon Bedrock to experience the expanded potential for creating precise, customized visual contents.\n"
   ]
  }
 ],
 "metadata": {
  "kernelspec": {
   "display_name": ".venv",
   "language": "python",
   "name": "python3"
  },
  "language_info": {
   "codemirror_mode": {
    "name": "ipython",
    "version": 3
   },
   "file_extension": ".py",
   "mimetype": "text/x-python",
   "name": "python",
   "nbconvert_exporter": "python",
   "pygments_lexer": "ipython3",
   "version": "3.12.4"
  }
 },
 "nbformat": 4,
 "nbformat_minor": 5
}
