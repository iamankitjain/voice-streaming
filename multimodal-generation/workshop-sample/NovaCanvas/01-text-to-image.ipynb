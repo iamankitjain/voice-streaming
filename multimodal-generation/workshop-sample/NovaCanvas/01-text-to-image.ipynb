{
 "cells": [
  {
   "cell_type": "markdown",
   "metadata": {},
   "source": [
    "# Introduction\n",
    "\n",
    "Welcome to the Amazon Nova Canvas Workshop! In this hands-on session, we'll explore the powerful capabilities of Amazon's latest image generation foundation model. You'll experience how **OctankFashion**, a fictional clothing brand, applies the model's rich set of features to a range of tasks – from clothing design to marketing and advertising to retail.\n",
    "\n",
    "## Use Case\n",
    "\n",
    "OctankFashion would like to leverage AI image generation to streamline both their clothing design process and the production of marketing and advertising imagery. Specific tasks will include:\n",
    "\n",
    "1. Use AI to iterate on new t-shirt designs.\n",
    "2. After designing a t-shirt, use AI to create a new summer-themed variation of that shirt.\n",
    "3. Create a special promotional photo featuring the shirt in a lifestyle setting.\n",
    "4. Take existing successful clothing ads and remove the background so the clothing component can be used as the product image on their retail website.\n",
    "\n",
    "## Workshop Objectives\n",
    "\n",
    "By the end of this workshop, you will:\n",
    "\n",
    "1. Understand the key features of Amazon Nova Canvas model.\n",
    "2. Learn how to use these features for design, marketing, and retail use cases.\n",
    "3. Gain hands-on experience with the Amazon Bedrock API for image generation tasks.\n",
    "\n",
    "## Features We'll Use\n",
    "\n",
    "During the workshop, we'll leverage the following features of Amazon Nova Canvas:\n",
    "\n",
    "1. Text-to-Image\n",
    "2. Inpainting\n",
    "3. Outpainting\n",
    "4. Background Removal\n",
    "5. Image Variation\n",
    "6. Image Conditioning\n",
    "7. Color Conditioning\n"
   ]
  },
  {
   "cell_type": "markdown",
   "metadata": {},
   "source": [
    "<div class=\"alert alert-block alert-warning\">\n",
    "<b>Prerequisites:</b> Please run the prerequiresites <b>00-prerequisites.ipynb</b> first before proceeding.\n",
    "</div>\n"
   ]
  },
  {
   "cell_type": "markdown",
   "metadata": {},
   "source": [
    "## Introduction to Text-To-Image\n",
    "\n",
    "The simplest way to use the model is to generate images based on a text description. In Nova Canvas, this mode of generation is identified with a `taskType` of \"TEXT_IMAGE\". In this notebook, you'll explore a few of the parameters supported by the \"TEXT_IMAGE\" task type.\n",
    "\n",
    "To begin, run the cell below to create an instance of the Bedrock Runtime client. We'll use this to call the model later.\n",
    "\n",
    "<div class=\"alert alert-block alert-warning\">\n",
    "<strong>⚠️ Important:</strong> Note that we configure the client to use a longer read timeout of 5 minutes. This is a best practice when working with Nova Canvas because, depending on the parameters you configure and the number of images you request, processing can take longer than the AWS SDK default timeout of 60 seconds.\n",
    "</div>\n"
   ]
  },
  {
   "cell_type": "code",
   "execution_count": null,
   "metadata": {},
   "outputs": [],
   "source": [
    "import io\n",
    "import json\n",
    "import base64\n",
    "import boto3\n",
    "from botocore.config import Config\n",
    "from PIL import Image\n",
    "from utils import save_image, plot_images, plot_images_for_comparison\n",
    "\n",
    "bedrock_runtime_client = boto3.client(\n",
    "    \"bedrock-runtime\",\n",
    "    region_name=\"us-east-1\",\n",
    "    config=Config(\n",
    "        read_timeout=5 * 60\n",
    "    ),  # IMPORTANT: Increase the read timeout to 5 minutes to support longer operations.\n",
    ")\n",
    "image_generation_model_id = \"amazon.nova-canvas-v1:0\"\n",
    "output_dir = \"output\""
   ]
  },
  {
   "cell_type": "markdown",
   "metadata": {},
   "source": [
    "#### Example 1: Exploring the \"seed\" parameter\n",
    "\n",
    "Let's first generate some t-shirts with dog designs on them. We'll use the following text prompt:\n",
    "\n",
    "> A men's collared white t-shirt, with a dog image in the center; the whole shirt is visible\n",
    "\n",
    "_For guidance on how to write effective image generation prompts, see the [Amazon Nova Canvas Prompting Guide]()_\n",
    "\n",
    "We want to generate a few designs that we can choose from. The `seed` parameter can help with this.\n",
    "\n",
    "The `seed` parameter provides a way to introduce randomness into the output for a given text prompt. Using different seed values while leaving the text prompt unchanged will produce images that all adhere to the prompt but vary in their visual appearance. For this reason, `seed` can be an useful way to produce many different variations based on a single text prompt.\n",
    "\n",
    "Let's see how different seed values can impact the results. Run the cells below. The generated images will be saved to the \"output\" folder.\n"
   ]
  },
  {
   "cell_type": "code",
   "execution_count": null,
   "metadata": {},
   "outputs": [],
   "source": [
    "# Define the main input parameters.\n",
    "text = \"A men's collared white t-shirt, with a dog image in the center; the whole shirt is visible\"\n",
    "seed_values = [1, 12, 20]  # Any number from 0 through 858,993,459"
   ]
  },
  {
   "cell_type": "code",
   "execution_count": null,
   "metadata": {},
   "outputs": [],
   "source": [
    "generated_images = []\n",
    "\n",
    "# Generate image using only a text prompt.\n",
    "for index, seed in enumerate(seed_values):\n",
    "    body = json.dumps(\n",
    "        {\n",
    "            \"taskType\": \"TEXT_IMAGE\",\n",
    "            \"textToImageParams\": {\"text\": text},\n",
    "            \"imageGenerationConfig\": {\n",
    "                \"numberOfImages\": 1,  # Number of images to generate, up to 5\n",
    "                \"width\": 1024,\n",
    "                \"height\": 1024,\n",
    "                \"cfgScale\": 6.5,  # How closely the prompt will be followed\n",
    "                \"seed\": seed,  # Any number from 0 through 858,993,459\n",
    "                \"quality\": \"premium\",  # Quality of either \"standard\" or \"premium\"\n",
    "            },\n",
    "        }\n",
    "    )\n",
    "\n",
    "    print(f\"Generating image {index + 1} of {len(seed_values)}...\")\n",
    "\n",
    "    response = bedrock_runtime_client.invoke_model(\n",
    "        body=body,\n",
    "        modelId=image_generation_model_id,\n",
    "        accept=\"application/json\",\n",
    "        contentType=\"application/json\",\n",
    "    )\n",
    "\n",
    "    response_body = json.loads(response.get(\"body\").read())\n",
    "\n",
    "    base64_images = response_body.get(\"images\")\n",
    "    image_path = f\"{output_dir}/01-text-to-image_seed-{seed}.png\"\n",
    "    save_image(base64_images[0], image_path)\n",
    "\n",
    "    print(f\"Saved to {image_path}\")\n",
    "\n",
    "    generated_img = [\n",
    "        Image.open(io.BytesIO(base64.b64decode(base64_image)))\n",
    "        for base64_image in base64_images\n",
    "    ]\n",
    "    generated_images.append(generated_img[0])\n",
    "\n",
    "# Plot comparison images\n",
    "plot_images_for_comparison(\n",
    "    generated_images=generated_images,\n",
    "    labels=seed_values,\n",
    "    prompt=text,\n",
    "    comparison_mode=True,\n",
    "    title_prefix=\"Seed\",\n",
    ")"
   ]
  },
  {
   "cell_type": "markdown",
   "metadata": {},
   "source": [
    "<div class=\"alert alert-block alert-info\">\n",
    "<strong>💡 Bonus Activity:</strong> Try different seeds to generate a different set of variations. Try a different prompt to make more drastic changes.\n",
    "</div>\n"
   ]
  },
  {
   "cell_type": "markdown",
   "metadata": {},
   "source": [
    "#### Example 2: Exploring resolution and aspect ratio\n",
    "\n",
    "You can change the image aspect ratio by providing different height and width values. For example, 1024x1024 indicates an aspect ratio of 1:1, while 1280x720 indicates an aspect ratio of 16:9.\n",
    "\n",
    "Nova Canvas supports a wide range of resolutions and aspect ratios. You may use any width and height as long as the resulting resolution adheres to all of the following:\n",
    "\n",
    "- Each side's length is no shorter than 320 and no longer than 4096\n",
    "- Each side's length is evenly divisible by 16\n",
    "- The aspect ratio ranges from 1:4 (portrait) through 4:1 (landscape)\n",
    "- The total number of pixels (width x height) does not exceed 4,194,304 (the equivalent of 2048 x 2048)\n",
    "\n",
    "Let's see how different aspect ratios affect the composition of an image. Run the cells below. The generated images will be saved to the \"output\" folder.\n"
   ]
  },
  {
   "cell_type": "code",
   "execution_count": null,
   "metadata": {},
   "outputs": [],
   "source": [
    "# Define the main input parameters.\n",
    "text = \"A men's collared white t-shirt, with a dog in the center; the whole shirt is visible\"\n",
    "ratio_values = [(1024, 1024), (1280, 720), (672, 1024)]\n",
    "seed = 12"
   ]
  },
  {
   "cell_type": "code",
   "execution_count": null,
   "metadata": {},
   "outputs": [],
   "source": [
    "generated_images = []\n",
    "\n",
    "# Generate image using only a text prompt.\n",
    "for index, ratio in enumerate(ratio_values):\n",
    "    body = json.dumps(\n",
    "        {\n",
    "            \"taskType\": \"TEXT_IMAGE\",\n",
    "            \"textToImageParams\": {\"text\": text},  # A description of what to generate\n",
    "            \"imageGenerationConfig\": {\n",
    "                \"numberOfImages\": 1,  # Number of images to generate, up to 5.\n",
    "                \"width\": ratio[0],\n",
    "                \"height\": ratio[1],\n",
    "                \"cfgScale\": 6.5,  # How closely the prompt will be followed\n",
    "                \"seed\": seed,  # Any number from 0 through 858,993,459\n",
    "                \"quality\": \"standard\",  # Either \"standard\" or \"premium\".\n",
    "            },\n",
    "        }\n",
    "    )\n",
    "\n",
    "    print(f\"Generating image {index + 1} of {len(ratio_values)}...\")\n",
    "\n",
    "    response = bedrock_runtime_client.invoke_model(\n",
    "        body=body,\n",
    "        modelId=image_generation_model_id,\n",
    "        accept=\"application/json\",\n",
    "        contentType=\"application/json\",\n",
    "    )\n",
    "\n",
    "    response_body = json.loads(response.get(\"body\").read())\n",
    "\n",
    "    base64_images = response_body.get(\"images\")\n",
    "    image_path = f\"{output_dir}/01-text-to-image_resolution-{ratio[0]}x{ratio[1]}.png\"\n",
    "    save_image(base64_images[0], image_path)\n",
    "\n",
    "    print(f\"Saved to {image_path}\")\n",
    "\n",
    "    generated_img = [\n",
    "        Image.open(io.BytesIO(base64.b64decode(base64_image)))\n",
    "        for base64_image in base64_images\n",
    "    ]\n",
    "    generated_images.append(generated_img[0])\n",
    "\n",
    "# Plot comparison images\n",
    "plot_images_for_comparison(\n",
    "    generated_images=generated_images,\n",
    "    labels=ratio_values,\n",
    "    prompt=text,\n",
    "    comparison_mode=True,\n",
    "    title_prefix=\"Ratio\",\n",
    ")"
   ]
  },
  {
   "cell_type": "markdown",
   "metadata": {},
   "source": [
    "<div class=\"alert alert-block alert-info\">\n",
    "<strong>💡 Bonus Activity:</strong> Try different seeds and different resolutions to see their effect.\n",
    "</div>\n"
   ]
  },
  {
   "cell_type": "markdown",
   "metadata": {},
   "source": [
    "#### Example 3: Exploring the \"cfgScale\" parameter\n",
    "\n",
    "The `cfgScale` parameter controls how closely your prompt will be followed. In this example, we are going to generate images using different values for `cfgScale` to see their effect.\n",
    "\n",
    "`cfgScale` may be set to min 1.1 up to a max of 10. Lower values give the model more freedom to interpret your prompt loosely. Higher values are more faithful to your prompt, but setting the value too high can result in over-emphasis of some things mentioned in your prompt. The default is 6.5 and is a good starting point.\n",
    "\n",
    "Run the cells below. The generated images will be saved to the \"output\" folder. Note how a value of 10 (the maximum) results in over-emphasis of the \"skate shop\" part of the prompt, adding wheels to everything!\n"
   ]
  },
  {
   "cell_type": "code",
   "execution_count": null,
   "metadata": {
    "tags": []
   },
   "outputs": [],
   "source": [
    "# Define the main input parameters.\n",
    "text = \"A collared white t-shirt with a dog image in the center, the T-shirt is displayed on a headless white mannequin in an skate shop\"\n",
    "cfg_scale = [1.1, 6.5, 10]\n",
    "seed = 42"
   ]
  },
  {
   "cell_type": "code",
   "execution_count": null,
   "metadata": {
    "tags": []
   },
   "outputs": [],
   "source": [
    "generated_images = []\n",
    "\n",
    "# Generate image without reference\n",
    "for index, cfg in enumerate(cfg_scale):\n",
    "    body = json.dumps(\n",
    "        {\n",
    "            \"taskType\": \"TEXT_IMAGE\",\n",
    "            \"textToImageParams\": {\"text\": text},\n",
    "            \"imageGenerationConfig\": {\n",
    "                \"numberOfImages\": 1,  # Number of images to generate, up to 5.\n",
    "                \"width\": 1024,\n",
    "                \"height\": 1024,\n",
    "                \"cfgScale\": cfg,  # How closely the prompt will be followed\n",
    "                \"seed\": seed,  # Any number from 0 through 858,993,459\n",
    "                \"quality\": \"standard\",  # Either \"standard\" or \"premium\".\n",
    "            },\n",
    "        }\n",
    "    )\n",
    "\n",
    "    print(f\"Generating image {index + 1} of {len(cfg_scale)}...\")\n",
    "\n",
    "    response = bedrock_runtime_client.invoke_model(\n",
    "        body=body,\n",
    "        modelId=image_generation_model_id,\n",
    "        accept=\"application/json\",\n",
    "        contentType=\"application/json\",\n",
    "    )\n",
    "\n",
    "    response_body = json.loads(response.get(\"body\").read())\n",
    "\n",
    "    base64_images = response_body.get(\"images\")\n",
    "    image_path = f\"{output_dir}/01-text-to-image_cfgScale-{cfg}.png\"\n",
    "    save_image(base64_images[0], image_path)\n",
    "\n",
    "    print(f\"Saved to {image_path}\")\n",
    "\n",
    "    generated_img = [\n",
    "        Image.open(io.BytesIO(base64.b64decode(base64_image)))\n",
    "        for base64_image in base64_images\n",
    "    ]\n",
    "    generated_images.append(generated_img[0])\n",
    "\n",
    "# Plot comparison images\n",
    "plot_images_for_comparison(\n",
    "    generated_images=generated_images,\n",
    "    labels=cfg_scale,\n",
    "    prompt=text,\n",
    "    comparison_mode=True,\n",
    "    title_prefix=\"Strength\",\n",
    ")"
   ]
  },
  {
   "cell_type": "markdown",
   "metadata": {},
   "source": [
    "## Take Away\n",
    "\n",
    "Text-to-image generation is a powerful feature that empowers users to create visual content from textual descriptions. By simply writing descriptive text prompts, individuals can generate unique and diverse images that match their vision. This innovative tool has wide-ranging applications, from conceptual art and storyboarding to rapid prototyping and visual brainstorming. Whether you're an artist seeking inspiration, a marketer creating promotional materials, or a game developer designing characters, the text-to-image feature of Nova Canvas offers an efficient and accessible way to bring ideas to life visually.\n"
   ]
  }
 ],
 "metadata": {
  "kernelspec": {
   "display_name": ".venv",
   "language": "python",
   "name": "python3"
  },
  "language_info": {
   "codemirror_mode": {
    "name": "ipython",
    "version": 3
   },
   "file_extension": ".py",
   "mimetype": "text/x-python",
   "name": "python",
   "nbconvert_exporter": "python",
   "pygments_lexer": "ipython3",
   "version": "3.12.4"
  }
 },
 "nbformat": 4,
 "nbformat_minor": 4
}
