{
 "cells": [
  {
   "cell_type": "markdown",
   "id": "cf6d26f0-589b-4a95-8337-8f9d28723b85",
   "metadata": {
    "tags": []
   },
   "source": [
    "## Introduction to Inpainting\n",
    "\n",
    "With inpainting, you provide an image to be edited as well as a \"mask\" which defines which part of the image should be changed. The mask may either be provided as a black and white image (`maskImage`) or as a natural language description of what to change (`maskPrompt`). Inpainting can be used to remove items, replace items, or add new items to the original image.\n",
    "\n",
    "### Use Case\n",
    "\n",
    "OctankFashion has decided to refresh their product line for the summer by creating beach themed shirts for men. They want to use the current white collared shirt with a dog on it as a starting point and just replace the dog with a palm tree.\n",
    "\n",
    "Let's use inpainting to help OctankFashion update their summer product line to reflect this change.\n"
   ]
  },
  {
   "cell_type": "markdown",
   "id": "b9c36669-902a-4bbc-be4a-c30592a2f929",
   "metadata": {},
   "source": [
    "<div class=\"alert alert-block alert-warning\">\n",
    "<b>Prerequisites:</b> Please run the prerequiresites <b>00-prerequisites.ipynb</b> first before proceeding.\n",
    "</div>\n"
   ]
  },
  {
   "cell_type": "code",
   "execution_count": null,
   "id": "a3eb1327-0a2e-4542-a0a7-b43ca25374b0",
   "metadata": {
    "tags": []
   },
   "outputs": [],
   "source": [
    "import io\n",
    "import json\n",
    "import base64\n",
    "import boto3\n",
    "from botocore.config import Config\n",
    "from PIL import Image\n",
    "from utils import save_image, plot_images\n",
    "\n",
    "bedrock_runtime_client = boto3.client(\n",
    "    \"bedrock-runtime\",\n",
    "    region_name=\"us-east-1\",\n",
    "    config=Config(\n",
    "        read_timeout=5 * 60\n",
    "    ),  # IMPORTANT: Increase the read timeout to 5 minutes to support longer operations.\n",
    ")\n",
    "image_generation_model_id = \"amazon.nova-canvas-v1:0\"\n",
    "output_dir = \"output\""
   ]
  },
  {
   "cell_type": "markdown",
   "id": "519c4ef5-3656-42d3-bf2f-180fd737180b",
   "metadata": {},
   "source": [
    "The following parameters are relevant to the \"INPAINTING\" task type and are encapsulated in the `inPaintingParams` field of the request body.\n",
    "\n",
    "- `text` (Optional) – A text prompt to define what to change inside the mask. If you don't include this field, the model will remove the masked are from the image, replacing it with the background. Must be <= 1024 characters.\n",
    "- `negativeText` (Optional) – A text prompt describing what elements or characteristics that should not be generated. Must be <= 1024 characters.\n",
    "- The `inPaintingParams` fields are described below.\n",
    "  - `image` (Required) – The JPEG or PNG image to modify, encoded as a Base64 string. (See code below for how to encode an image as Base64.)\n",
    "  - You must define one of the following fields (but not both):\n",
    "    - `maskPrompt` – A natural language text prompt that describing the region(s) of the image to edit.\n",
    "    - `maskImage` – A black and white image in which pure black pixels indicate the area inside the mask and pure white pixels indicate the area outside the mask. The mask image must be the same dimensions at the input image. Its dimensions must match the dimensions of the input `image`.\n",
    "\n",
    "The input image and mask image can be of any resolution that meets these requirements:\n",
    "\n",
    "- Each side's length is no shorter than 320 and no longer than 4096\n",
    "- Each side's length is evenly divisible by 16\n",
    "- The aspect ratio ranges from 1:4 (portrait) through 4:1 (landscape)\n",
    "- The total number of pixels (width x height) does not exceed 4,194,304 (the equivalent of 2048 x 2048)\n",
    "- The `image` and `maskImage` must have the same resolution\n"
   ]
  },
  {
   "cell_type": "markdown",
   "id": "92e7453e",
   "metadata": {},
   "source": [
    "#### Example 1: Inpainting with a mask prompt\n"
   ]
  },
  {
   "cell_type": "markdown",
   "id": "e939c4cc",
   "metadata": {},
   "source": [
    "With a mask prompt, you don't have to create your own mask image. Instead, you simply describe the object you want to replace. The model will automatically segment the image and identify the object you describe.\n",
    "\n",
    "For this example, we'll use the following input image and a mask prompt of \"dog image\". Run the cells below. The generated image will be saved to the \"output\" folder.\n",
    "\n",
    "<img src=\"data/text-to-image_seed-1.png\" height=\"400\">\n"
   ]
  },
  {
   "cell_type": "code",
   "execution_count": null,
   "id": "c7d2ff9e",
   "metadata": {},
   "outputs": [],
   "source": [
    "# Define the main input parameters.\n",
    "reference_image_path = \"data/text-to-image_seed-1.png\"\n",
    "mask_prompt = \"dog image\"\n",
    "\n",
    "text = \"a white tshirt with a palm tree graphic\"\n",
    "negative_text = (\n",
    "    \"colorful\"  # We're using a negative prompt to encourage a monochromatic graphic\n",
    ")\n",
    "\n",
    "seed = 0"
   ]
  },
  {
   "cell_type": "code",
   "execution_count": null,
   "id": "65d10345-3c4e-49b3-a851-d9344bcadfab",
   "metadata": {
    "tags": []
   },
   "outputs": [],
   "source": [
    "with open(reference_image_path, \"rb\") as image_file:\n",
    "    reference_image_base64 = base64.b64encode(image_file.read()).decode(\"utf-8\")\n",
    "\n",
    "# Generate image condition on reference image\n",
    "body = json.dumps(\n",
    "    {\n",
    "        \"taskType\": \"INPAINTING\",\n",
    "        \"inPaintingParams\": {\n",
    "            \"text\": text,  # What to generate in the masked area\n",
    "            \"negativeText\": negative_text,  # What to avoid generating inside the mask\n",
    "            \"image\": reference_image_base64,  # The image to edit\n",
    "            \"maskPrompt\": mask_prompt,  # A description of the area(s) of the image to change\n",
    "        },\n",
    "        \"imageGenerationConfig\": {\n",
    "            \"numberOfImages\": 1,  # Number of images to generate, up to 5.\n",
    "            \"cfgScale\": 6.5,  # How closely the prompt will be followed\n",
    "            \"seed\": seed,  # Any number from 0 through 858,993,459\n",
    "            \"quality\": \"standard\",  # Either \"standard\" or \"premium\". Defaults to \"standard\".\n",
    "        },\n",
    "    }\n",
    ")\n",
    "\n",
    "print(\"Generating image...\")\n",
    "\n",
    "response = bedrock_runtime_client.invoke_model(\n",
    "    body=body,\n",
    "    modelId=image_generation_model_id,\n",
    "    accept=\"application/json\",\n",
    "    contentType=\"application/json\",\n",
    ")\n",
    "\n",
    "response_body = json.loads(response.get(\"body\").read())\n",
    "\n",
    "base64_images = response_body.get(\"images\")\n",
    "image_path = f\"{output_dir}/02-inpainting-with-mask-prompt.png\"\n",
    "save_image(base64_images[0], image_path)\n",
    "\n",
    "print(f\"Image saved to {image_path}\")\n",
    "\n",
    "response_images = [\n",
    "    Image.open(io.BytesIO(base64.b64decode(base64_image)))\n",
    "    for base64_image in base64_images\n",
    "]\n",
    "\n",
    "plot_images(response_images, ref_image_path=reference_image_path)"
   ]
  },
  {
   "cell_type": "markdown",
   "id": "a1a7b973",
   "metadata": {},
   "source": [
    "#### Example 2: Inpainting with a mask image\n"
   ]
  },
  {
   "cell_type": "markdown",
   "id": "48b4cf4c",
   "metadata": {},
   "source": [
    "Alternatively, you can provide the mask image to directly control the region the model should reconstruct. Here's an example of a mask image corresponding to the printable area of the shirt.\n",
    "\n",
    "<img src=\"data/text-to-image_seed-1.png\" height=\"400\" style=\"margin: 4px\"> <img src=\"data/text-to-image_seed-1_mask.png\" height=\"400\" style=\"margin: 4px; border: 1px solid #99999955\">\n",
    "\n",
    "We will now use this mask image to reconstruct our image. Run the cells below. The generated image will be saved to the \"output\" folder.\n"
   ]
  },
  {
   "cell_type": "code",
   "execution_count": null,
   "id": "f5520805",
   "metadata": {},
   "outputs": [],
   "source": [
    "# Define the main input parameters.\n",
    "reference_image_path = \"data/text-to-image_seed-1.png\"\n",
    "mask_image_path = \"data/text-to-image_seed-1_mask.png\"\n",
    "\n",
    "text = \"a white tshirt with a palm tree graphic\"\n",
    "negative_text = \"colorful\"\n",
    "\n",
    "seed = 100"
   ]
  },
  {
   "cell_type": "code",
   "execution_count": null,
   "id": "f3685a0f",
   "metadata": {},
   "outputs": [],
   "source": [
    "with open(reference_image_path, \"rb\") as image_file:\n",
    "    reference_image_base64 = base64.b64encode(image_file.read()).decode(\"utf-8\")\n",
    "\n",
    "with open(mask_image_path, \"rb\") as image_file:\n",
    "    image_image_base64 = base64.b64encode(image_file.read()).decode(\"utf-8\")\n",
    "\n",
    "# Generate image condition on reference image\n",
    "body = json.dumps(\n",
    "    {\n",
    "        \"taskType\": \"INPAINTING\",\n",
    "        \"inPaintingParams\": {\n",
    "            \"text\": text,  # What to generate in the masked area\n",
    "            \"negativeText\": negative_text,  # What to avoid generating inside the mask\n",
    "            \"image\": reference_image_base64,  # The image to edit\n",
    "            \"maskImage\": image_image_base64,  # A black and white image defining the mask\n",
    "        },\n",
    "        \"imageGenerationConfig\": {\n",
    "            \"numberOfImages\": 1,  # Number of images to generate, up to 5\n",
    "            \"cfgScale\": 6.5,  # How closely the prompt will be followed\n",
    "            \"seed\": seed,  # Any number from 0 through 858,993,459\n",
    "            \"quality\": \"standard\",  # Either \"standard\" or \"premium\". Defaults to \"standard\".\n",
    "        },\n",
    "    }\n",
    ")\n",
    "\n",
    "print(\"Generating image...\")\n",
    "\n",
    "response = bedrock_runtime_client.invoke_model(\n",
    "    body=body,\n",
    "    modelId=image_generation_model_id,\n",
    "    accept=\"application/json\",\n",
    "    contentType=\"application/json\",\n",
    ")\n",
    "\n",
    "response_body = json.loads(response.get(\"body\").read())\n",
    "\n",
    "base64_images = response_body.get(\"images\")\n",
    "image_path = f\"{output_dir}/02-inpainting-with-mask-image.png\"\n",
    "save_image(base64_images[0], image_path)\n",
    "\n",
    "print(f\"Image saved to {image_path}\")\n",
    "\n",
    "response_images = [\n",
    "    Image.open(io.BytesIO(base64.b64decode(base64_image)))\n",
    "    for base64_image in response_body.get(\"images\")\n",
    "]\n",
    "\n",
    "plot_images(response_images, ref_image_path=reference_image_path)"
   ]
  },
  {
   "cell_type": "markdown",
   "id": "26873b7c",
   "metadata": {},
   "source": [
    "<div class=\"alert alert-block alert-info\">\n",
    "<strong>💡 Bonus Activity:</strong> Try a different seed to generate different variations. Try a different prompt to make more drastic changes.\n",
    "</div>\n"
   ]
  },
  {
   "cell_type": "markdown",
   "id": "3a0f7560-1418-44e2-ae30-167b0c636e98",
   "metadata": {},
   "source": [
    "## Take Away\n",
    "\n",
    "Inpainting is a powerful technique that allows users to manipulate and restore images with remarkable precision. By utilizing either mask images or mask prompts, individuals can seamlessly remove unwanted objects, fill in missing areas, or even add new elements to existing images. This versatile tool has numerous applications, from photo restoration and digital art creation to removing distractions in professional photography. Whether you're touching up old family photos, creating imaginative digital compositions, or enhancing product images for e-commerce, inpainting offers a user-friendly solution for achieving polished, professional-looking results.\n"
   ]
  }
 ],
 "metadata": {
  "kernelspec": {
   "display_name": ".venv",
   "language": "python",
   "name": "python3"
  },
  "language_info": {
   "codemirror_mode": {
    "name": "ipython",
    "version": 3
   },
   "file_extension": ".py",
   "mimetype": "text/x-python",
   "name": "python",
   "nbconvert_exporter": "python",
   "pygments_lexer": "ipython3",
   "version": "3.12.4"
  }
 },
 "nbformat": 4,
 "nbformat_minor": 5
}
