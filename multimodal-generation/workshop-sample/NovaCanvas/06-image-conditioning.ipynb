{
 "cells": [
  {
   "cell_type": "markdown",
   "id": "9ceb9d55",
   "metadata": {},
   "source": [
    "# Introduction\n",
    "\n",
    "In this notebook, we will be focusing on **Image Conditioning** feature, which generates outputs that follow the layout and structure of a user-supplied reference image by providing it along with a text prompt. Two modes are supported:\n",
    "\n",
    "- Canny Edge: Extract prominent edges from the reference image to guide the generation process.\n",
    "- Segmentation: Define specific regions/objects within the reference image for the model to generate content aligned with those areas.\n",
    "\n",
    "# Use Case\n",
    "\n",
    "OctankFashion can leverage the Image Conditioning feature to automatically generate multiple variations of their ad creatives. For example, they can create different versions of a wedding dress image by adjusting the visual focus, background, or styling elements based on the reference images provided. This enables them to rapidly test and optimize their ad content, responding to customer preferences and emerging trends more effectively.\n"
   ]
  },
  {
   "cell_type": "markdown",
   "id": "3aa6b1ce",
   "metadata": {},
   "source": [
    "<div class=\"alert alert-block alert-warning\">\n",
    "<b>Prerequisites:</b> Please run the prerequiresites <b>00-prerequisites.ipynb</b> first before proceeding.\n",
    "</div>\n"
   ]
  },
  {
   "cell_type": "code",
   "execution_count": null,
   "id": "208dc3d8",
   "metadata": {},
   "outputs": [],
   "source": [
    "import io\n",
    "import json\n",
    "import base64\n",
    "import boto3\n",
    "from botocore.config import Config\n",
    "from PIL import Image\n",
    "from utils import save_image, plot_image_conditioning\n",
    "\n",
    "bedrock_runtime_client = boto3.client(\n",
    "    \"bedrock-runtime\",\n",
    "    region_name=\"us-east-1\",\n",
    "    config=Config(\n",
    "        read_timeout=5 * 60\n",
    "    ),  # IMPORTANT: Increase the read timeout to 5 minutes to support longer operations.\n",
    ")\n",
    "image_generation_model_id = \"amazon.nova-canvas-v1:0\"\n",
    "output_dir = \"output\""
   ]
  },
  {
   "cell_type": "markdown",
   "id": "9f22cddf",
   "metadata": {},
   "source": [
    "### Image Conditioning\n",
    "\n",
    "Image conditioning allows users to guide image creation using a reference image.\n",
    "\n",
    "##### Example 1: Exploring the \"SEGMENTATION\" control mode\n",
    "\n",
    "When using the `controlMode` value \"SEGMENTATION\", the condition image will be automatically analyzed to identify prominent content shapes. This analysis results in a segmentation mask which guides the composition of the generated image. The \"SEGMENTATION\" control mode allows the model more freedom than the \"CANNY_EDGE\" mode and is great for posing characters, establishing camera angles, and more.\n",
    "\n",
    "We will turn the sketch below into a beautiful photo using image conditioning with the \"SEGMENTATION\" control mode. Run the cells below. The generated image will be saved to the \"output\" folder.\n",
    "\n",
    "<img src=\"data/designer_sketch_dress.png\" height=\"400\">\n"
   ]
  },
  {
   "cell_type": "code",
   "execution_count": null,
   "id": "99f20d85",
   "metadata": {},
   "outputs": [],
   "source": [
    "# Conditioning parameters\n",
    "condition_image = \"data/designer_sketch_dress.png\"\n",
    "control_mode = \"SEGMENTATION\"\n",
    "control_strength = 0.4  # Range: 0.2 to 1.0\n",
    "\n",
    "prompt = \"fashion photo of a woman in an elegant wedding dress, coastal backdrop\"\n",
    "\n",
    "# The output width and height should match the aspect ratio of the condition\n",
    "# image for best results\n",
    "width = 1024\n",
    "height = 1024\n",
    "\n",
    "seed = 102"
   ]
  },
  {
   "cell_type": "code",
   "execution_count": null,
   "id": "4dc8148f",
   "metadata": {},
   "outputs": [],
   "source": [
    "# Encode the reference image\n",
    "with open(condition_image, \"rb\") as image_file:\n",
    "    reference_image_base64 = base64.b64encode(image_file.read()).decode(\"utf-8\")\n",
    "\n",
    "# Generate image condition on reference image\n",
    "body = json.dumps(\n",
    "    {\n",
    "        \"taskType\": \"TEXT_IMAGE\",\n",
    "        \"textToImageParams\": {\n",
    "            \"text\": prompt,  # Required\n",
    "            \"conditionImage\": reference_image_base64,  # Optional\n",
    "            \"controlMode\": control_mode,  # Optional: CANNY_EDGE | SEGMENTATION\n",
    "            \"controlStrength\": control_strength,  # Range: 0.2 to 1.0,\n",
    "        },\n",
    "        \"imageGenerationConfig\": {\n",
    "            \"numberOfImages\": 1,  # Number of images to generate, up to 5\n",
    "            \"width\": width,\n",
    "            \"height\": height,\n",
    "            \"cfgScale\": 6.5,  # How closely the prompt will be followed\n",
    "            \"seed\": seed,\n",
    "            \"quality\": \"premium\",  # Quality of either \"standard\" or \"premium\"\n",
    "        },\n",
    "    }\n",
    ")\n",
    "\n",
    "print(\"Generating image...\")\n",
    "\n",
    "response = bedrock_runtime_client.invoke_model(\n",
    "    body=body,\n",
    "    modelId=image_generation_model_id,\n",
    "    accept=\"application/json\",\n",
    "    contentType=\"application/json\",\n",
    ")\n",
    "\n",
    "response_body = json.loads(response.get(\"body\").read())\n",
    "response_images = [\n",
    "    Image.open(io.BytesIO(base64.b64decode(base64_image)))\n",
    "    for base64_image in response_body.get(\"images\")\n",
    "]\n",
    "\n",
    "# save output\n",
    "output_image_path = f\"{output_dir}/06-image-conditioning.png\"\n",
    "save_image(response_body.get(\"images\")[0], output_image_path)\n",
    "print(f\"Image saved to {output_image_path}\")\n",
    "\n",
    "# plot output\n",
    "plot_image_conditioning(condition_image, response_images, prompt)"
   ]
  },
  {
   "cell_type": "markdown",
   "id": "0efc70e2",
   "metadata": {},
   "source": [
    "<div class=\"alert alert-block alert-info\">\n",
    "<strong>💡 Bonus Activity:</strong> Try different prompts to change environment, dress details, or art style.\n",
    "</div>\n"
   ]
  },
  {
   "cell_type": "markdown",
   "id": "22a15d32",
   "metadata": {},
   "source": [
    "##### Example 2: Exploring \"CANNY_EDGE\" conditioning\n",
    "\n",
    "When using the `controlMode` value \"CANNY_EDGE\", elements of the generated image will follow the prominent contours, or “edges”, of the condition image. How closely these edges are respected depends on the value of the `controlStrength` parameter.\n",
    "\n",
    "We will use the following image as the `conditionImage`. Run the cells below. The generated image will be saved to the \"output\" folder.\n",
    "\n",
    "<img src=\"data/wedding_dress_details.png\" height=\"400\">\n"
   ]
  },
  {
   "cell_type": "code",
   "execution_count": null,
   "id": "a6889774",
   "metadata": {},
   "outputs": [],
   "source": [
    "# Conditioning parameters\n",
    "condition_image = \"data/wedding_dress_details.png\"\n",
    "control_mode = \"CANNY_EDGE\"\n",
    "control_strength = 0.9  # Range: 0 through 1.0\n",
    "\n",
    "# The output width and height should match the aspect ratio of the condition\n",
    "# image for best results\n",
    "width = 720\n",
    "height = 1024\n",
    "\n",
    "prompt = \"A light blue dress with elegant details\"\n",
    "\n",
    "seed = 99  # Can be any number between 0 to 214783647"
   ]
  },
  {
   "cell_type": "code",
   "execution_count": null,
   "id": "050814f3",
   "metadata": {},
   "outputs": [],
   "source": [
    "# Encode the reference image\n",
    "with open(condition_image, \"rb\") as image_file:\n",
    "    reference_image_base64 = base64.b64encode(image_file.read()).decode(\"utf-8\")\n",
    "\n",
    "# Generate image condition on reference image\n",
    "body = json.dumps(\n",
    "    {\n",
    "        \"taskType\": \"TEXT_IMAGE\",\n",
    "        \"textToImageParams\": {\n",
    "            \"text\": prompt,\n",
    "            \"conditionImage\": reference_image_base64,\n",
    "            \"controlMode\": control_mode,  # \"CANNY_EDGE\" or \"SEGMENTATION\"\n",
    "            \"controlStrength\": control_strength,  # Range: 0 to 1.0,\n",
    "        },\n",
    "        \"imageGenerationConfig\": {\n",
    "            \"numberOfImages\": 1,  # Number of images to generate, up to 5\n",
    "            \"cfgScale\": 6.5,  # How closely the prompt will be followed\n",
    "            \"width\": width,\n",
    "            \"height\": height,\n",
    "            \"seed\": seed,\n",
    "            \"quality\": \"standard\",  # Quality of either \"standard\" or \"premium\"\n",
    "        },\n",
    "    }\n",
    ")\n",
    "\n",
    "print(\"Generating image...\")\n",
    "\n",
    "response = bedrock_runtime_client.invoke_model(\n",
    "    body=body,\n",
    "    modelId=image_generation_model_id,\n",
    "    accept=\"application/json\",\n",
    "    contentType=\"application/json\",\n",
    ")\n",
    "\n",
    "response_body = json.loads(response.get(\"body\").read())\n",
    "response_images = [\n",
    "    Image.open(io.BytesIO(base64.b64decode(base64_image)))\n",
    "    for base64_image in response_body.get(\"images\")\n",
    "]\n",
    "\n",
    "# Save output\n",
    "output_image_path = f\"{output_dir}/06-image-conditioning_canny-edge.png\"\n",
    "save_image(response_body.get(\"images\")[0], output_image_path)\n",
    "print(f\"Image saved to {output_image_path}\")\n",
    "\n",
    "# Plot output\n",
    "plot_image_conditioning(condition_image, response_images, prompt)"
   ]
  },
  {
   "cell_type": "markdown",
   "id": "9499adf0",
   "metadata": {},
   "source": [
    "<div class=\"alert alert-block alert-info\">\n",
    "<strong>💡 Bonus Activity:</strong> Try different <tt>controlStrength</tt> values and different prompts to see their effect.\n",
    "</div>\n"
   ]
  },
  {
   "cell_type": "markdown",
   "id": "6065b0f0",
   "metadata": {},
   "source": [
    "##### Example 3: Exploring the \"controlStrength\" parameter\n"
   ]
  },
  {
   "cell_type": "markdown",
   "id": "a5a55748",
   "metadata": {},
   "source": [
    "The conditioned image generation feature allows users to tune the influence of a \"condition image\" on the generated output by adjusting the `controlStrength` parameter. This parameter takes values between 0.2 and 1.0, with lower values introducing more randomness and higher values resulting in generated images that more closely follow the layout and composition of the condition image. The default value for `controlStrength` parameter is 0.7\n"
   ]
  },
  {
   "cell_type": "markdown",
   "id": "a40534c5",
   "metadata": {},
   "source": [
    "To illustrate the effect of the `controlStrength` parameter, let's generate images using the same text prompt and condition image, but with three different values.\n"
   ]
  },
  {
   "cell_type": "code",
   "execution_count": null,
   "id": "47e792ae",
   "metadata": {},
   "outputs": [],
   "source": [
    "# Conditioning parameters\n",
    "condition_image = \"data/evening_gown.png\"\n",
    "control_mode = \"CANNY_EDGE\"\n",
    "control_strength_values = [0, 0.25, 1.0]  # Range: 0 through 1.0\n",
    "\n",
    "prompt = \"a women's T-shirt and short jeans showcased in a shopping window\"\n",
    "\n",
    "# The output width and height should match the aspect ratio of the condition\n",
    "# image for best results\n",
    "width = 1024\n",
    "height = 1024\n",
    "\n",
    "seed = 102  # 100  # Can be any random number between 0 to 214783647"
   ]
  },
  {
   "cell_type": "code",
   "execution_count": null,
   "id": "91430265",
   "metadata": {},
   "outputs": [],
   "source": [
    "# Encode the reference image\n",
    "with open(condition_image, \"rb\") as image_file:\n",
    "    reference_image_base64 = base64.b64encode(image_file.read()).decode(\"utf-8\")\n",
    "\n",
    "# Generate image with different similarityStrength values\n",
    "generated_images = []\n",
    "for index, control_strength in enumerate(control_strength_values):\n",
    "    print(f\"Generating image {index+1} of {len(control_strength_values)}...\")\n",
    "\n",
    "    response = bedrock_runtime_client.invoke_model(\n",
    "        body=json.dumps(\n",
    "            {\n",
    "                \"taskType\": \"TEXT_IMAGE\",\n",
    "                \"textToImageParams\": {\n",
    "                    \"text\": prompt,  # Required\n",
    "                    \"conditionImage\": reference_image_base64,  # Optional\n",
    "                    \"controlMode\": control_mode,  # Optional: CANNY_EDGE | SEGMENTATION\n",
    "                    \"controlStrength\": control_strength,  # Range: 0.2 to 1.0,\n",
    "                },\n",
    "                \"imageGenerationConfig\": {\n",
    "                    \"numberOfImages\": 1,  # Number of images to generate, up to 5\n",
    "                    \"cfgScale\": 6.5,  # How closely the prompt will be followed\n",
    "                    \"width\": width,\n",
    "                    \"height\": height,\n",
    "                    \"seed\": seed,\n",
    "                    \"quality\": \"standard\",  # Quality of either \"standard\" or \"premium\"\n",
    "                },\n",
    "            }\n",
    "        ),\n",
    "        modelId=image_generation_model_id,\n",
    "        accept=\"application/json\",\n",
    "        contentType=\"application/json\",\n",
    "    )\n",
    "\n",
    "    response_body = json.loads(response.get(\"body\").read())\n",
    "\n",
    "    # Save the image\n",
    "    output_image_path = (\n",
    "        f\"{output_dir}/06-image-conditioning_controlStrength_{control_strength}.png\"\n",
    "    )\n",
    "    base64_images = response_body.get(\"images\")\n",
    "    save_image(base64_images[0], output_image_path)\n",
    "    print(f\"Image saved to {output_image_path}\")\n",
    "\n",
    "    generated_img = [\n",
    "        Image.open(io.BytesIO(base64.b64decode(base64_image)))\n",
    "        for base64_image in response_body.get(\"images\")\n",
    "    ]\n",
    "    generated_images.append(generated_img[0])\n",
    "\n",
    "# plot comparison images\n",
    "plot_image_conditioning(\n",
    "    condition_image,\n",
    "    generated_images=generated_images,\n",
    "    control_strength_values=control_strength_values,\n",
    "    prompt=prompt,\n",
    "    comparison_mode=True,\n",
    ")"
   ]
  },
  {
   "cell_type": "markdown",
   "id": "b7053611",
   "metadata": {},
   "source": [
    "Observe that when using a lower `controlStrength` value, the generated image will primarily follow the content of the text prompt, with only a subtle influence from the condition image's layout and composition. As the value increases, the condition image's influence becomes more dominant.\n",
    "\n",
    "Users should adjust this parameter based on their desired balance between adhering to the text prompt and following the condition image's structure, considering the specific text prompt and condition image being used.\n"
   ]
  },
  {
   "cell_type": "markdown",
   "id": "35d99799",
   "metadata": {},
   "source": [
    "# Take Away\n",
    "\n",
    "Image conditioning with the Nova Canvas model gives users direct control over the layout, structure, and viewing angle of their generated images.\n",
    "\n",
    "We encourage users to explore these new functionalities within Amazon Bedrock to experience the expanded potential for creating precise, customized visual content.\n"
   ]
  }
 ],
 "metadata": {
  "kernelspec": {
   "display_name": ".venv",
   "language": "python",
   "name": "python3"
  },
  "language_info": {
   "codemirror_mode": {
    "name": "ipython",
    "version": 3
   },
   "file_extension": ".py",
   "mimetype": "text/x-python",
   "name": "python",
   "nbconvert_exporter": "python",
   "pygments_lexer": "ipython3",
   "version": "3.12.4"
  }
 },
 "nbformat": 4,
 "nbformat_minor": 5
}
