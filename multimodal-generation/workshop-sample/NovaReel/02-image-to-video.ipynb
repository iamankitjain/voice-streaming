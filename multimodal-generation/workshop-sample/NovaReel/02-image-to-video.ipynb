{
 "cells": [
  {
   "cell_type": "markdown",
   "id": "19e8b53e",
   "metadata": {},
   "source": [
    "<div class=\"alert alert-block alert-warning\">\n",
    "<b>Prerequisites:</b> Please run the prerequiresites <b>00-prerequisites.ipynb</b> first before proceeding.\n",
    "</div>\n",
    "\n",
    "## Introduction to image-to-video\n",
    "\n",
    "With Nova Reel's image-to-video capability, you can create a video from an existing image, giving you greater control over your video output that you get with text-to-video alone. The image you use could be a real world photograph, an image created by an artist or designer, a rendering of a real product, or an image generated with an image generation model.\n",
    "\n",
    "Run the cell below to create an instance of the Bedrock Runtime client which we'll use later.\n"
   ]
  },
  {
   "cell_type": "code",
   "execution_count": null,
   "id": "c37ae2d2",
   "metadata": {},
   "outputs": [],
   "source": [
    "import boto3\n",
    "import video_gen_util\n",
    "\n",
    "boto3.setup_default_session(region_name=\"us-east-1\")\n",
    "session = boto3.Session()\n",
    "sts_client = session.client(\"sts\")\n",
    "\n",
    "bedrock_runtime = boto3.client(\"bedrock-runtime\")"
   ]
  },
  {
   "cell_type": "markdown",
   "id": "83f3e3b7",
   "metadata": {},
   "source": [
    "#### Setting up storage\n",
    "\n",
    "Generating a video takes some time - approximately 3-4 minutes to produce a 6 second video. To accomodate this execution time, the Bedrock Runtime introduces a new asynchronous invocation API. You start generating a video by calling the `start_async_invoke()` method on the Bedrock Runtime client. When the generation job completes, Bedrock automatically saves the generated video to an S3 bucket you specify.\n",
    "\n",
    "Run the cell below to automatically create a new S3 bucket in your account which we will use as a destination for your videos. (If you already have an existing bucket you'd like to use, edit the `s3_destination_bucket` variable to use that bucket's ID)\n"
   ]
  },
  {
   "cell_type": "code",
   "execution_count": null,
   "id": "2baf3da9",
   "metadata": {},
   "outputs": [],
   "source": [
    "region = session.region_name\n",
    "account_id = sts_client.get_caller_identity()[\"Account\"]\n",
    "new_bucket_name = f\"ovg-bucket-{region}-{account_id}\"\n",
    "\n",
    "# Replace this with an existing bucket ID if you'd like.\n",
    "s3_destination_bucket = new_bucket_name\n",
    "\n",
    "# Create the bucket\n",
    "boto3.client(\"s3\").create_bucket(Bucket=s3_destination_bucket)"
   ]
  },
  {
   "cell_type": "markdown",
   "id": "a304a615",
   "metadata": {},
   "source": [
    "#### Create prompt and invoke model\n",
    "\n",
    "OctankFashion would like to take the marketing image you previously created and bring it to life as a video. Nova Reel's image-to-video features is the perfect fit.\n",
    "\n",
    "The following parameters are relevant to using the image-to-video feature. The parameters are encapsulated in the `textToVideoParams` field of the request body.\n",
    "\n",
    "- `text` (Optional) – A text prompt describing your desired video. Must be 1 - 512 characters in length.\n",
    "- `images` (Optional) - A list containing exactly one image source.\n",
    "\n",
    "The image source structure should look like this:\n",
    "\n",
    "```\n",
    "{\n",
    "    \"format\": \"png\" | \"jpeg\"\n",
    "    \"source\": {\n",
    "        \"bytes\": string (Base64 encoded image)\n",
    "    }\n",
    "}\n",
    "```\n",
    "\n",
    "Here is the image you'll be using as the basis for the video. Images that are used as input for Nova Reel must be 1280x720, the same resolution that the generated video will be. For best results, the text prompt you use should describe the image in full along with any action or camera motion that you would like to include in the video.\n",
    "\n",
    "Run the cells below to start generating your video.\n",
    "\n",
    "<img src=\"data/tshirt_beach_1280x720.png\" height=\"400\">\n"
   ]
  },
  {
   "cell_type": "code",
   "execution_count": null,
   "id": "baeaa47c",
   "metadata": {},
   "outputs": [],
   "source": [
    "# Define the main input parameters.\n",
    "input_image_path = \"data/tshirt_beach_1280x720.png\"  # Must be 1280 x 720\n",
    "image_format = \"png\"  # Can be \"png\" or \"jpeg\"\n",
    "\n",
    "text = \"static camera: waves roll in, sandy beach, a man wearing a tshirt with a palm tree graphic on it. The man shifts his body subtley\"\n",
    "\n",
    "seed = 546416566"
   ]
  },
  {
   "cell_type": "code",
   "execution_count": null,
   "id": "72e120bc",
   "metadata": {},
   "outputs": [],
   "source": [
    "import json\n",
    "import base64\n",
    "\n",
    "# Load the input image as a Base64 string.\n",
    "with open(input_image_path, \"rb\") as f:\n",
    "    input_image_bytes = f.read()\n",
    "    input_image_base64 = base64.b64encode(input_image_bytes).decode(\"utf-8\")\n",
    "\n",
    "model_input = {\n",
    "    \"taskType\": \"TEXT_VIDEO\",\n",
    "    \"textToVideoParams\": {\n",
    "        \"text\": text,\n",
    "        \"images\": [{\"format\": image_format, \"source\": {\"bytes\": input_image_base64}}],\n",
    "    },\n",
    "    \"videoGenerationConfig\": {\n",
    "        \"durationSeconds\": 6,  # 6 is the only supported value currently.\n",
    "        \"fps\": 24,  # 24 is the only supported value currently.\n",
    "        \"dimension\": \"1280x720\",  # \"1280x720\" is the only supported value currently.\n",
    "        \"seed\": seed,  # Can be any random number between 0 to 2147483648\n",
    "    },\n",
    "}\n",
    "\n",
    "# Start the asynchronous video generation job.\n",
    "invocation = bedrock_runtime.start_async_invoke(\n",
    "    modelId=\"amazon.nova-reel-v1:0\",\n",
    "    modelInput=model_input,\n",
    "    outputDataConfig={\"s3OutputDataConfig\": {\"s3Uri\": f\"s3://{s3_destination_bucket}\"}},\n",
    ")\n",
    "\n",
    "# Pretty print the response JSON.\n",
    "print(\"\\nResponse:\")\n",
    "print(json.dumps(invocation, indent=2, default=str))\n",
    "\n",
    "# Save the invocation details for later reference. Helpful for debugging and reporting feedback.\n",
    "video_gen_util.save_invocation_info(invocation, model_input)"
   ]
  },
  {
   "cell_type": "markdown",
   "id": "9806277b",
   "metadata": {},
   "source": [
    "##### Download and view the generated videos\n",
    "\n",
    "We've provided a set of utility functions in the `video_gen_util.py` script. One of these functions provides one solution to automatically downloading previously completed jobs and monitoring in-progress jobs. Finished jobs will be automatically downloaded to the \"output\" folder.\n"
   ]
  },
  {
   "cell_type": "code",
   "execution_count": null,
   "id": "b7fd2200",
   "metadata": {},
   "outputs": [],
   "source": [
    "from datetime import datetime, timedelta, timezone\n",
    "\n",
    "# Download and monitor videos from the past N hours.\n",
    "duration_hours = 2\n",
    "\n",
    "from_submit_time = datetime.now(timezone.utc) - timedelta(hours=duration_hours)\n",
    "video_gen_util.monitor_and_download_videos(\"output\", submit_time_after=from_submit_time)"
   ]
  },
  {
   "cell_type": "markdown",
   "id": "858d31e0",
   "metadata": {},
   "source": [
    "Now, check the `output` folder in your Sagemaker, and you can view the video files in `.mp4` format.\n"
   ]
  },
  {
   "cell_type": "markdown",
   "id": "aa770b08",
   "metadata": {},
   "source": [
    "## Take Away\n",
    "\n",
    "Amazon Nova Reel's image-to-video feature gives you greater control over the subject, layout, and visual aesthetic of your generated video. It's a perfect fit when you need to create a video featuring a real world product or subject.\n"
   ]
  }
 ],
 "metadata": {
  "kernelspec": {
   "display_name": ".venv",
   "language": "python",
   "name": "python3"
  },
  "language_info": {
   "codemirror_mode": {
    "name": "ipython",
    "version": 3
   },
   "file_extension": ".py",
   "mimetype": "text/x-python",
   "name": "python",
   "nbconvert_exporter": "python",
   "pygments_lexer": "ipython3",
   "version": "3.12.4"
  }
 },
 "nbformat": 4,
 "nbformat_minor": 5
}
