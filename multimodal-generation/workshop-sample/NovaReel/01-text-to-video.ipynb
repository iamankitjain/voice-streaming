{
 "cells": [
  {
   "cell_type": "markdown",
   "id": "370936fa",
   "metadata": {},
   "source": [
    "# Introduction\n",
    "\n",
    "Welcome to the Amazon Nova Reel Workshop! In this hands-on session, we'll explore the powerful capabilities of Amazon's video generation foundation model. You'll experience how **OctankFashion**, a fictional clothing brand, uses the model to create videos for use in their marketing and advertising campaigns.\n",
    "\n",
    "## Use Case\n",
    "\n",
    "OctankFashion would like to incorporate more rich video content into their marketing and advertising. They find traditional video production to be both too time-consuming and cost prohibitive, having to rent equipment, hire a video production agency, and pay for travel to on-location shoots. They will apply Nova Reel to tasks including:\n",
    "\n",
    "1. Creating an evocative lifestyle video of their new line of summer t-shirts.\n",
    "2. Turning one of their existing marketing images into full motion video.\n",
    "\n",
    "## Workshop Objectives\n",
    "\n",
    "By the end of this workshop, you will:\n",
    "\n",
    "1. Understand the key features of Amazon Nova Reel model.\n",
    "2. Learn how to use these features for marketing and advertising use cases.\n",
    "3. Gain hands-on experience with the Amazon Bedrock API for video generation tasks.\n",
    "\n",
    "## Features We'll Use\n",
    "\n",
    "During the workshop, we'll leverage the following features of Amazon Nova Reel:\n",
    "\n",
    "1. Text-to-Video\n",
    "2. Image-to-Video\n",
    "\n",
    "<div class=\"alert alert-block alert-warning\">\n",
    "<b>Prerequisites:</b> Please run the prerequiresites <b>00-prerequisites.ipynb</b> first before proceeding.\n",
    "</div>\n"
   ]
  },
  {
   "cell_type": "markdown",
   "id": "6900600a",
   "metadata": {},
   "source": [
    "### Introduction to text-to-video\n",
    "\n",
    "With Nova Reel's text-to-video capability, you can create a video from a simple text prompt describing your intended subject, environment, camera motion, and more.\n",
    "\n",
    "Run the cell below to create an instance of the Bedrock Runtime client which we'll use later.\n"
   ]
  },
  {
   "cell_type": "code",
   "execution_count": null,
   "id": "81929247",
   "metadata": {},
   "outputs": [],
   "source": [
    "import boto3\n",
    "import video_gen_util\n",
    "\n",
    "boto3.setup_default_session(region_name=\"us-east-1\")\n",
    "session = boto3.Session()\n",
    "sts_client = session.client(\"sts\")\n",
    "\n",
    "bedrock_runtime = boto3.client(\"bedrock-runtime\")"
   ]
  },
  {
   "cell_type": "markdown",
   "id": "04b4d957",
   "metadata": {},
   "source": [
    "#### Setting up storage\n",
    "\n",
    "Generating a video takes some time - approximately 3-4 minutes to produce a 6 second video. To accomodate this execution time, the Bedrock Runtime introduces a new asynchronous invocation API. You start generating a video by calling the `start_async_invoke()` method on the Bedrock Runtime client. When the generation job completes, Bedrock automatically saves the generated video to an S3 bucket you specify.\n",
    "\n",
    "Run the cell below to automatically create a new S3 bucket in your account which we will use as a destination for your videos. (If you already have an existing bucket you'd like to use, edit the `s3_destination_bucket` variable to use that bucket's ID)\n"
   ]
  },
  {
   "cell_type": "code",
   "execution_count": null,
   "id": "36e425f2",
   "metadata": {},
   "outputs": [],
   "source": [
    "region = session.region_name\n",
    "account_id = sts_client.get_caller_identity()[\"Account\"]\n",
    "new_bucket_name = f\"ovg-bucket-{region}-{account_id}\"\n",
    "\n",
    "# Replace this with an existing bucket ID if you'd like.\n",
    "s3_destination_bucket = new_bucket_name\n",
    "\n",
    "# Create the bucket\n",
    "boto3.client(\"s3\").create_bucket(Bucket=s3_destination_bucket)"
   ]
  },
  {
   "cell_type": "markdown",
   "id": "97ea036c",
   "metadata": {},
   "source": [
    "#### Example 1: Generate a video with a text prompt\n",
    "\n",
    "OctankFashion designed their new line of graphic t-shirts to be perfect for summer. The want a video asset that evokes the feeling of a tranquil day and draws a strong connection between that feeling and their apparel. With Nova Reel's text-to-video feature, it's easy to create any video you can dream of.\n",
    "\n",
    "Nova Reel supports a single task type called \"TEXT_VIDEO\". The following parameter is relevant to using that task type for text-to-video. The parameter is encapsulated in the `textToVideoParams` field of the request body.\n",
    "\n",
    "- `text` (Optional) – A text prompt describing your desired video. Must be 1 - 512 characters in length.\n",
    "\n",
    "Run the cells below to start generating the video.\n"
   ]
  },
  {
   "cell_type": "code",
   "execution_count": null,
   "id": "3574c692",
   "metadata": {},
   "outputs": [],
   "source": [
    "# Define the main input parameters.\n",
    "text = \"fabric shirts ripple in the strong breeze, white collared t-shirts with black palm tree graphics in their centers hang rippling on a clothes line between two real palm trees. Lush greenery in the foreground opens to a beautiful beach and waves in the background. Soft sunlight.\"\n",
    "\n",
    "seed = 1841511189"
   ]
  },
  {
   "cell_type": "code",
   "execution_count": null,
   "id": "ac7be16e",
   "metadata": {},
   "outputs": [],
   "source": [
    "import json\n",
    "\n",
    "model_input = {\n",
    "    \"taskType\": \"TEXT_VIDEO\",\n",
    "    \"textToVideoParams\": {\"text\": text},\n",
    "    \"videoGenerationConfig\": {\n",
    "        \"durationSeconds\": 6,  # 6 is the only supported value currently.\n",
    "        \"fps\": 24,  # 24 is the only supported value currently.\n",
    "        \"dimension\": \"1280x720\",  # \"1280x720\" is the only supported value currently.\n",
    "        \"seed\": seed,  # Any number from 0 through 2,147,483,646\n",
    "    },\n",
    "}\n",
    "\n",
    "# Start the asynchronous video generation job.\n",
    "invocation = bedrock_runtime.start_async_invoke(\n",
    "    modelId=\"amazon.nova-reel-v1:0\",\n",
    "    modelInput=model_input,\n",
    "    outputDataConfig={\"s3OutputDataConfig\": {\"s3Uri\": f\"s3://{s3_destination_bucket}\"}},\n",
    ")\n",
    "\n",
    "# This will be used by other cells in this notebook.\n",
    "invocation_arn = invocation[\"invocationArn\"]\n",
    "\n",
    "# Pretty print the response JSON.\n",
    "print(\"\\nResponse:\")\n",
    "print(json.dumps(invocation, indent=2, default=str))\n",
    "\n",
    "# Save the invocation details for later reference. Helpful for debugging and reporting feedback.\n",
    "video_gen_util.save_invocation_info(invocation, model_input)"
   ]
  },
  {
   "cell_type": "markdown",
   "id": "5aefb145",
   "metadata": {},
   "source": [
    "#### Checking the status of generation jobs\n",
    "\n",
    "While your video is generating, you can check its status in one of two ways.\n",
    "\n",
    "##### Method 1: Using `get_async_invoke()`\n",
    "\n",
    "If you know the invocation ARN of the job you'd like to check, you can use the the `get_async_invoke()` method to check the job's status. Run the cell below to check the status of the last job you initiated above.\n"
   ]
  },
  {
   "cell_type": "code",
   "execution_count": null,
   "id": "921fb13e",
   "metadata": {},
   "outputs": [],
   "source": [
    "response = bedrock_runtime.get_async_invoke(invocationArn=invocation_arn)\n",
    "\n",
    "status = response[\"status\"]\n",
    "print(f\"Status: {status}\")\n",
    "\n",
    "# Pretty print the JSON response\n",
    "print(\"\\nFull response:\")\n",
    "print(json.dumps(response, indent=2, default=str))"
   ]
  },
  {
   "cell_type": "markdown",
   "id": "afc5ed6a",
   "metadata": {},
   "source": [
    "##### Method 2: Using `list_async_invokes()`\n",
    "\n",
    "The following code demonstrates how to check the status of **all** video generation jobs in your account using the `list_async_invokes()` method. This method is useful when you don't know the invocation ARN of a job you want to check the status of or if you want to create a dashboard that lists running, completed, or failed jobs. This method supports a number of arguments that allow you to filter by status, date, and a `maxResults` limit. It also supports pagination. We don't show the full API in this example.\n"
   ]
  },
  {
   "cell_type": "code",
   "execution_count": null,
   "id": "05545f4e",
   "metadata": {},
   "outputs": [],
   "source": [
    "invocation = bedrock_runtime.list_async_invokes(\n",
    "    maxResults=10,  # (Optional)\n",
    "    statusEquals=\"InProgress\",  # (Optional) Can be \"Completed\", \"InProgress\", or \"Failed\". Omit this argument to list all jobs, regardless of status.\n",
    "    # Note: There are other supported arguments not demonstrated here.\n",
    ")\n",
    "\n",
    "# Pretty print the JSON response\n",
    "print(\"Invocation Jobs:\")\n",
    "print(json.dumps(invocation, indent=2, default=str))"
   ]
  },
  {
   "cell_type": "markdown",
   "id": "7050898d",
   "metadata": {},
   "source": [
    "##### Download and view the generated videos\n",
    "\n",
    "We've provided a set of utility functions in the `video_gen_util.py` script. One of these functions provides one solution to automatically downloading previously completed jobs and monitoring in-progress jobs. Finished jobs will be automatically downloaded to the \"output\" folder.\n"
   ]
  },
  {
   "cell_type": "code",
   "execution_count": null,
   "id": "3bd2f143",
   "metadata": {},
   "outputs": [],
   "source": [
    "from datetime import datetime, timedelta, timezone\n",
    "\n",
    "# Download and monitor videos from the past N hours.\n",
    "duration_hours = 2\n",
    "\n",
    "from_submit_time = datetime.now(timezone.utc) - timedelta(hours=duration_hours)\n",
    "video_gen_util.monitor_and_download_videos(\"output\", submit_time_after=from_submit_time)"
   ]
  },
  {
   "cell_type": "markdown",
   "id": "657f789b",
   "metadata": {},
   "source": [
    "Now, check the `output` folder in your Sagemaker, and you can view the video files in `.mp4` format.\n"
   ]
  },
  {
   "cell_type": "markdown",
   "id": "7b600475",
   "metadata": {},
   "source": [
    "## Take Away\n",
    "\n",
    "Amazon Nova Reel's text-to-image feature makes it easy and cost-effective for anyone to create engaging video content of anything they can imagine from just a simple text prompt. Through hands-on experience with the Amazon Bedrock API, you learned to generate compelling visual content for real-world scenarios, such as showcasing fashion items. Now, to learn how to get even more control over the video output, move on to the \"02-image-to-video.ipynb\" notebook.\n"
   ]
  }
 ],
 "metadata": {
  "kernelspec": {
   "display_name": ".venv",
   "language": "python",
   "name": "python3"
  },
  "language_info": {
   "codemirror_mode": {
    "name": "ipython",
    "version": 3
   },
   "file_extension": ".py",
   "mimetype": "text/x-python",
   "name": "python",
   "nbconvert_exporter": "python",
   "pygments_lexer": "ipython3",
   "version": "3.12.4"
  }
 },
 "nbformat": 4,
 "nbformat_minor": 5
}
