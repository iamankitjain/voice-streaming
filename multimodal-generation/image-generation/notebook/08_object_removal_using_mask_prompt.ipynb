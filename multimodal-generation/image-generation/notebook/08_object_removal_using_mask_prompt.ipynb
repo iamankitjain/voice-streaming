{
 "cells": [
  {
   "cell_type": "markdown",
   "metadata": {},
   "source": [
    "# Remove objects using a mask prompt"
   ]
  },
  {
   "cell_type": "markdown",
   "metadata": {},
   "source": [
    "One way to remove objects from images is to use a `maskPrompt` describing the objects you'd like to remove. This notebook demonstrates that approach.\n",
    "\n",
    "The code below will remove all flower pots from the image on the left by using the mask prompt *\"flowers in pots\"* and omitting the `text` prompt parameter.\n",
    "\n",
    "<div style=\"display: flex; justify-content: space-between;\">\n",
    "    <div style=\"width: 48%;\">\n",
    "        <p align=\"center\">\n",
    "            <img src=\"../images/three_pots.jpg\" width=\"100%\" style=\"padding: 4px\">\n",
    "            <br>\n",
    "            <em>Input image</em>\n",
    "        </p>\n",
    "    </div>\n",
    "    <div style=\"width: 48%;\">\n",
    "        <p align=\"center\">\n",
    "            <img src=\"../images/doc-images/remove-with-prompt.png\" width=\"100%\" style=\"padding: 4px\">\n",
    "            <br>\n",
    "            <em>Output image</em>\n",
    "        </p>\n",
    "    </div>\n",
    "</div>"
   ]
  },
  {
   "cell_type": "code",
   "execution_count": null,
   "metadata": {},
   "outputs": [],
   "source": [
    "from random import randint\n",
    "from amazon_image_gen import BedrockImageGenerator\n",
    "import file_utils\n",
    "import logging\n",
    "import base64\n",
    "from datetime import datetime\n",
    "\n",
    "logging.basicConfig(level=logging.INFO, format='[%(levelname)s] %(message)s')\n",
    "\n",
    "# The image to be edited.\n",
    "source_image_path = \"../images/three_pots.jpg\"\n",
    "\n",
    "# Load the source image from disk.\n",
    "with open(source_image_path, \"rb\") as image_file:\n",
    "    source_image_base64 = base64.b64encode(image_file.read()).decode(\"utf-8\")\n",
    "\n",
    "# Configure the inference parameters.\n",
    "inference_params = {\n",
    "    \"taskType\": \"INPAINTING\",\n",
    "    \"inPaintingParams\": {\n",
    "        \"image\": source_image_base64,\n",
    "        \"maskPrompt\": \"flowers in pots\",  # Description of the elements to remove\n",
    "        # We intentionally omit the \"text\" param. By doing so, the generated\n",
    "        # content will attempt to match the background.\n",
    "    },\n",
    "    \"imageGenerationConfig\": {\n",
    "        \"numberOfImages\": 1,  # Number of variations to generate. 1 to 5.\n",
    "        \"quality\": \"standard\",  # Allowed values are \"standard\" and \"premium\"\n",
    "        \"cfgScale\": 7.0,  # How closely the prompt will be followed\n",
    "        \"seed\": randint(0, 858993459),  # Use a random seed\n",
    "    },\n",
    "}\n",
    "\n",
    "# Define an output directory with a unique name.\n",
    "generation_id = datetime.now().strftime(\"%Y-%m-%d_%H-%M-%S\")\n",
    "output_directory = f\"output/{generation_id}\"\n",
    "\n",
    "# Create the generator.\n",
    "generator = BedrockImageGenerator(\n",
    "    output_directory=output_directory\n",
    ")\n",
    "\n",
    "# Generate the image(s).\n",
    "response = generator.generate_images(inference_params)\n",
    "\n",
    "if \"images\" in response:\n",
    "    # Save and display each image\n",
    "    images = file_utils.save_base64_images(response[\"images\"], output_directory, \"image\")\n",
    "    for image in images:\n",
    "        display(image)"
   ]
  }
 ],
 "metadata": {
  "kernelspec": {
   "display_name": "base",
   "language": "python",
   "name": "python3"
  },
  "language_info": {
   "codemirror_mode": {
    "name": "ipython",
    "version": 3
   },
   "file_extension": ".py",
   "mimetype": "text/x-python",
   "name": "python",
   "nbconvert_exporter": "python",
   "pygments_lexer": "ipython3",
   "version": "3.12.2"
  }
 },
 "nbformat": 4,
 "nbformat_minor": 2
}
