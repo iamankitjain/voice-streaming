{
 "cells": [
  {
   "cell_type": "markdown",
   "metadata": {},
   "source": [
    "# Simple Image Generation Demo\n",
    "\n",
    "This notebook demonstrates how to generate an image from a text prompt using the Amazon Nova Canvas image generation model.\n",
    "\n",
    "Run the cell below to generate a sample image. This configuration uses a random seed, so running the cell multiple times will produce a different image each time. Modify any of the parameters to create even more varied output and image sizes.\n",
    "\n",
    "Below is an example of the type of output to expect:\n",
    "\n",
    "<img src=\"../images/doc-images/simple-image-output-1.png\" height=\"600\" style=\"padding: 4px\">"
   ]
  },
  {
   "cell_type": "code",
   "execution_count": null,
   "metadata": {},
   "outputs": [],
   "source": [
    "from random import randint\n",
    "from amazon_image_gen import BedrockImageGenerator\n",
    "import file_utils\n",
    "import logging\n",
    "from datetime import datetime\n",
    "\n",
    "logging.basicConfig(level=logging.INFO, format='[%(levelname)s] %(message)s')\n",
    "\n",
    "# Configure the inference parameters.\n",
    "inference_params = {\n",
    "    \"taskType\": \"TEXT_IMAGE\",\n",
    "    \"textToImageParams\": {\n",
    "        \"text\": \"whimsical and ethereal soft-shaded story illustration: A woman in a large hat stands at the ship's railing looking out across the ocean\",  # A description of the image you want\n",
    "        \"negativeText\": \"clouds, waves\",  # List things to avoid\n",
    "    },\n",
    "    \"imageGenerationConfig\": {\n",
    "        \"numberOfImages\": 1,  # Number of variations to generate. 1 to 5.\n",
    "        \"quality\": \"standard\",  # Allowed values are \"standard\" and \"premium\"\n",
    "        \"width\": 1280,  # See README for supported output resolutions\n",
    "        \"height\": 720,  # See README for supported output resolutions\n",
    "        \"cfgScale\": 7.0,  # How closely the prompt will be followed\n",
    "        \"seed\": randint(0, 858993459),  # Use a random seed\n",
    "    },\n",
    "}\n",
    "\n",
    "# Define an output directory with a unique name.\n",
    "generation_id = datetime.now().strftime(\"%Y-%m-%d_%H-%M-%S\")\n",
    "output_directory = f\"output/{generation_id}\"\n",
    "\n",
    "# Create the generator.\n",
    "generator = BedrockImageGenerator(\n",
    "    output_directory=output_directory\n",
    ")\n",
    "\n",
    "# Generate the image(s).\n",
    "response = generator.generate_images(inference_params)\n",
    "\n",
    "if \"images\" in response:\n",
    "    # Save and display each image\n",
    "    images = file_utils.save_base64_images(response[\"images\"], output_directory, \"image\")\n",
    "    for image in images:\n",
    "        display(image)"
   ]
  }
 ],
 "metadata": {
  "kernelspec": {
   "display_name": "base",
   "language": "python",
   "name": "python3"
  },
  "language_info": {
   "codemirror_mode": {
    "name": "ipython",
    "version": 3
   },
   "file_extension": ".py",
   "mimetype": "text/x-python",
   "name": "python",
   "nbconvert_exporter": "python",
   "pygments_lexer": "ipython3",
   "version": "3.12.1"
  }
 },
 "nbformat": 4,
 "nbformat_minor": 2
}
