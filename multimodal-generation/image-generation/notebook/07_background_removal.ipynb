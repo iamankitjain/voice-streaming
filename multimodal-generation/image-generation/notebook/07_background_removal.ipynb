{
 "cells": [
  {
   "cell_type": "markdown",
   "metadata": {},
   "source": [
    "# Background removal\n",
    "\n",
    "This notebook demonstrates how remove the background of an image completely, replacing it with transparent pixels.\n",
    "\n",
    "The background removal feature of the Amazon Nova Canvas model automatically isolates the subject of an image from its background, returning a PNG with 8 bit transparency.\n",
    "\n",
    "<div style=\"display: flex; justify-content: space-between;\">\n",
    "    <div style=\"width: 48%;\">\n",
    "        <p align=\"center\">\n",
    "            <img src=\"../images/man-in-orange.png\" width=\"100%\" style=\"padding: 4px\">\n",
    "            <br>\n",
    "            <em>Input image</em>\n",
    "        </p>\n",
    "    </div>\n",
    "    <div style=\"width: 48%;\">\n",
    "        <p align=\"center\">\n",
    "            <img src=\"../images/doc-images/man-in-orange-no-bkg.png\" width=\"100%\" style=\"margin: 4px;\n",
    "            background-image: linear-gradient(45deg, #ccc 25%, transparent 25%), \n",
    "      linear-gradient(135deg, #ccc 25%, transparent 25%),\n",
    "      linear-gradient(45deg, transparent 75%, #ccc 75%),\n",
    "      linear-gradient(135deg, transparent 75%, #ccc 75%); background-size:32px 32px; background-position:0 0, 16px 0, 16px -16px, 0px 16px; border: 1px solid #ccc\">\n",
    "            <br>\n",
    "            <em>Output image</em>\n",
    "        </p>\n",
    "    </div>\n",
    "</div>\n",
    "\n",
    "Experiment with your own images."
   ]
  },
  {
   "cell_type": "code",
   "execution_count": null,
   "metadata": {},
   "outputs": [],
   "source": [
    "from amazon_image_gen import BedrockImageGenerator\n",
    "import file_utils\n",
    "import logging\n",
    "import base64\n",
    "from datetime import datetime\n",
    "\n",
    "logging.basicConfig(level=logging.INFO, format='[%(levelname)s] %(message)s')\n",
    "\n",
    "# The image to be edited.\n",
    "source_image_path = \"../images/man-in-orange.png\"\n",
    "\n",
    "# Read image from disk.\n",
    "with open(source_image_path, \"rb\") as image_file:\n",
    "    source_image_base64 = base64.b64encode(image_file.read()).decode(\"utf8\")\n",
    "\n",
    "# Configure the inference parameters.\n",
    "inference_params = {\n",
    "    \"taskType\": \"BACKGROUND_REMOVAL\",\n",
    "    \"backgroundRemovalParams\": {\n",
    "        \"image\": source_image_base64,\n",
    "    },\n",
    "}\n",
    "\n",
    "# Define an output directory with a unique name.\n",
    "generation_id = datetime.now().strftime(\"%Y-%m-%d_%H-%M-%S\")\n",
    "output_directory = f\"output/{generation_id}\"\n",
    "\n",
    "# Create the generator.\n",
    "generator = BedrockImageGenerator(\n",
    "    output_directory=output_directory\n",
    ")\n",
    "\n",
    "# Generate the image(s).\n",
    "response = generator.generate_images(inference_params)\n",
    "\n",
    "if \"images\" in response:\n",
    "    # Save and display each image\n",
    "    images = file_utils.save_base64_images(response[\"images\"], output_directory, \"image\")\n",
    "    for image in images:\n",
    "        display(image)"
   ]
  },
  {
   "cell_type": "code",
   "execution_count": null,
   "metadata": {},
   "outputs": [],
   "source": []
  }
 ],
 "metadata": {
  "kernelspec": {
   "display_name": "base",
   "language": "python",
   "name": "python3"
  },
  "language_info": {
   "codemirror_mode": {
    "name": "ipython",
    "version": 3
   },
   "file_extension": ".py",
   "mimetype": "text/x-python",
   "name": "python",
   "nbconvert_exporter": "python",
   "pygments_lexer": "ipython3",
   "version": "3.12.2"
  }
 },
 "nbformat": 4,
 "nbformat_minor": 2
}
