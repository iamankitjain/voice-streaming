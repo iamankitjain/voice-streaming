{
 "cells": [
  {
   "cell_type": "markdown",
   "metadata": {},
   "source": [
    "# Getting Started with Amazon Nova Reel Video Generator\n",
    "\n",
    "This notebook will help you quickly start generating your own videos using Amazon Nova Reel.\n",
    "\n",
    "## Prerequisites\n",
    "\n",
    "Be sure you've followed the instructions in the [00_initial_setup.ipynb](../00_initial_setup.ipynb) notebook to get things set up.\n"
   ]
  },
  {
   "cell_type": "markdown",
   "metadata": {},
   "source": [
    "## Configure credentials and shared parameters\n",
    "\n",
    "Run the cell below to set the default session configuration for all AWS SDK calls made by the other cells in this notebook. As written, the code will default to using the user credentials you have set as your \"default\" via the AWS CLI. If you'd like to use different credentials, you can modify the code below to add `aws_access_key_id` and `aws_secret_access_key` arguments to the setup function.\n"
   ]
  },
  {
   "cell_type": "code",
   "execution_count": null,
   "metadata": {},
   "outputs": [],
   "source": [
    "import boto3\n",
    "import logging\n",
    "\n",
    "logging.basicConfig(level=logging.INFO, format='[%(levelname)s] %(message)s')\n",
    "logger = logging.getLogger(__name__)\n",
    "\n",
    "MODEL_ID = \"amazon.nova-reel-v1:0\"\n",
    "\n",
    "# Set default region and credentials.\n",
    "boto3.setup_default_session(\n",
    "    region_name=\"us-east-1\"\n",
    ")\n",
    "\n",
    "logger.info(\"AWS SDK session defaults have been set.\")"
   ]
  },
  {
   "cell_type": "markdown",
   "metadata": {},
   "source": [
    "## Invoking the model\n",
    "\n",
    "Generating a video takes some time - approximately 4 minutes to produce a 6 second video. To accomodate this execution time, the Bedrock Runtime introduces a new asynchronous invocation API. Calling `start_async_invoke()` creates a new invocation job. When the job completes, Bedrock automatically saves the generated video to an S3 bucket you specify.\n",
    "\n",
    "### Text-to-Video\n",
    "\n",
    "The code below will generate a video using only a text prompt as input. Modify the `s3_destination_bucket` and `video_prompt` variables at the start of the code below and then run the cell to start generating your video.\n",
    "\n",
    "Below is an example of the type of output to expect:\n",
    "\n",
    "<div style=\"width: 100%\">\n",
    "    <p align=\"center\">\n",
    "        <video alt=\"example_text_to_video\" controls>\n",
    "            <source src=\"../videos/example_text_to_video.mp4\" type=\"video/mp4\" style=\"padding: 4px\">\n",
    "        </video>\n",
    "        <br>\n",
    "        <em>Output video</em>\n",
    "        <br>\n",
    "        <em>Prompt: Closeup of a large seashell in the sand, gentle waves flow around the shell. Camera zoom in.</em>\n",
    "    </p>\n",
    "</div>"
   ]
  },
  {
   "cell_type": "code",
   "execution_count": null,
   "metadata": {},
   "outputs": [],
   "source": [
    "import json\n",
    "import random\n",
    "import amazon_video_util\n",
    "\n",
    "\"\"\"\n",
    "IMPORTANT: Modify the S3 destination (s3_destination_bucket) and video prompt (video_prompt) below.\n",
    "\"\"\"\n",
    "\n",
    "# Specify an S3 bucket for the video output.\n",
    "s3_destination_bucket = \"nova-videos\"  # Change this to a unique bucket name.\n",
    "\n",
    "# Specify your video generation prompt. Phrase your prompt as a summary rather than a command. Maximum 512 characters.\n",
    "video_prompt = \"Closeup of a large seashell in the sand, gentle waves flow around the shell. Camera zoom in.\"\n",
    "\n",
    "\"\"\"\n",
    "STOP: You should not have to modify anything below this line.\n",
    "\"\"\"\n",
    "\n",
    "# Set up the S3 client.\n",
    "s3_client = boto3.client(\"s3\")\n",
    "\n",
    "# Create the S3 bucket.\n",
    "s3_client.create_bucket(Bucket=s3_destination_bucket)\n",
    "\n",
    "# Create the Bedrock Runtime client.\n",
    "bedrock_runtime = boto3.client(\"bedrock-runtime\")\n",
    "\n",
    "model_input = {\n",
    "    \"taskType\": \"TEXT_VIDEO\",\n",
    "    \"textToVideoParams\": {\n",
    "        \"text\": video_prompt\n",
    "        },\n",
    "    \"videoGenerationConfig\": {\n",
    "        \"durationSeconds\": 6, \n",
    "        \"fps\": 24,\n",
    "        \"dimension\": \"1280x720\",\n",
    "        \"seed\": random.randint(0, 2147483646),\n",
    "    },\n",
    "}\n",
    "\n",
    "try:\n",
    "    # Start the asynchronous video generation job.\n",
    "    invocation = bedrock_runtime.start_async_invoke(\n",
    "        modelId=\"amazon.nova-reel-v1:0\",\n",
    "        modelInput=model_input,\n",
    "        outputDataConfig={\"s3OutputDataConfig\": {\"s3Uri\": f\"s3://{s3_destination_bucket}\"}},\n",
    "    )\n",
    "\n",
    "    # This will be used by other cells in this notebook.\n",
    "    invocation_arn = invocation[\"invocationArn\"]\n",
    "\n",
    "    # Pretty print the response JSON.\n",
    "    logger.info(\"\\nResponse:\")\n",
    "    logger.info(json.dumps(invocation, indent=2, default=str))\n",
    "\n",
    "    # Save the invocation details for later reference. Helpful for debugging and reporting feedback.\n",
    "    amazon_video_util.save_invocation_info(invocation, model_input)\n",
    "\n",
    "except Exception as e:\n",
    "    logger.error(e)"
   ]
  },
  {
   "cell_type": "markdown",
   "metadata": {},
   "source": [
    "## Checking the status of generation jobs\n",
    "\n",
    "While your video is generating you can check its status in one of two ways.\n",
    "\n",
    "### Using get_async_invoke()\n",
    "\n",
    "If you know the invocation ARN of the job you'd like to check, you can use the the `get_async_invoke()` method to check the job's status. Run the cell below to check the status of the last job you initiated above.\n"
   ]
  },
  {
   "cell_type": "code",
   "execution_count": null,
   "metadata": {},
   "outputs": [],
   "source": [
    "# Create the Bedrock Runtime client.\n",
    "bedrock_runtime = boto3.client(\"bedrock-runtime\")\n",
    "\n",
    "response = bedrock_runtime.get_async_invoke(\n",
    "    invocationArn=invocation_arn\n",
    ")\n",
    "\n",
    "status = response[\"status\"]\n",
    "logger.info(f\"Status: {status}\")\n",
    "\n",
    "# Pretty print the JSON response\n",
    "logger.info(\"\\nFull response:\")\n",
    "logger.info(json.dumps(response, indent=2, default=str))"
   ]
  },
  {
   "cell_type": "markdown",
   "metadata": {},
   "source": [
    "### Using list_async_invokes()\n",
    "\n",
    "The following code demonstrates how to check the status of **all** video generation jobs in your account using the `list_async_invokes()` method. This method is useful when you don't know the invocation ARN of a job you want to check the status of or if you want to create a dashboard that lists running, completed, or failed jobs. This method supports a number of arguments that allow you to filter by status, date, and a `maxResults` limit. It also supports pagination. We don't show the full API in this example."
   ]
  },
  {
   "cell_type": "code",
   "execution_count": null,
   "metadata": {},
   "outputs": [],
   "source": [
    "# Create the Bedrock Runtime client.\n",
    "bedrock_runtime = boto3.client(\"bedrock-runtime\")\n",
    "\n",
    "invocation = bedrock_runtime.list_async_invokes(\n",
    "    maxResults=10,  # (Optional)\n",
    "    statusEquals=\"InProgress\",  # (Optional) Can be \"Completed\", \"InProgress\", or \"Failed\". Omit this argument to list all jobs, regardless of status.\n",
    "    # Note: There are other supported arguments not demonstrated here.\n",
    ")\n",
    "\n",
    "# Pretty print the JSON response\n",
    "logger.info(\"Invocation Jobs:\")\n",
    "logger.info(json.dumps(invocation, indent=2, default=str))"
   ]
  },
  {
   "cell_type": "markdown",
   "metadata": {},
   "source": [
    "## Making things easy\n",
    "\n",
    "We've provided a set of utility functions in the `amazon_video_util.py` script. One of these functions provides a solution to automatically downloading previously completed jobs and monitoring in-progress jobs. Update the `duration_hours` variable below and then run the cell to download and monitor any video generation jobs started in your account during that time.\n"
   ]
  },
  {
   "cell_type": "code",
   "execution_count": null,
   "metadata": {},
   "outputs": [],
   "source": [
    "from datetime import datetime, timedelta, timezone\n",
    "\n",
    "# Download and monitor videos from the past N hours.\n",
    "duration_hours = 1\n",
    "\n",
    "# Video timestamps are in utc, so we use utc now\n",
    "from_submit_time = datetime.now(timezone.utc) - timedelta(hours=duration_hours)\n",
    "amazon_video_util.monitor_and_download_videos(\"output\", submit_time_after=from_submit_time)"
   ]
  },
  {
   "cell_type": "markdown",
   "metadata": {},
   "source": [
    "Alternatively if you only want to monitor and download a single job you can use the below utility function and pass in the `invocation_arn` of the job to monitor and download. This function will return the local file path for the generated video for successfully completed jobs."
   ]
  },
  {
   "cell_type": "code",
   "execution_count": null,
   "metadata": {},
   "outputs": [],
   "source": [
    "local_file_path = amazon_video_util.monitor_and_download_video(invocation_arn, \"output\")"
   ]
  },
  {
   "cell_type": "markdown",
   "metadata": {},
   "source": [
    "## Viewing output video\n",
    "You can then view your output video by running the below cell:"
   ]
  },
  {
   "cell_type": "code",
   "execution_count": null,
   "metadata": {},
   "outputs": [],
   "source": [
    "from IPython.display import Video\n",
    "Video(local_file_path)"
   ]
  }
 ],
 "metadata": {
  "kernelspec": {
   "display_name": "base",
   "language": "python",
   "name": "python3"
  },
  "language_info": {
   "codemirror_mode": {
    "name": "ipython",
    "version": 3
   },
   "file_extension": ".py",
   "mimetype": "text/x-python",
   "name": "python",
   "nbconvert_exporter": "python",
   "pygments_lexer": "ipython3",
   "version": "3.12.2"
  }
 },
 "nbformat": 4,
 "nbformat_minor": 2
}
