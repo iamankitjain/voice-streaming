{
 "cells": [
  {
   "cell_type": "markdown",
   "metadata": {},
   "source": [
    "# Image to Video Generation\n",
    "\n",
    "This notebook will help you quickly start generating your own videos from images using Amazon Nova Reel.\n",
    "\n",
    "## Prerequisites\n",
    "\n",
    "Be sure you've followed the instructions in the [00_initial_setup.ipynb](../00_initial_setup.ipynb) notebook to get things set up.\n"
   ]
  },
  {
   "cell_type": "markdown",
   "metadata": {},
   "source": [
    "## Configure credentials and shared parameters\n",
    "\n",
    "Run the cell below to set the default session configuration for all AWS SDK calls made by the other cells in this notebook. As written, the code will default to using the user credentials you have set as your \"default\" via the AWS CLI. If you'd like to use different credentials, you can modify the code below to add `aws_access_key_id` and `aws_secret_access_key` arguments to the setup function.\n"
   ]
  },
  {
   "cell_type": "code",
   "execution_count": null,
   "metadata": {},
   "outputs": [],
   "source": [
    "import boto3\n",
    "import logging\n",
    "\n",
    "logging.basicConfig(level=logging.INFO, format='[%(levelname)s] %(message)s')\n",
    "logger = logging.getLogger(__name__)\n",
    "\n",
    "MODEL_ID = \"amazon.nova-reel-v1:0\"\n",
    "\n",
    "# Set default region and credentials.\n",
    "boto3.setup_default_session(\n",
    "    region_name=\"us-east-1\"\n",
    ")\n",
    "\n",
    "logger.info(\"AWS SDK session defaults have been set.\")"
   ]
  },
  {
   "cell_type": "markdown",
   "metadata": {},
   "source": [
    "## Invoking the model\n",
    "\n",
    "Generating a video takes some time - approximately 3.5 minutes to produce a 6 second video. To accomodate this execution time, the Bedrock Runtime introduces a new asynchronous invocation API. Calling `start_async_invoke()` creates a new invocation job. When the job completes, Bedrock automatically saves the generated video to an S3 bucket you specify.\n",
    "\n",
    "### Image-to-Video\n",
    "\n",
    "You can also generate videos by providing an initial starting image and a text prompt. For best results, the text prompt should describe the image and also provide details about the desired action and camera movement you'd like the video to have. Modify the `s3_destination_bucket`, `input_image_path`, and `video_prompt` variables at the start of the code below and then run the cell to start generating your video.\n",
    "\n",
    "\n",
    "\n",
    "<div style=\"display: flex; justify-content: space-between;\">\n",
    "    <div style=\"width: 48%;\">\n",
    "        <p align=\"center\">\n",
    "            <img src=\"../images/sample-frame-1.png\" width=\"100%\" style=\"padding: 4px\">\n",
    "            <br>\n",
    "            <em>Input image</em>\n",
    "        </p>\n",
    "    </div>\n",
    "    <div style=\"width: 48%\">\n",
    "        <p align=\"center\">\n",
    "            <video alt=\"example_text_to_video\" controls style=\"padding: 4px\" >\n",
    "                <source src=\"../videos/example_image_to_video.mp4\" type=\"video/mp4\" >\n",
    "            </video>\n",
    "            <br>\n",
    "            <em>Output video</em>\n",
    "        </p>\n",
    "    </div>\n",
    "</div>"
   ]
  },
  {
   "cell_type": "code",
   "execution_count": null,
   "metadata": {},
   "outputs": [],
   "source": [
    "import json\n",
    "import random\n",
    "import base64\n",
    "import amazon_video_util\n",
    "\n",
    "\"\"\"\n",
    "IMPORTANT: Modify the S3 destination (s3_destination_bucket) and video prompt (video_prompt) below.\n",
    "\"\"\"\n",
    "\n",
    "# Specify an S3 bucket for the video output.\n",
    "s3_destination_bucket = \"nova-videos\"  # Change this to a unique bucket name.\n",
    "\n",
    "# Define the image to use as the input image.\n",
    "input_image_path = \"../images/sample-frame-1.png\"  # Must be 1280 x 720\n",
    "\n",
    "# Specify your video generation prompt. Phrase your prompt as a summary rather than a command. Maximum 512 characters.\n",
    "video_prompt = \"dolly forward\"\n",
    "\n",
    "\"\"\"\n",
    "STOP: You should not have to modify anything below this line.\n",
    "\"\"\"\n",
    "\n",
    "# Set up the S3 client.\n",
    "s3_client = boto3.client(\"s3\")\n",
    "\n",
    "# Create the S3 bucket.\n",
    "s3_client.create_bucket(Bucket=s3_destination_bucket)\n",
    "\n",
    "# Create the Bedrock Runtime client.\n",
    "bedrock_runtime = boto3.client(\"bedrock-runtime\")\n",
    "\n",
    "# Load the input image as a Base64 string.\n",
    "with open(input_image_path, \"rb\") as f:\n",
    "    input_image_bytes = f.read()\n",
    "    input_image_base64 = base64.b64encode(input_image_bytes).decode(\"utf-8\")\n",
    "\n",
    "model_input = {\n",
    "    \"taskType\": \"TEXT_VIDEO\",\n",
    "    \"textToVideoParams\": {\n",
    "        \"text\": video_prompt,\n",
    "        \"images\": [\n",
    "            {\n",
    "                \"format\": \"png\",  # May be \"png\" or \"jpeg\"\n",
    "                \"source\": {\n",
    "                    \"bytes\": input_image_base64\n",
    "                }\n",
    "            }\n",
    "        ]\n",
    "        },\n",
    "    \"videoGenerationConfig\": {\n",
    "        \"durationSeconds\": 6,  # 6 is the only supported value currently.\n",
    "        \"fps\": 24,  # 24 is the only supported value currently.\n",
    "        \"dimension\": \"1280x720\",  # \"1280x720\" is the only supported value currently.\n",
    "        \"seed\": random.randint(\n",
    "            0, 2147483648\n",
    "        ),  # A random seed guarantees we'll get a different result each time this code runs.\n",
    "    },\n",
    "}\n",
    "\n",
    "try:\n",
    "    # Start the asynchronous video generation job.\n",
    "    invocation = bedrock_runtime.start_async_invoke(\n",
    "        modelId=\"amazon.nova-reel-v1:0\",\n",
    "        modelInput=model_input,\n",
    "        outputDataConfig={\"s3OutputDataConfig\": {\"s3Uri\": f\"s3://{s3_destination_bucket}\"}},\n",
    "    )\n",
    "\n",
    "    # This will be used by other cells in this notebook.\n",
    "    invocation_arn = invocation[\"invocationArn\"]\n",
    "\n",
    "    # Pretty print the response JSON.\n",
    "    logger.info(\"\\nResponse:\")\n",
    "    logger.info(json.dumps(invocation, indent=2, default=str))\n",
    "\n",
    "    # Save the invocation details for later reference. Helpful for debugging and reporting feedback.\n",
    "    amazon_video_util.save_invocation_info(invocation, model_input)\n",
    "\n",
    "except Exception as e:\n",
    "    logger.error(e)"
   ]
  },
  {
   "cell_type": "markdown",
   "metadata": {},
   "source": [
    "## Checking the status of generation jobs\n",
    "\n",
    "We've provided a set of utility functions in the `amazon_video_util.py` script. One of these functions will automatically download a job if it is completed or monitor it while it is in-progress. The `invocation_arn` is defined in the code cell above and passed in below. This function will return the local file path for the generated video for successfully completed jobs.\n",
    "\n"
   ]
  },
  {
   "cell_type": "code",
   "execution_count": null,
   "metadata": {},
   "outputs": [],
   "source": [
    "local_file_path = amazon_video_util.monitor_and_download_video(invocation_arn, \"output\")"
   ]
  },
  {
   "cell_type": "markdown",
   "metadata": {},
   "source": [
    "## Viewing output video\n",
    "You can then view your output video by running the below cell:"
   ]
  },
  {
   "cell_type": "code",
   "execution_count": null,
   "metadata": {},
   "outputs": [],
   "source": [
    "from IPython.display import Video\n",
    "Video(local_file_path)"
   ]
  }
 ],
 "metadata": {
  "kernelspec": {
   "display_name": "base",
   "language": "python",
   "name": "python3"
  },
  "language_info": {
   "codemirror_mode": {
    "name": "ipython",
    "version": 3
   },
   "file_extension": ".py",
   "mimetype": "text/x-python",
   "name": "python",
   "nbconvert_exporter": "python",
   "pygments_lexer": "ipython3",
   "version": "3.12.2"
  }
 },
 "nbformat": 4,
 "nbformat_minor": 2
}
