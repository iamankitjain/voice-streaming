{
 "cells": [
  {
   "cell_type": "markdown",
   "metadata": {},
   "source": [
    "## Tool Calling with the Converse API\n",
    "\n",
    "This notebook will walk through how to use tool calling to complete agentic workflows."
   ]
  },
  {
   "cell_type": "code",
   "execution_count": null,
   "metadata": {},
   "outputs": [],
   "source": [
    "import boto3\n",
    "\n",
    "LITE_MODEL_ID = \"us.amazon.nova-lite-v1:0\"\n",
    "\n",
    "# Create a Bedrock Runtime client in the AWS Region of your choice.\n",
    "client = boto3.client(\"bedrock-runtime\", region_name=\"us-east-1\")"
   ]
  },
  {
   "cell_type": "markdown",
   "metadata": {},
   "source": [
    "We'll create a basic weather tool that will generate a random temperature for the city passed in\n",
    "\n",
    "The tools available to the model can be passed through the toolConfig parameter of the converse API. It is a best practice to be specific and consise. The schema will help the model determine when and how to use the tools available"
   ]
  },
  {
   "cell_type": "code",
   "execution_count": null,
   "metadata": {},
   "outputs": [],
   "source": [
    "import string\n",
    "import random\n",
    "\n",
    "\n",
    "def get_weather(city: string):\n",
    "    return f\"{random.randint(0, 100)} degrees\"\n",
    "\n",
    "\n",
    "tool_config = {\n",
    "    \"tools\": [\n",
    "        {\n",
    "            \"toolSpec\": {\n",
    "                \"name\": \"getWeather\",  # Name of the tool\n",
    "                \"description\": \"A helpful weather tool to retrieve the current weather based on a city\",  # Helpful description of the tool's functionality\n",
    "                \"inputSchema\": {\n",
    "                    \"json\": {\n",
    "                        \"type\": \"object\",  # The top level schema MUST have a type of \"object\", properities and required keys. No other fields are allowed at this level\n",
    "                        \"properties\": {\n",
    "                            \"city\": {  # The name of the parameter\n",
    "                                \"type\": \"string\",  # parameter type: string/int/etc\n",
    "                                \"description\": \"The city to retrieve the weather for.\",  # Helpful description of the parameter\n",
    "                            }\n",
    "                        },\n",
    "                        \"required\": [\"city\"],  # List of all required parameters\n",
    "                    }\n",
    "                },\n",
    "            }\n",
    "        }\n",
    "    ]\n",
    "}"
   ]
  },
  {
   "cell_type": "markdown",
   "metadata": {},
   "source": [
    "Now that we've defined our tool, we'll put together some code that will call the model and invoke the tool if it is called.\n",
    "\n",
    "Once the tool is called we pass it back to the model as a toolResult content type\n",
    "```python\n",
    "{ \"role\": \"user\", \"content\": [{ \"toolResult\": { \"toolUseId\": tool_use[\"toolUseId\"], \"content\": [{ \"json\": { \"weather\": weather }}]}}]}\n",
    "```"
   ]
  },
  {
   "cell_type": "code",
   "execution_count": null,
   "metadata": {},
   "outputs": [],
   "source": [
    "import json\n",
    "\n",
    "\n",
    "def nova_travel_guide(city: string):\n",
    "    print(\"-----------------\")\n",
    "    user_message = f\"Can you recommend some activities for me to do in {city} based on the current weather?\"\n",
    "    print(f\"User Message: {user_message}\")\n",
    "\n",
    "    system = [\n",
    "        {\n",
    "            \"text\": \"You are a helpful travel assistant. You have access to external tools to help give recommendations to the user\"\n",
    "        }\n",
    "    ]\n",
    "\n",
    "    messages = [{\"role\": \"user\", \"content\": [{\"text\": user_message}]}]\n",
    "\n",
    "    inf_params = {\"maxTokens\": 300, \"topP\": 1, \"temperature\": 1}\n",
    "\n",
    "    initial_response = client.converse(\n",
    "        modelId=LITE_MODEL_ID,\n",
    "        system=system,\n",
    "        messages=messages,\n",
    "        inferenceConfig=inf_params,\n",
    "        additionalModelRequestFields={\"inferenceConfig\": {\"topK\": 1}},\n",
    "        toolConfig=tool_config,\n",
    "    )\n",
    "    print(\"\\n[Initial Response]\")\n",
    "    print(f\"Stop Reason: {initial_response['stopReason']}\")\n",
    "    print(f\"Content: {json.dumps(initial_response['output']['message'], indent=2)}\")\n",
    "\n",
    "    if initial_response[\"stopReason\"] == \"tool_use\":\n",
    "        tool_use = next(\n",
    "            block[\"toolUse\"]\n",
    "            for block in initial_response[\"output\"][\"message\"][\"content\"]\n",
    "            if \"toolUse\" in block\n",
    "        )\n",
    "\n",
    "        if tool_use[\"name\"] == \"getWeather\":\n",
    "\n",
    "            print(f\"\\nTool Name: {tool_use['name']}\")\n",
    "            print(f\"Tool Input: {tool_use['input']}\")\n",
    "\n",
    "            weather = get_weather(tool_use[\"input\"][\"city\"])\n",
    "\n",
    "            print(f\"Tool Result: {weather}\")\n",
    "\n",
    "            final_messages = [\n",
    "                *messages,\n",
    "                initial_response[\"output\"][\"message\"],\n",
    "                {\n",
    "                    \"role\": \"user\",\n",
    "                    \"content\": [\n",
    "                        {\n",
    "                            \"toolResult\": {\n",
    "                                \"toolUseId\": tool_use[\"toolUseId\"],\n",
    "                                \"content\": [{\"json\": {\"weather\": weather}}],\n",
    "                            }\n",
    "                        }\n",
    "                    ],\n",
    "                },\n",
    "            ]\n",
    "            final_response = client.converse(\n",
    "                modelId=LITE_MODEL_ID,\n",
    "                messages=final_messages,\n",
    "                inferenceConfig=inf_params,\n",
    "                additionalModelRequestFields={\"inferenceConfig\": {\"topK\": 1}},\n",
    "                toolConfig=tool_config,\n",
    "            )\n",
    "\n",
    "            output = next(\n",
    "                block[\"text\"]\n",
    "                for block in final_response[\"output\"][\"message\"][\"content\"]\n",
    "                if \"text\" in block\n",
    "            )\n",
    "            print(f\"\\nResponse: {output}\")\n",
    "        else:\n",
    "            print(\"The weather tool was not called\")"
   ]
  },
  {
   "cell_type": "markdown",
   "metadata": {},
   "source": [
    "Now lets interact with the tool!"
   ]
  },
  {
   "cell_type": "code",
   "execution_count": null,
   "metadata": {},
   "outputs": [],
   "source": [
    "nova_travel_guide(\"San Fransisco\")\n",
    "nova_travel_guide(\"Houston\")"
   ]
  }
 ],
 "metadata": {
  "language_info": {
   "name": "python"
  }
 },
 "nbformat": 4,
 "nbformat_minor": 2
}
