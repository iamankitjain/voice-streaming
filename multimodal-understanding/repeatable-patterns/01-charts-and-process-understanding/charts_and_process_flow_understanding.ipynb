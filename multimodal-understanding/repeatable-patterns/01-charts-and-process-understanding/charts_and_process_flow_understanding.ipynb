{
 "cells": [
  {
   "cell_type": "markdown",
   "metadata": {},
   "source": [
    "**Amazon Nova Text Understanding notebook**\n",
    "\n",
    "**Introduction**\n",
    "\n",
    "Welcome to the Amazon Nova Text Understanding notebook! We'll explore the powerful capabilities of Amazon Nova to ingest charts and text and generate insights. \n",
    "\n",
    "**Use Case**\n",
    "\n",
    "This use case demonstrates Nova's ability to summarize complex data from charts/ graphs. You are Bob, an Analyst at AnyCompany and you need to explain to your leaders last 5 years trend in cost reduction across various supplier categories as depicted in a chart. You need the help of a Foundation Model to summarize all insights from this chart.\n",
    "\n",
    "**Workshop Objectives**\n",
    "\n",
    "By the end of this workshop, you will:\n",
    "\n",
    "1. Understand the key features of Amazon Nova\n",
    "2. Learn how to use these features for a real-world scenario\n",
    "3. Gain hands-on experience with the Amazon Bedrock API \n",
    "\n"
   ]
  },
  {
   "cell_type": "code",
   "execution_count": null,
   "metadata": {},
   "outputs": [],
   "source": [
    "# Install and read in required packages\n",
    "%pip install boto3 IPython pdf2image"
   ]
  },
  {
   "cell_type": "code",
   "execution_count": null,
   "metadata": {},
   "outputs": [],
   "source": [
    "import base64\n",
    "import boto3\n",
    "import json\n",
    "from IPython.display import Image\n",
    "\n",
    "modelId = \"us.amazon.nova-lite-v1:0\"\n",
    "accept = \"application/json\"\n",
    "contentType = \"application/json\"\n",
    "bedrock_rt = boto3.client(\"bedrock-runtime\", region_name=\"us-east-1\") "
   ]
  },
  {
   "cell_type": "code",
   "execution_count": null,
   "metadata": {},
   "outputs": [],
   "source": [
    "\n",
    "with open(\"./media/cvna_2021_annual_report_image.png\", \"rb\") as image_file:\n",
    "    binary_data = image_file.read()\n",
    "    base_64_encoded_data = base64.b64encode(binary_data)\n",
    "    base64_string = base_64_encoded_data.decode(\"utf-8\")"
   ]
  },
  {
   "cell_type": "code",
   "execution_count": null,
   "metadata": {},
   "outputs": [],
   "source": [
    "def get_completion(messages):\n",
    "    prompt_config = {\n",
    "        \"schemaVersion\": \"messages-v1\",\n",
    "        \"inferenceConfig\": {\n",
    "            \"max_new_tokens\": 300,\n",
    "            \"top_p\": 0.9,\n",
    "            \"top_k\": 20,\n",
    "            \"temperature\": 0.7,\n",
    "        },\n",
    "        \"messages\": messages\n",
    "    }\n",
    "    body = json.dumps(prompt_config)\n",
    "    response = bedrock_rt.invoke_model(\n",
    "        body=body, modelId=modelId\n",
    "    )\n",
    "    response_body = json.loads(response[\"body\"].read())\n",
    "    results = response_body[\"output\"][\"message\"][\"content\"][0][\"text\"]\n",
    "    return results"
   ]
  },
  {
   "cell_type": "markdown",
   "metadata": {},
   "source": [
    "Let's see how we can pass this image to the model alongside a simple question."
   ]
  },
  {
   "cell_type": "code",
   "execution_count": null,
   "metadata": {},
   "outputs": [],
   "source": [
    "messages = [\n",
    "    {\n",
    "        \"role\": 'user',\n",
    "        \"content\": [\n",
    "            {\n",
    "                \"image\": {\n",
    "                    \"format\": \"png\",\n",
    "                    \"source\": {\"bytes\": base64_string},\n",
    "                }\n",
    "            },        \n",
    "            {\n",
    "                \"text\": \"What's in this image? Answer in a single sentence.\"\n",
    "            }\n",
    "        ]\n",
    "    }\n",
    "]\n",
    "\n",
    "get_completion(messages)\n"
   ]
  },
  {
   "cell_type": "markdown",
   "metadata": {},
   "source": [
    "The image shows various financial metrics and growth trends from Carvana's 2021 annual report, including retail units sold, total revenue, total markets, and car vending machines over the years 2014 to 2021.\n",
    "That's pretty good! Now let's ask it some more useful questions."
   ]
  },
  {
   "cell_type": "code",
   "execution_count": null,
   "metadata": {},
   "outputs": [],
   "source": [
    "questions = [\n",
    "    \"What was CVNA revenue in 2020?\",\n",
    "    \"How many additional markets has Carvana added since 2014?\",\n",
    "    \"What was 2016 revenue per retail unit sold?\"\n",
    "]\n",
    "\n",
    "for index, question in enumerate(questions):\n",
    "    messages = [\n",
    "        {\n",
    "            \n",
    "            \"role\": 'user',\n",
    "            \"content\": [\n",
    "                {\n",
    "                    \"image\": {\n",
    "                        \"format\": \"png\",\n",
    "                        \"source\": {\"bytes\": base64_string},\n",
    "                    }\n",
    "                },\n",
    "                {\n",
    "                    \"text\": question\n",
    "                }\n",
    "            ]\n",
    "        }\n",
    "    ]\n",
    "\n",
    "    print(f\"\\n----------Question {index+1}----------\")\n",
    "    print(get_completion(messages))"
   ]
  },
  {
   "cell_type": "markdown",
   "metadata": {},
   "source": [
    "As you can see, Nova is capable of answering fairly detailed questions about charts and graphs. "
   ]
  },
  {
   "cell_type": "markdown",
   "metadata": {},
   "source": [
    "**Summary**\n",
    "\n",
    "In this notebook, we explored the powerful features of Amazon Nova through the lens of Carvana. \n",
    "\n",
    "You have now experimented with using boto3 SDK to get an exposure to Amazon Nova and Amazon Bedrock API. Using this API you have analyzed different images and derived meaningful insights from the image."
   ]
  },
  {
   "cell_type": "markdown",
   "metadata": {},
   "source": []
  }
 ],
 "metadata": {
  "kernelspec": {
   "display_name": ".venv",
   "language": "python",
   "name": "python3"
  },
  "language_info": {
   "codemirror_mode": {
    "name": "ipython",
    "version": 3
   },
   "file_extension": ".py",
   "mimetype": "text/x-python",
   "name": "python",
   "nbconvert_exporter": "python",
   "pygments_lexer": "ipython3",
   "version": "3.12.0"
  }
 },
 "nbformat": 4,
 "nbformat_minor": 2
}
