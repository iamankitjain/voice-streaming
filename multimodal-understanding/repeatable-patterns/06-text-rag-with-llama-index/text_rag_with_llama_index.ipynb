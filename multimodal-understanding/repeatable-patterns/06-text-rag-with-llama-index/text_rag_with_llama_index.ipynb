{
 "cells": [
  {
   "cell_type": "markdown",
   "metadata": {},
   "source": [
    "# Building a (Very Simple) Vector Store from Scratch with Amazon Bedrock and Amazon Nova Pro\n",
    "\n",
    "In this tutorial, we show you how to build a simple in-memory vector store that can store documents along with metadata."
   ]
  },
  {
   "cell_type": "markdown",
   "metadata": {},
   "source": [
    "# Prerequisite\n",
    "Installing required packages"
   ]
  },
  {
   "cell_type": "code",
   "execution_count": null,
   "metadata": {},
   "outputs": [],
   "source": [
    "%pip install \"llama-index>=0.12.3\" llama-index-llms-bedrock-converse llama-index-embeddings-bedrock"
   ]
  },
  {
   "cell_type": "markdown",
   "metadata": {},
   "source": [
    "# Downloading data"
   ]
  },
  {
   "cell_type": "code",
   "execution_count": null,
   "metadata": {},
   "outputs": [],
   "source": [
    "!curl --user-agent \"Mozilla\" -L \"https://arxiv.org/pdf/2307.09288.pdf\" -o \"data/llama2.pdf\""
   ]
  },
  {
   "cell_type": "markdown",
   "metadata": {},
   "source": [
    "# Building Simple in memory RAG\n",
    "Here we use BedockEmbedding class to create document embeddings using default bedrock embedding model and we use the Amazon Nova Pro model for text generation"
   ]
  },
  {
   "cell_type": "code",
   "execution_count": null,
   "metadata": {},
   "outputs": [],
   "source": [
    "from llama_index.core import SimpleDirectoryReader, VectorStoreIndex\n",
    "from llama_index.llms.bedrock_converse import BedrockConverse\n",
    "from llama_index.embeddings.bedrock import BedrockEmbedding\n",
    "# Load documents\n",
    "documents = SimpleDirectoryReader(\"media/\").load_data()\n",
    "\n",
    "# Create a vector store index\n",
    "index = VectorStoreIndex.from_documents(documents, embed_model=BedrockEmbedding())\n",
    "\n",
    "# Query the index\n",
    "response = index.as_query_engine(llm=BedrockConverse(model=\"us.amazon.nova-pro-v1:0\")).query(\"Can you tell me about the key concepts for safety finetuning\")\n",
    "\n",
    "# Print the response\n",
    "print(response)"
   ]
  }
 ],
 "metadata": {
  "kernelspec": {
   "display_name": "agi-dev-3.9",
   "language": "python",
   "name": "python3"
  },
  "language_info": {
   "codemirror_mode": {
    "name": "ipython",
    "version": 3
   },
   "file_extension": ".py",
   "mimetype": "text/x-python",
   "name": "python",
   "nbconvert_exporter": "python",
   "pygments_lexer": "ipython3",
   "version": "3.9.0"
  }
 },
 "nbformat": 4,
 "nbformat_minor": 2
}
