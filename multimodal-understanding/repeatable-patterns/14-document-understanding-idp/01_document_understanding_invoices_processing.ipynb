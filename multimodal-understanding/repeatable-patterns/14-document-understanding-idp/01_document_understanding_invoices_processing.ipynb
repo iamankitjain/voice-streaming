{
 "cells": [
  {
   "cell_type": "markdown",
   "id": "0af463cd-5315-4e85-85b1-4f263709c869",
   "metadata": {},
   "source": [
    "# Intelligent Document Processing (IDP) with Amazon Nova Models\n",
    "\n",
    "In this notebook, we demonstrate how to leverage Amazon Nova models along with the AWS Bedrock Converse API for Intelligent Document Processing (IDP). Our goal is to extract both unstructured summaries and structured data from PDF invoices. We cover several use cases:\n",
    "\n",
    "- **Summarizing Content:** Extracting a brief summary and key insights from a single invoice.\n",
    "- **Structured Data Extraction:** Using a custom tool configuration to force the model to output structured data from invoices that follow the same layout.\n",
    "- **Generating Business Insights:** Aggregating data from multiple invoices to answer specific business questions.\n",
    "\n",
    "This notebook assumes you are running the code with proper AWS credentials (preferably using an IAM role) and that you have enabled Amazon Bedrock models (in us-west-2) in your account. For more details on setting up temporary AWS credentials and enabling models, please refer to the provided documentation links.\n",
    "\n",
    "**Notes:**\n",
    "- Make sure you are running this code using your AWS Credentials. This notebook assumes you are loading the credentials using an IAM role, however, you may use your access_key if you are not using IAM Roles. For more details about how to set temporaty AWS credentials please check [this link](https://docs.aws.amazon.com/IAM/latest/UserGuide/id_credentials_temp_use-resources.html).\n",
    "- Before using Amazon Bedrock models in this notebook you need to enable them in your account in us-west-2, for more details about the steps required to enabled the model please check [this link](https://docs.aws.amazon.com/bedrock/latest/userguide/model-access-modify.html).\n",
    "- This notebook uses Amazon Nova Pro as default, all [charges on-demand on request basis](https://aws.amazon.com/bedrock/pricing/).\n",
    "- Amazon Nova Pro will be used with the [Cross-Region Inference mode](https://docs.aws.amazon.com/bedrock/latest/userguide/cross-region-inference.html).\n",
    "- While this notebook uses us-west-2 (Oregon), Amazon Nova is available in a variety of AWS Regions. Check our [document pages](https://docs.aws.amazon.com/bedrock/latest/userguide/models-regions.html) for more details about the regions available."
   ]
  },
  {
   "cell_type": "markdown",
   "id": "6ce3c30c-2681-420f-81e1-6fcdb50e04df",
   "metadata": {},
   "source": [
    "## Installing requirements"
   ]
  },
  {
   "cell_type": "code",
   "execution_count": 1,
   "id": "23449ce6-c04e-4b7e-8d48-33da22ac296b",
   "metadata": {},
   "outputs": [
    {
     "name": "stdout",
     "output_type": "stream",
     "text": [
      "Note: you may need to restart the kernel to use updated packages.\n"
     ]
    }
   ],
   "source": [
    "%pip install pip setuptools packaging -U --quiet"
   ]
  },
  {
   "cell_type": "code",
   "execution_count": 2,
   "id": "bb60c421-5fbc-4660-8064-389cec9db1a4",
   "metadata": {},
   "outputs": [
    {
     "name": "stdout",
     "output_type": "stream",
     "text": [
      "Note: you may need to restart the kernel to use updated packages.\n"
     ]
    }
   ],
   "source": [
    "%pip install boto3 IPython --quiet"
   ]
  },
  {
   "cell_type": "markdown",
   "id": "f60f3a7c-af2f-46ec-8eff-2c5d6594541c",
   "metadata": {},
   "source": [
    "Lets import our modules:"
   ]
  },
  {
   "cell_type": "code",
   "execution_count": 3,
   "id": "5fe53db9-228b-4b94-869c-d2fc1a8daa93",
   "metadata": {},
   "outputs": [],
   "source": [
    "import boto3\n",
    "import logging\n",
    "from IPython.display import IFrame\n",
    "from botocore.exceptions import ClientError\n",
    "from pprint import pprint\n",
    "import json"
   ]
  },
  {
   "cell_type": "code",
   "execution_count": 4,
   "id": "c88a2d11-6a88-4631-9ee9-063eb57b3428",
   "metadata": {},
   "outputs": [],
   "source": [
    "logging.basicConfig(level=logging.INFO,\n",
    "                        format=\"%(levelname)s: %(message)s\")"
   ]
  },
  {
   "cell_type": "code",
   "execution_count": 5,
   "id": "f1d3f685-7aec-427e-96ff-63e90fd34973",
   "metadata": {},
   "outputs": [],
   "source": [
    "# Update this variable if you have enabled Amazon Nova in a different region\n",
    "region_name = \"us-west-2\""
   ]
  },
  {
   "cell_type": "markdown",
   "id": "99d16eae-caf8-43c4-a6f1-740624f1ec47",
   "metadata": {},
   "source": [
    "## 1. Summarizing Content: Extracting a brief summary and key insights from a single invoice.\n",
    "In this use case we will use Amazon Nova models to process and extract data from PDF invoices using the Bedrock Converse API."
   ]
  },
  {
   "cell_type": "markdown",
   "id": "2c5b4129-b30b-4579-80ca-3dfc1c7ee865",
   "metadata": {},
   "source": [
    "Here is our help function to load pdf and send requests to Amazon Bedrock using **Amazon Nova Pro**."
   ]
  },
  {
   "cell_type": "code",
   "execution_count": 6,
   "id": "c106f644-4f6b-4121-a606-b1f4fe19e08a",
   "metadata": {},
   "outputs": [],
   "source": [
    "def send_document_to_bedrock(prompt, model_id=\"us.amazon.nova-pro-v1:0\", file_path=None, tool_config=None, document_type=None):\n",
    "    \"\"\"\n",
    "    Sends a message to the AWS Bedrock Converse API for processing, optionally including a PDF document.\n",
    "    This function constructs a message that includes a text prompt and, if provided, a PDF document (as raw bytes)\n",
    "    read from the specified file system path. It then sends the message to the AWS Bedrock Converse API using the provided\n",
    "    model ID. Optionally, if a tool configuration is provided via the `tool_config` parameter, it is passed to the API call.\n",
    "    The API response, which includes the model's output message and associated metadata, is returned.\n",
    "    Parameters:\n",
    "        prompt (str): A text prompt that provides context or instructions for processing.\n",
    "        model_id (str): The identifier of the AWS Bedrock model to use for inference. This model must support document\n",
    "            inputs. If no model_id is provided, Amazon Nova Pro will be used.\n",
    "        file_path (str, optional): The file system path to the PDF document. If provided, the PDF will be read and\n",
    "            included in the message. Defaults to None.\n",
    "        tool_config (dict, optional): A dictionary specifying the tool configuration to be passed to the Converse API.\n",
    "            Defaults to None.\n",
    "        document_type (str): Document type, e.g., pdf, png.\n",
    "    Returns:\n",
    "        dict or None: The JSON response from the Bedrock Converse API if the call is successful, containing the model's\n",
    "        output and metadata; returns None if an error occurs.\n",
    "    Raises:\n",
    "        ClientError: If there is an error invoking the AWS Bedrock Converse API.\n",
    "    \"\"\"\n",
    "    # Build the content list starting with the prompt\n",
    "    content_blocks = [{\"text\": prompt}]\n",
    "    # If a PDF file path is provided, read the file and add a document block\n",
    "    if file_path is not None:\n",
    "        with open(file_path, \"rb\") as f:\n",
    "            doc_bytes = f.read()\n",
    "        if document_type == \"pdf\":\n",
    "            content_blocks.append({\n",
    "                \"document\": {\n",
    "                    \"name\": \"my_invoice_template\",  # Use a neutral name\n",
    "                    \"format\": \"pdf\",  # Supported formats: pdf | csv | doc | docx | xls | xlsx | html | txt | md\n",
    "                    \"source\": {\n",
    "                        \"bytes\": doc_bytes\n",
    "                    }\n",
    "                }\n",
    "            })\n",
    "        elif document_type == \"png\":\n",
    "            content_blocks.append({\n",
    "                \"image\": {\n",
    "                    \"format\": \"png\",\n",
    "                    \"source\": {\"bytes\": doc_bytes},\n",
    "                }\n",
    "            })\n",
    "    # Initialize the Bedrock runtime client\n",
    "    # Note: 'region_name' should be defined or replaced with your desired AWS region\n",
    "    bedrock_client = boto3.client(\"bedrock-runtime\", region_name=region_name)\n",
    "    # Construct the message with the content blocks\n",
    "    message = {\n",
    "        \"role\": \"user\",\n",
    "        \"content\": content_blocks\n",
    "    }\n",
    "    # Optional inference configuration parameters\n",
    "    inference_config = {\n",
    "        \"maxTokens\": 3000,\n",
    "        \"temperature\": 0\n",
    "    }\n",
    "    try:\n",
    "        # Build the parameters for the converse call\n",
    "        converse_params = {\n",
    "            \"modelId\": model_id,\n",
    "            \"messages\": [message],\n",
    "            \"inferenceConfig\": inference_config\n",
    "        }\n",
    "        # Include toolConfig if provided\n",
    "        if tool_config is not None:\n",
    "            converse_params[\"toolConfig\"] = tool_config\n",
    "        # Call the Converse API with the constructed parameters\n",
    "        response = bedrock_client.converse(**converse_params)\n",
    "        return response\n",
    "    except ClientError as e:\n",
    "        print(\"An error occurred:\", e)\n",
    "        return None"
   ]
  },
  {
   "cell_type": "markdown",
   "id": "aa91a056-d5cf-4e07-96a6-fb2f94ca508e",
   "metadata": {},
   "source": [
    "Here is how our test pdf looks like:"
   ]
  },
  {
   "cell_type": "code",
   "execution_count": 7,
   "id": "1401196d-f90b-4985-aa5a-9ab167e262c3",
   "metadata": {},
   "outputs": [
    {
     "data": {
      "text/html": [
       "\n",
       "        <iframe\n",
       "            width=\"600\"\n",
       "            height=\"900\"\n",
       "            src=\"invoices/test_invoice_0_1.pdf\"\n",
       "            frameborder=\"0\"\n",
       "            allowfullscreen\n",
       "            \n",
       "        ></iframe>\n",
       "        "
      ],
      "text/plain": [
       "<IPython.lib.display.IFrame at 0x7f58e15ebd90>"
      ]
     },
     "execution_count": 7,
     "metadata": {},
     "output_type": "execute_result"
    }
   ],
   "source": [
    "pdf_path = \"invoices/test_invoice_0_1.pdf\"\n",
    "IFrame(pdf_path, width=600, height=900)"
   ]
  },
  {
   "cell_type": "markdown",
   "id": "bac021ff-f309-44c3-a8b6-bd1488c723db",
   "metadata": {},
   "source": [
    "Lets extract a summary from one of our invoices:"
   ]
  },
  {
   "cell_type": "code",
   "execution_count": 8,
   "id": "450ad0bb-d16b-4d6b-8308-526551940edd",
   "metadata": {},
   "outputs": [
    {
     "name": "stderr",
     "output_type": "stream",
     "text": [
      "INFO: Found credentials from IAM Role: BaseNotebookInstanceEc2InstanceRole\n"
     ]
    },
    {
     "name": "stdout",
     "output_type": "stream",
     "text": [
      "- The invoice is from the Sunset Hotel.\n",
      "- Invoice number is 5331.\n",
      "- The guest's name is Thomas Johnson DDS.\n",
      "- The guest's address is 37618 Lee Keys, West Jenniferbury, MO 80214.\n",
      "- The invoice date is January 14, 2022.\n",
      "- There was 1 adult and no children or others staying.\n",
      "- Charges include a guest room, laundry, dinner, breakfast, minibar, and taxi.\n",
      "- The subtotal is $475.\n",
      "- There is a $22 discount.\n",
      "- Taxes amount to $40.20.\n",
      "- The total amount due is $493.20.\n"
     ]
    }
   ],
   "source": [
    "prompt_text = \"Please summarize the content of this PDF and share your insights in a list format.\"\n",
    "\n",
    "result = send_document_to_bedrock(prompt=prompt_text, file_path=pdf_path, document_type=\"pdf\")\n",
    "if result:\n",
    "    # Extract and print the text response from the model\n",
    "    output_message = result.get(\"output\", {}).get(\"message\", {})\n",
    "    for content in output_message.get(\"content\", []):\n",
    "        if \"text\" in content:\n",
    "            print(content[\"text\"])"
   ]
  },
  {
   "cell_type": "markdown",
   "id": "76ed63ad-6207-44c0-8956-d9561f4dd3af",
   "metadata": {},
   "source": [
    "## Structured Data Extraction: Using a custom tool configuration to force the model to output structured data from invoices that follow the same layout\n",
    "Amazon Nova Pro was able to extract all the information present in our sample invoice. However, let’s improve our workflow by extracting data from our invoices using a custom blueprint and producing structured output. For this approach, we will use a custom tool, which is ideal if you need to force your model to produce structured output. In this sample code, we assume that all invoices follow the same layout; however, you can modify the prompts to dynamically extract data as well. First, we will ask Amazon Nova to generate our tool schema:"
   ]
  },
  {
   "cell_type": "code",
   "execution_count": 9,
   "id": "19495802-f177-46cc-9107-85ef68ab7d7e",
   "metadata": {},
   "outputs": [],
   "source": [
    "prompt_text_tool_builder=\"\"\"\n",
    "You are an expert to generate toolConfig for AWS Converse API. Your response must be a valid compact single-line JSON data structure and \n",
    "must contain the required toolConfig for a converse API tool to extract structured data from documents like my_invoice_template.\n",
    "Here is a sample toolConfig, use my_invoice_template document to create the required toolConfig:\n",
    "toolConfig={\n",
    "        \"tools\": [\n",
    "            {\n",
    "                \"toolSpec\": {\n",
    "                    \"name\": \"weather\",\n",
    "                    \"description\": \"Use this tool if the request is to get the previous, current, or future weather for a country\",\n",
    "                    \"inputSchema\": {\n",
    "                        \"json\": {\n",
    "                            \"type\": \"object\",\n",
    "                            \"properties\": {\n",
    "                                \"country\": {\n",
    "                                    \"type\": \"string\"\n",
    "                                },\n",
    "                                \"dates\": {\n",
    "                                    \"type\": \"object\",\n",
    "                                    \"properties\": {\n",
    "                                        \"date_start\": {\n",
    "                                            \"type\": \"string\",\n",
    "                                            \"format\": \"date\"\n",
    "                                        },\n",
    "                                        \"date_end\": {\n",
    "                                            \"type\": \"string\",\n",
    "                                            \"format\": \"date\"\n",
    "                                        }\n",
    "                                    },\n",
    "                                    \"required\": [\n",
    "                                        \"date_start\",\n",
    "                                        \"date_end\"\n",
    "                                    ]\n",
    "                                }\n",
    "                            },\n",
    "                            \"required\": [\n",
    "                                \"country\",\n",
    "                                \"dates\"\n",
    "                            ]\n",
    "                        }\n",
    "                    }\n",
    "                }\n",
    "            }\n",
    "        ],\n",
    "        \"toolChoice\": {\n",
    "            \"auto\": {}\n",
    "        }\n",
    "    }\n",
    "Please perform the requested task and return the result in JSON format. Follow these rules exactly:\n",
    "- Output only a valid JSON object/array with the specified content – no surrounding text, no explanations.\n",
    "- Ensure the JSON is syntactically correct: use double quotes for all keys and string values, include all \n",
    "    required commas and quotes, and close all brackets and braces properly (no missing { } or [ ]).\n",
    "- The JSON must be on a single line (compact format) without any line breaks or markdown formatting. \n",
    "    Do not use triple backticks or code blocks – just raw JSON.\n",
    "- Use the exact JSON structure required for the answer.\n",
    "Now, using the information provided, generate the answer as JSON following the above requirements and schema. \n",
    "Do NOT include any text outside the JSON structure.\n",
    "\"\"\""
   ]
  },
  {
   "cell_type": "code",
   "execution_count": 10,
   "id": "ab49fe48-9ed7-469b-a4a4-5459f78d46c1",
   "metadata": {},
   "outputs": [
    {
     "name": "stdout",
     "output_type": "stream",
     "text": [
      "{\"tools\":[{\"toolSpec\":{\"name\":\"extract_invoice_data\",\"description\":\"Use this tool to extract structured data from an invoice document.\",\"inputSchema\":{\"json\":{\"type\":\"object\",\"properties\":{\"invoice_number\":{\"type\":\"string\"},\"guest_name\":{\"type\":\"string\"},\"date_of_issue\":{\"type\":\"string\",\"format\":\"date\"},\"guest_address\":{\"type\":\"string\"},\"no_of_adults\":{\"type\":\"integer\"},\"no_of_children\":{\"type\":\"integer\"},\"others\":{\"type\":\"integer\"},\"items\":{\"type\":\"array\",\"items\":{\"type\":\"object\",\"properties\":{\"no\":{\"type\":\"integer\"},\"date\":{\"type\":\"string\",\"format\":\"date\"},\"description\":{\"type\":\"string\"},\"amount\":{\"type\":\"number\"}}},\"minItems\":1},\"subtotal\":{\"type\":\"number\"},\"discounts\":{\"type\":\"number\"},\"taxes\":{\"type\":\"number\"},\"total\":{\"type\":\"number\"}},\"required\":[\"invoice_number\",\"guest_name\",\"date_of_issue\",\"guest_address\",\"no_of_adults\",\"no_of_children\",\"others\",\"items\",\"subtotal\",\"discounts\",\"taxes\",\"total\"]}}}}],\"toolChoice\":{\"auto\":{}}}\n"
     ]
    }
   ],
   "source": [
    "result = send_document_to_bedrock(prompt=prompt_text_tool_builder, file_path=pdf_path, document_type=\"pdf\")\n",
    "if result:\n",
    "    # Extract and print the text response from the model\n",
    "    output_message = result.get(\"output\", {}).get(\"message\", {})\n",
    "    for content in output_message.get(\"content\", []):\n",
    "        if \"text\" in content:\n",
    "            tools = content[\"text\"]\n",
    "            print(tools)"
   ]
  },
  {
   "cell_type": "markdown",
   "id": "37397dd9-4cb1-49ce-87d9-06ae5d0d0d9c",
   "metadata": {},
   "source": [
    "It is time to use our `send_document_to_bedrock` function again but this time adding our new tool."
   ]
  },
  {
   "cell_type": "code",
   "execution_count": 11,
   "id": "e1202fc3-674e-4199-a06c-0cd2a27e4ac7",
   "metadata": {},
   "outputs": [
    {
     "name": "stdout",
     "output_type": "stream",
     "text": [
      "{'date_of_issue': '2022-01-14',\n",
      " 'discounts': 22.0,\n",
      " 'guest_address': '37618 Lee Keys West Jenniferbury, MO 80214',\n",
      " 'guest_name': 'Thomas Johnson DDS',\n",
      " 'invoice_number': '5331',\n",
      " 'items': [{'amount': 180.0,\n",
      "            'date': '2022-01-14',\n",
      "            'description': 'Guest room',\n",
      "            'no': 1},\n",
      "           {'amount': 15.0,\n",
      "            'date': '2022-01-14',\n",
      "            'description': 'Laundry',\n",
      "            'no': 2},\n",
      "           {'amount': 70.0,\n",
      "            'date': '2022-01-14',\n",
      "            'description': 'Dinner',\n",
      "            'no': 3},\n",
      "           {'amount': 30.0,\n",
      "            'date': '2022-01-14',\n",
      "            'description': 'Breakfast',\n",
      "            'no': 4},\n",
      "           {'amount': 90.0,\n",
      "            'date': '2022-01-14',\n",
      "            'description': 'Minibar',\n",
      "            'no': 5},\n",
      "           {'amount': 90.0,\n",
      "            'date': '2022-01-14',\n",
      "            'description': 'Taxi',\n",
      "            'no': 6}],\n",
      " 'no_of_adults': 1,\n",
      " 'no_of_children': 0,\n",
      " 'others': 0,\n",
      " 'subtotal': 475.0,\n",
      " 'taxes': 40.2,\n",
      " 'total': 493.2}\n"
     ]
    }
   ],
   "source": [
    "prompt_text = \"Please summarize the content of this PDF and share your insights.\"\n",
    "# Document list\n",
    "document_list = []\n",
    "\n",
    "# Lets add another helper function\n",
    "def update_document_list(prompt, file_path, tools, document_type, document_list):\n",
    "    \"\"\"\n",
    "    This function updates the document list by sending the prompt and file path to the Bedrock model.\n",
    "    It then extracts the toolUse input from the model's response and appends it to the document list.\n",
    "\n",
    "    Args:\n",
    "        prompt (str): The prompt to be sent to the Bedrock model.\n",
    "        file_path (str): The path to the file to be sent to the Bedrock model.\n",
    "        tools (str): The tools configuration for the Bedrock model.\n",
    "        document_type (str): The type of document being processed.\n",
    "        document_list (list): The list to which the extracted toolUse input will be appended.\n",
    "\n",
    "    Returns:\n",
    "        None\n",
    "    \"\"\"\n",
    "    result = send_document_to_bedrock(\n",
    "        prompt=prompt,\n",
    "        file_path=file_path,\n",
    "        tool_config=eval(tools),  # pass the dictionary, not a string\n",
    "        document_type=document_type)\n",
    "    if result:\n",
    "        # Extract and print the text response from the model\n",
    "        output_message = result.get(\"output\", {}).get(\"message\", {})\n",
    "        for content in output_message.get(\"content\", []):\n",
    "            if \"toolUse\" in content:\n",
    "                pprint(content[\"toolUse\"][\"input\"])\n",
    "                # We will store the extracted information in our list\n",
    "                document_list.append(content[\"toolUse\"][\"input\"])\n",
    "\n",
    "update_document_list(prompt=prompt_text, file_path=pdf_path, tools=tools, document_type=\"pdf\", document_list=document_list)"
   ]
  },
  {
   "cell_type": "markdown",
   "id": "cb0a5a98-97e6-470f-bd5a-fcece2f4c649",
   "metadata": {},
   "source": [
    "We will now extract the information from a second document using the same tool created by Nova, and add the document to our list."
   ]
  },
  {
   "cell_type": "code",
   "execution_count": 12,
   "id": "5fff6859-10d7-4db0-ace0-2b6f0960bea5",
   "metadata": {},
   "outputs": [
    {
     "name": "stdout",
     "output_type": "stream",
     "text": [
      "{'date_of_issue': '2021-04-21',\n",
      " 'discounts': 24,\n",
      " 'guest_address': '73065 Amanda Forges Crossbyside, AL 81369',\n",
      " 'guest_name': 'Michaela Johns',\n",
      " 'invoice_number': '9582',\n",
      " 'items': [{'amount': 180,\n",
      "            'date': '2021-04-19',\n",
      "            'description': 'Guest room',\n",
      "            'no': 1},\n",
      "           {'amount': 30,\n",
      "            'date': '2021-04-19',\n",
      "            'description': 'Breakfast',\n",
      "            'no': 2},\n",
      "           {'amount': 180,\n",
      "            'date': '2021-04-20',\n",
      "            'description': 'Guest room',\n",
      "            'no': 3},\n",
      "           {'amount': 15,\n",
      "            'date': '2021-04-20',\n",
      "            'description': 'Laundry',\n",
      "            'no': 4},\n",
      "           {'amount': 70,\n",
      "            'date': '2021-04-20',\n",
      "            'description': 'Dinner',\n",
      "            'no': 5},\n",
      "           {'amount': 30,\n",
      "            'date': '2021-04-20',\n",
      "            'description': 'Breakfast',\n",
      "            'no': 6},\n",
      "           {'amount': 180,\n",
      "            'date': '2021-04-21',\n",
      "            'description': 'Guest room',\n",
      "            'no': 7},\n",
      "           {'amount': 30,\n",
      "            'date': '2021-04-21',\n",
      "            'description': 'Breakfast',\n",
      "            'no': 8},\n",
      "           {'amount': 70,\n",
      "            'date': '2021-04-21',\n",
      "            'description': 'Dinner',\n",
      "            'no': 9},\n",
      "           {'amount': 15,\n",
      "            'date': '2021-04-21',\n",
      "            'description': 'Laundry',\n",
      "            'no': 10}],\n",
      " 'no_of_adults': 1,\n",
      " 'no_of_children': 0,\n",
      " 'others': 0,\n",
      " 'subtotal': 800,\n",
      " 'taxes': 68.9,\n",
      " 'total': 844.9}\n"
     ]
    }
   ],
   "source": [
    "# here is a different invoice\n",
    "pdf_path=\"invoices/test_invoice_0_2.pdf\"\n",
    "\n",
    "update_document_list(prompt=prompt_text, file_path=pdf_path, tools=tools, document_type=\"pdf\", document_list=document_list)"
   ]
  },
  {
   "cell_type": "code",
   "execution_count": 13,
   "id": "a23d6f8e-d01c-47d3-98d7-3136ce64eec0",
   "metadata": {},
   "outputs": [
    {
     "data": {
      "text/html": [
       "\n",
       "        <iframe\n",
       "            width=\"600\"\n",
       "            height=\"900\"\n",
       "            src=\"invoices/test_invoice_0_2.pdf\"\n",
       "            frameborder=\"0\"\n",
       "            allowfullscreen\n",
       "            \n",
       "        ></iframe>\n",
       "        "
      ],
      "text/plain": [
       "<IPython.lib.display.IFrame at 0x7f58b7ee1870>"
      ]
     },
     "execution_count": 13,
     "metadata": {},
     "output_type": "execute_result"
    }
   ],
   "source": [
    "# Here is the second PDF\n",
    "IFrame(pdf_path, width=600, height=900)"
   ]
  },
  {
   "cell_type": "markdown",
   "id": "748e1ccc-dca4-4cca-9932-0614401990c1",
   "metadata": {},
   "source": [
    "We have two documents in our list now:"
   ]
  },
  {
   "cell_type": "code",
   "execution_count": 14,
   "id": "e83c28b7-5738-4cc3-975e-f561d05abc72",
   "metadata": {},
   "outputs": [
    {
     "name": "stdout",
     "output_type": "stream",
     "text": [
      "Document count: 2\n"
     ]
    }
   ],
   "source": [
    "print(f'Document count: {len(document_list)}')"
   ]
  },
  {
   "cell_type": "markdown",
   "id": "7ad202d6-47c2-4e5c-8c63-20c2b57c4ec5",
   "metadata": {},
   "source": [
    "## Generating Business Insights: Aggregating data from multiple invoices to answer specific business questions\n",
    "We have used Amazon Nova to create a custom blueprint using a tool for the Converse API and also extracted data from 2 documents using the same blueprint. We will interrogate our data and generate insights with the following questions:\n",
    "1. What guest spent the most in the hotel?\n",
    "2. What guest spent the least nights in the hotel?"
   ]
  },
  {
   "cell_type": "code",
   "execution_count": 15,
   "id": "dd68b00b-c6d6-483c-92c9-dfbca0fa65d6",
   "metadata": {},
   "outputs": [],
   "source": [
    "user_questions=\"\"\"\n",
    "1. What guest spent the most in the hotel?\n",
    "2. What guest spent the least nights in the hotel?\n",
    "\"\"\"\n",
    "\n",
    "prompt_extracting_insights=f\"\"\"\n",
    "You are a business analysist specialiased to extract information from invoices. You will be provided with a list of invoices, \n",
    "answer the user question using only information present in your list of invoices. Your response must be in raw text.\n",
    "User question: {user_questions}\n",
    "List of invoices: {document_list}\n",
    "\"\"\""
   ]
  },
  {
   "cell_type": "code",
   "execution_count": 16,
   "id": "94c35735-af9d-4252-8f9e-f59702c7ed32",
   "metadata": {},
   "outputs": [
    {
     "name": "stdout",
     "output_type": "stream",
     "text": [
      "1. The guest who spent the most in the hotel is Michaela Johns with a total of 844.9.\n",
      "2. The guest who spent the least nights in the hotel is Thomas Johnson DDS with 1 night.\n"
     ]
    }
   ],
   "source": [
    "def business_insights(prompt=prompt_extracting_insights):\n",
    "    result = send_document_to_bedrock(prompt=prompt)\n",
    "    if result:\n",
    "        # Extract and print the text response from the model\n",
    "        output_message = result.get(\"output\", {}).get(\"message\", {})\n",
    "        for content in output_message.get(\"content\", []):\n",
    "            if \"text\" in content:\n",
    "                print(content[\"text\"])\n",
    "business_insights()"
   ]
  },
  {
   "cell_type": "markdown",
   "id": "724a844b-56cd-4924-88d5-7b753476ed52",
   "metadata": {},
   "source": [
    "## 2. Summarizing Content: Extracting a brief summary and key insights from a single invoice (image).\n",
    "We also have some files which are scanned images of physical invoices, Amazon Nova can also work with image files. Now we will use Amazon Nova models to process and extract data from image files using the Bedrock Converse API."
   ]
  },
  {
   "cell_type": "code",
   "execution_count": 17,
   "id": "4e868c94-3365-4a22-b927-9d5ba2c3d249",
   "metadata": {},
   "outputs": [
    {
     "data": {
      "image/png": "[encoded data removed]",
      "text/plain": [
       "<IPython.core.display.Image object>"
      ]
     },
     "metadata": {},
     "output_type": "display_data"
    }
   ],
   "source": [
    "from IPython.display import display, Image\n",
    "\n",
    "# here is the first invoice\n",
    "image_path = \"invoices/invoice_0.png\"\n",
    "display(Image(filename=image_path))"
   ]
  },
  {
   "cell_type": "markdown",
   "id": "9ba8a612-164a-4552-870f-65e29edf92ca",
   "metadata": {},
   "source": [
    "Lets go over the same exercise, first we will extract unstructured insights from our invoice and then later retrieve a structured output in JSON."
   ]
  },
  {
   "cell_type": "code",
   "execution_count": 18,
   "id": "820b6ee8-c74b-4cec-b45c-6a6c6318bcf9",
   "metadata": {},
   "outputs": [
    {
     "name": "stdout",
     "output_type": "stream",
     "text": [
      "- The document is an invoice from AnyCompany Hardwares LLC.\n",
      "- The invoice number is 37930851-1.\n",
      "- The invoice date is September 16, 2019.\n",
      "- The customer ID is 8640.\n",
      "- The due date for payment is October 1, 2019.\n",
      "- The invoice is addressed to Arnav Desai at 12021 O'Reilly Stravenue, Kilbackmouth, Utah 76227.\n",
      "- The contact email for the recipient is Arnav.Desai@example.com.\n",
      "- The description of the service provided is \"Downtown Pet Supply Himalayan Yak.\"\n",
      "- The amount charged for the service is $34.33.\n",
      "- The total amount due is $34.33.\n",
      "- Payment terms indicate that the total payment is due within 30 days.\n",
      "- If paying by check, the invoice number should be included in the check.\n",
      "- Contact information for inquiries is provided as Phone: (858)-555-0101 and Email: invoice.inquiry@example.com.\n",
      "- The document concludes with a thank you message for the customer's business.\n"
     ]
    }
   ],
   "source": [
    "prompt_text = \"Please summarize the content of this image and share your insights in a list format.\"\n",
    "\n",
    "# notice we are still using the same function but we are providing \"png\" as document type\n",
    "result = send_document_to_bedrock(prompt=prompt_text, file_path=image_path, document_type=\"png\")\n",
    "if result:\n",
    "    # Extract and print the text response from the model\n",
    "    output_message = result.get(\"output\", {}).get(\"message\", {})\n",
    "    for content in output_message.get(\"content\", []):\n",
    "        if \"text\" in content:\n",
    "            print(content[\"text\"])"
   ]
  },
  {
   "cell_type": "markdown",
   "id": "03913cdd-6291-48d2-b21c-d172593d69a6",
   "metadata": {},
   "source": [
    "## Structured Data Extraction: Using a custom tool to force the model to output structured data from image invoices\n",
    "Since Amazon Nova generated a tool capable of extracting data from PDF, we can use that as an example for our image blueprints."
   ]
  },
  {
   "cell_type": "code",
   "execution_count": 19,
   "id": "4333f72c-48be-4aee-bf11-7510dda01e27",
   "metadata": {},
   "outputs": [],
   "source": [
    "improved_prompt_text_tool_builder=\"\"\"\n",
    "You are an expert to generate toolConfig for AWS Converse API. Your response must be a valid compact single-line JSON data structure and \n",
    "must contain the required toolConfig for a converse API tool to extract structured data from documents like my_invoice_template.\n",
    "Here is a sample toolConfig, use my_invoice_template document to create the required toolConfig:\n",
    "toolConfig={\n",
    "    \"tools\": [\n",
    "        {\n",
    "            \"toolSpec\": {\n",
    "                \"name\": \"extract_invoice_data\",\n",
    "                \"description\": \"Use this tool to extract structured data from an invoice document.\",\n",
    "                \"inputSchema\": {\n",
    "                    \"json\": {\n",
    "                        \"type\": \"object\",\n",
    "                        \"properties\": {\n",
    "                            \"invoice_number\": {\n",
    "                                \"type\": \"string\"\n",
    "                            },\n",
    "                            \"guest_name\": {\n",
    "                                \"type\": \"string\"\n",
    "                            },\n",
    "                            \"date_of_issue\": {\n",
    "                                \"type\": \"string\",\n",
    "                                \"format\": \"date\"\n",
    "                            },\n",
    "                            \"guest_address\": {\n",
    "                                \"type\": \"string\"\n",
    "                            },\n",
    "                            \"no_of_adults\": {\n",
    "                                \"type\": \"integer\"\n",
    "                            },\n",
    "                            \"no_of_children\": {\n",
    "                                \"type\": \"integer\"\n",
    "                            },\n",
    "                            \"others\": {\n",
    "                                \"type\": \"integer\"\n",
    "                            },\n",
    "                            \"items\": {\n",
    "                                \"type\": \"array\",\n",
    "                                \"items\": {\n",
    "                                    \"type\": \"object\",\n",
    "                                    \"properties\": {\n",
    "                                        \"no\": {\n",
    "                                            \"type\": \"integer\"\n",
    "                                        },\n",
    "                                        \"date\": {\n",
    "                                            \"type\": \"string\",\n",
    "                                            \"format\": \"date\"\n",
    "                                        },\n",
    "                                        \"description\": {\n",
    "                                            \"type\": \"string\"\n",
    "                                        },\n",
    "                                        \"amount\": {\n",
    "                                            \"type\": \"number\"\n",
    "                                        }\n",
    "                                    }\n",
    "                                },\n",
    "                                \"minItems\": 1\n",
    "                            },\n",
    "                            \"subtotal\": {\n",
    "                                \"type\": \"number\"\n",
    "                            },\n",
    "                            \"discounts\": {\n",
    "                                \"type\": \"number\"\n",
    "                            },\n",
    "                            \"taxes\": {\n",
    "                                \"type\": \"number\"\n",
    "                            },\n",
    "                            \"total\": {\n",
    "                                \"type\": \"number\"\n",
    "                            }\n",
    "                        },\n",
    "                        \"required\": [\n",
    "                            \"invoice_number\",\n",
    "                            \"guest_name\",\n",
    "                            \"date_of_issue\",\n",
    "                            \"guest_address\",\n",
    "                            \"no_of_adults\",\n",
    "                            \"no_of_children\",\n",
    "                            \"others\",\n",
    "                            \"items\",\n",
    "                            \"subtotal\",\n",
    "                            \"discounts\",\n",
    "                            \"taxes\",\n",
    "                            \"total\"\n",
    "                        ]\n",
    "                    }\n",
    "                }\n",
    "            }\n",
    "        }\n",
    "    ],\n",
    "    \"toolChoice\": {\n",
    "        \"auto\": {}\n",
    "    }\n",
    "}\n",
    "Please perform the requested task and return the result in JSON format. Follow these rules exactly:\n",
    "- Output only a valid JSON object/array with the specified content – no surrounding text, no explanations.\n",
    "- Ensure the JSON is syntactically correct: use double quotes for all keys and string values, include all \n",
    "    required commas and quotes, and close all brackets and braces properly (no missing { } or [ ]).\n",
    "- The JSON must be on a single line (compact format) without any line breaks or markdown formatting. \n",
    "    Do not use triple backticks or code blocks – just raw JSON.\n",
    "- Use the exact JSON structure required for the answer.\n",
    "Now, using the information provided, generate the answer as JSON following the above requirements and schema. \n",
    "Do NOT include any text outside the JSON structure.\n",
    "\"\"\""
   ]
  },
  {
   "cell_type": "code",
   "execution_count": 20,
   "id": "922539fb-23b0-4b06-bad7-4ed2605548f8",
   "metadata": {},
   "outputs": [
    {
     "name": "stdout",
     "output_type": "stream",
     "text": [
      "{\"tools\":[{\"toolSpec\":{\"name\":\"extract_invoice_data\",\"description\":\"Use this tool to extract structured data from an invoice document.\",\"inputSchema\":{\"json\":{\"type\":\"object\",\"properties\":{\"invoice_number\":{\"type\":\"string\"},\"customer_id\":{\"type\":\"string\"},\"date\":{\"type\":\"string\",\"format\":\"date\"},\"due_date\":{\"type\":\"string\",\"format\":\"date\"},\"bill_to\":{\"type\":\"string\"},\"description\":{\"type\":\"string\"},\"amount\":{\"type\":\"number\"},\"total\":{\"type\":\"number\"}},\"required\":[\"invoice_number\",\"customer_id\",\"date\",\"due_date\",\"bill_to\",\"description\",\"amount\",\"total\"]}}}}],\"toolChoice\":{\"auto\":{}}}\n"
     ]
    }
   ],
   "source": [
    "# It is time to use our new prompt, set the document type as png and use our new invoice (image)\n",
    "result = send_document_to_bedrock(prompt=improved_prompt_text_tool_builder, file_path=image_path, document_type=\"png\")\n",
    "if result:\n",
    "    # Extract and print the text response from the model\n",
    "    output_message = result.get(\"output\", {}).get(\"message\", {})\n",
    "    for content in output_message.get(\"content\", []):\n",
    "        if \"text\" in content:\n",
    "            tools = content[\"text\"]\n",
    "            print(tools)"
   ]
  },
  {
   "cell_type": "markdown",
   "id": "8b56d9eb-db69-4ce3-bc34-34875627ec40",
   "metadata": {},
   "source": [
    "It is time to test our new blueprint/tool with images."
   ]
  },
  {
   "cell_type": "code",
   "execution_count": 26,
   "id": "53723d7d-3338-492e-8236-045875acce25",
   "metadata": {},
   "outputs": [
    {
     "name": "stdout",
     "output_type": "stream",
     "text": [
      "{'amount': 49.36,\n",
      " 'bill_to': 'Jorge Souza\\n'\n",
      "            '2260 Blick Lakes, Maryrosecchester\\n'\n",
      "            'South Carolina 24084\\n'\n",
      "            'Jorge.Souza@example.com',\n",
      " 'customer_id': '9485',\n",
      " 'date': 'Dec 25, 2018',\n",
      " 'description': 'Tripar 25 in. Metal Display',\n",
      " 'due_date': 'Jan 09, 2019',\n",
      " 'invoice_number': '63662111-0',\n",
      " 'total': 49.36}\n"
     ]
    }
   ],
   "source": [
    "# Please note we are setting a new list for our images\n",
    "prompt_text = \"Please summarize the content of this PDF and share your insights.\"\n",
    "image_list = []\n",
    "\n",
    "update_document_list(prompt=prompt_text, file_path=image_path, tools=tools, document_type=\"png\", document_list=image_list)"
   ]
  },
  {
   "cell_type": "markdown",
   "id": "4a102b82-2aa4-4fc2-8b6e-3ddf019e1faa",
   "metadata": {},
   "source": [
    "Lets add a second document to our list."
   ]
  },
  {
   "cell_type": "code",
   "execution_count": 22,
   "id": "3a4c2225-0e91-4977-a4cb-609290a5a729",
   "metadata": {},
   "outputs": [
    {
     "data": {
      "image/png": "[encoded data removed]",
      "text/plain": [
       "<IPython.core.display.Image object>"
      ]
     },
     "metadata": {},
     "output_type": "display_data"
    }
   ],
   "source": [
    "#Lets check our image\n",
    "image_path = \"invoices/invoice_1.png\"\n",
    "display(Image(filename=image_path))"
   ]
  },
  {
   "cell_type": "code",
   "execution_count": 27,
   "id": "6869e042-6f20-41fa-8783-962e998a33d9",
   "metadata": {},
   "outputs": [
    {
     "name": "stdout",
     "output_type": "stream",
     "text": [
      "{'amount': 49.36,\n",
      " 'bill_to': 'Jorge Souza\\n'\n",
      "            '2260 Blick Lakes, Maryrosecchester\\n'\n",
      "            'South Carolina 24084\\n'\n",
      "            'Jorge.Souza@example.com',\n",
      " 'customer_id': '9485',\n",
      " 'date': 'Dec 25, 2018',\n",
      " 'description': 'Tripar 25 in. Metal Display',\n",
      " 'due_date': 'Jan 09, 2019',\n",
      " 'invoice_number': '63662111-0',\n",
      " 'total': 49.36}\n"
     ]
    }
   ],
   "source": [
    "update_document_list(prompt=prompt_text, file_path=image_path, tools=tools, document_type=\"png\", document_list=image_list)"
   ]
  },
  {
   "cell_type": "markdown",
   "id": "0008851c-d6fe-4f3b-afae-5441accf8c0e",
   "metadata": {},
   "source": [
    "## Generating Business Insights from scanned documents"
   ]
  },
  {
   "cell_type": "code",
   "execution_count": 28,
   "id": "f823af8f-bfeb-4966-a935-756dd2ae52dc",
   "metadata": {},
   "outputs": [],
   "source": [
    "new_user_questions=\"\"\"\n",
    "1. Who spent the most?\n",
    "2. What is our oldest invoice? I need the invoice number.\n",
    "\"\"\"\n",
    "\n",
    "# Using the same prompt with a different set of questions and documents\n",
    "prompt_extracting_insights=f\"\"\"\n",
    "You are a business analysist specialiased to extract information from invoices. You will be provided with a list of invoices, \n",
    "answer the user question using only information present in your list of invoices. Your response must be in raw text.\n",
    "User question: {new_user_questions}\n",
    "List of invoices: {image_list}\n",
    "\"\"\""
   ]
  },
  {
   "cell_type": "code",
   "execution_count": 29,
   "id": "cf38380d-6cf0-4488-83d1-e477bb019276",
   "metadata": {},
   "outputs": [
    {
     "name": "stdout",
     "output_type": "stream",
     "text": [
      "1. Jorge Souza spent the most with an amount of 49.36.\n",
      "2. The oldest invoice in the list is from Dec 25, 2018, and the invoice number is 63662111-0.\n"
     ]
    }
   ],
   "source": [
    "business_insights(prompt=prompt_extracting_insights)"
   ]
  }
 ],
 "metadata": {
  "kernelspec": {
   "display_name": "conda_pytorch_p310",
   "language": "python",
   "name": "conda_pytorch_p310"
  },
  "language_info": {
   "codemirror_mode": {
    "name": "ipython",
    "version": 3
   },
   "file_extension": ".py",
   "mimetype": "text/x-python",
   "name": "python",
   "nbconvert_exporter": "python",
   "pygments_lexer": "ipython3",
   "version": "3.10.14"
  }
 },
 "nbformat": 4,
 "nbformat_minor": 5
}
