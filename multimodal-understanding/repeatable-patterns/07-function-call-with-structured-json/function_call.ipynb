{
 "cells": [
  {
   "cell_type": "markdown",
   "id": "1340b927-c194-45e5-9308-9246109a15d3",
   "metadata": {},
   "source": [
    "# Generate structured content via Functional Calling with Nova"
   ]
  },
  {
   "cell_type": "markdown",
   "id": "8b635b66-17d3-4ce9-8cca-c564671103f0",
   "metadata": {
    "tags": []
   },
   "source": [
    "### 1) Setup\n",
    "* Install python modules\n",
    "* Import required classes/functions\n",
    "* Set all static variables\n",
    "* initialise clients (AWS)"
   ]
  },
  {
   "cell_type": "code",
   "execution_count": null,
   "id": "6e90bd9a",
   "metadata": {
    "tags": []
   },
   "outputs": [],
   "source": [
    "!pip3 install -q aws-requests-auth\n",
    "\n",
    "from aws_requests_auth.aws_auth import AWSRequestsAuth\n",
    "import boto3\n",
    "import datetime\n",
    "import json\n",
    "import os\n",
    "import requests\n",
    "import urllib\n",
    "\n",
    "API_ENDPOINT=\"<API_ENDPOINT from cdk>\"\n",
    "AWS_REGION=\"us-east-1\"\n",
    "BEDROCK_MODEL=\"us.amazon.nova-pro-v1:0\"\n",
    "BEDROCK_TOOL_MODEL=\"auto\"\n",
    "# switch to \"any\" if you want to force the model to \"only\" use the tools you provide \n",
    "\n",
    "aws_session_credentials = boto3.Session().get_credentials()\n",
    "aws_client_bedrock = boto3.client(\n",
    "    service_name=\"bedrock-runtime\"\n",
    ")"
   ]
  },
  {
   "cell_type": "markdown",
   "id": "90a91162-575e-4f73-bb79-a9448a2e4cf0",
   "metadata": {},
   "source": [
    "### 2) Prompt for user input"
   ]
  },
  {
   "cell_type": "code",
   "execution_count": null,
   "id": "03d1a3ac",
   "metadata": {
    "tags": []
   },
   "outputs": [],
   "source": [
    "print(\"What is your question:\")\n",
    "user_input = input()"
   ]
  },
  {
   "cell_type": "markdown",
   "id": "b80449a4-4e66-4a27-9f3c-5882b77a09b2",
   "metadata": {},
   "source": [
    "### 3) Run user input against Nova\n",
    "* create list of messages to send to model\n",
    "* define tool configuration as JSON-schema\n",
    "* call the bedrock Converse endpoint\n",
    "* check the stop reason for the generation and assign the tool response to a variable"
   ]
  },
  {
   "cell_type": "code",
   "execution_count": null,
   "id": "b378bb94",
   "metadata": {
    "tags": []
   },
   "outputs": [],
   "source": [
    "llm_output_1 = aws_client_bedrock.converse(\n",
    "    modelId=BEDROCK_MODEL,\n",
    "    messages=[{\n",
    "        \"role\": \"user\",\n",
    "        \"content\": [{\n",
    "            \"text\": f\"\"\"\n",
    "                <user_input>\n",
    "                {user_input}\n",
    "                </user_input>\n",
    "                <instructions>\n",
    "                the current date is {datetime.datetime.today()}\n",
    "                </instructions>\n",
    "            \"\"\"\n",
    "        }]\n",
    "    }],\n",
    "    toolConfig={\n",
    "        \"tools\": [\n",
    "            {\n",
    "                \"toolSpec\": {\n",
    "                    \"name\": \"weather\",\n",
    "                    \"description\": \"Use this tool if the request is to get the previous, current, or future weather for a country\",\n",
    "                    \"inputSchema\": {\n",
    "                        \"json\": {\n",
    "                            \"type\": \"object\",\n",
    "                            \"properties\": {\n",
    "                                \"country\": {\n",
    "                                    \"type\": \"string\"\n",
    "                                },\n",
    "                                \"dates\": {\n",
    "                                    \"type\": \"object\",\n",
    "                                    \"properties\": {\n",
    "                                        \"date_start\": {\n",
    "                                            \"type\": \"string\",\n",
    "                                            \"format\": \"date\"\n",
    "                                        },\n",
    "                                        \"date_end\": {\n",
    "                                            \"type\": \"string\",\n",
    "                                            \"format\": \"date\"\n",
    "                                        }\n",
    "                                    },\n",
    "                                    \"required\": [\n",
    "                                        \"date_start\",\n",
    "                                        \"date_end\"\n",
    "                                    ]\n",
    "                                }\n",
    "                            },\n",
    "                            \"required\": [\n",
    "                                \"country\",\n",
    "                                \"dates\"\n",
    "                            ]\n",
    "                        }\n",
    "                    }\n",
    "                }\n",
    "            }\n",
    "        ],\n",
    "        \"toolChoice\": {\n",
    "            f\"{BEDROCK_TOOL_MODEL}\": {}\n",
    "        }\n",
    "    }\n",
    ")\n",
    "\n",
    "tool_payload = None\n",
    "if(llm_output_1['stopReason'] == \"tool_use\"):\n",
    "    for c in llm_output_1['output']['message']['content']:\n",
    "        if('toolUse' in c):\n",
    "            tool_payload = c['toolUse']\n",
    "    print(\"> tool use identified:\")\n",
    "    print(json.dumps(tool_payload, indent=4))\n",
    "else:\n",
    "    print(\"> no tool required to answer\")"
   ]
  },
  {
   "cell_type": "markdown",
   "id": "29317d30-5296-4eb3-8bca-8a61d6b9b806",
   "metadata": {},
   "source": [
    "### 4) Process Answer\n",
    "* check to see if a tool use was requ\n",
    "* create a signed request to APIGateway\n",
    "* lookup the mock response\n",
    "* use the mock response in a second generation to answer the user question"
   ]
  },
  {
   "cell_type": "code",
   "execution_count": null,
   "id": "b1db120e-e858-4f4b-9a19-7ca9b3c44aa0",
   "metadata": {
    "tags": []
   },
   "outputs": [],
   "source": [
    "if(tool_payload):\n",
    "    auth = AWSRequestsAuth(\n",
    "        aws_access_key=aws_session_credentials.access_key,\n",
    "        aws_secret_access_key=aws_session_credentials.secret_key,\n",
    "        aws_token=aws_session_credentials.token,\n",
    "        aws_host=urllib.parse.urlparse(API_ENDPOINT).netloc,\n",
    "        aws_region=AWS_REGION,\n",
    "        aws_service=\"execute-api\"\n",
    "    )\n",
    "\n",
    "    api_response = requests.post(\n",
    "        API_ENDPOINT,\n",
    "        json=tool_payload['input'],\n",
    "        auth=auth\n",
    "    ).text\n",
    "\n",
    "    print(\"> Mock API Gateway Response:\")\n",
    "    print(json.dumps(json.loads(api_response), indent=4))\n",
    "\n",
    "    llm_output_2 = aws_client_bedrock.converse(\n",
    "        modelId=BEDROCK_MODEL,\n",
    "        messages=[{\n",
    "            \"role\": \"user\",\n",
    "            \"content\": [{\n",
    "                \"text\": f\"\"\"\n",
    "                    <api_payload>{tool_payload['input']}</api_payload>\n",
    "                    <api_response>{api_response}</api_response>\n",
    "                    <user_question>{user_input}</user_question>\n",
    "                    <instructions>\n",
    "                    - Give a short and concise answer to <user_question> using whats in <api_response>\n",
    "                    - <api_payload> is the request to lookup information on an external service\n",
    "                    - <api_response> is the response from the external service\n",
    "                    </instructions>\n",
    "                \"\"\"\n",
    "            }]\n",
    "        }]\n",
    "    )\n",
    "    output_message = llm_output_2['output']['message']\n",
    "    for c in output_message['content']:\n",
    "        print(\"> Nova Response (with tool):\")\n",
    "        print(c['text'])\n",
    "else:\n",
    "    for c in llm_output_1['output']['message']['content']:\n",
    "        print(\"> Nova Response (without tool):\")\n",
    "        print(c['text'])"
   ]
  }
 ],
 "metadata": {
  "kernelspec": {
   "display_name": "conda_python3",
   "language": "python",
   "name": "conda_python3"
  },
  "language_info": {
   "codemirror_mode": {
    "name": "ipython",
    "version": 3
   },
   "file_extension": ".py",
   "mimetype": "text/x-python",
   "name": "python",
   "nbconvert_exporter": "python",
   "pygments_lexer": "ipython3",
   "version": "3.10.15"
  }
 },
 "nbformat": 4,
 "nbformat_minor": 5
}
