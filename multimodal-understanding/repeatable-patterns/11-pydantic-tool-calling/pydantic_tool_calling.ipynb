{
 "cells": [
  {
   "cell_type": "markdown",
   "metadata": {},
   "source": [
    "## Pydantic Tool Calling with the Converse API\n",
    "\n",
    "The tool schema created by Pydantic does not directly match the schema expected by the Converse API. In this notebook, we will walk through how you can map pydantic tools to the expected schema. "
   ]
  },
  {
   "cell_type": "markdown",
   "metadata": {},
   "source": [
    "#### Setup\n",
    "\n",
    "Install pydantic if needed"
   ]
  },
  {
   "cell_type": "code",
   "execution_count": null,
   "metadata": {},
   "outputs": [],
   "source": [
    "%pip install pydantic"
   ]
  },
  {
   "cell_type": "markdown",
   "metadata": {},
   "source": [
    "#### Tool Conversion\n",
    "\n",
    "First we will start by creating a few basic Pydantic tools that can get information about the weather"
   ]
  },
  {
   "cell_type": "code",
   "execution_count": 26,
   "metadata": {},
   "outputs": [],
   "source": [
    "from pydantic import BaseModel, Field\n",
    "from typing import List\n",
    "\n",
    "\n",
    "class GetCurrentWeather(BaseModel):\n",
    "    \"Use this function to get the realtime weather given a location\"\n",
    "    location: str = Field(description=\"location of the place\")\n",
    "    date: str = Field(description=\"the date\")\n",
    "\n",
    "\n",
    "class GetAverageTemperature(BaseModel):\n",
    "    \"Use this function to get the average temperature of a location\"\n",
    "    location: str = Field(description=\"location of the place\")"
   ]
  },
  {
   "cell_type": "markdown",
   "metadata": {},
   "source": [
    "We can view the default schema created by calling model_json_schema()"
   ]
  },
  {
   "cell_type": "code",
   "execution_count": null,
   "metadata": {},
   "outputs": [],
   "source": [
    "schema = GetCurrentWeather.model_json_schema()\n",
    "schema"
   ]
  },
  {
   "cell_type": "markdown",
   "metadata": {},
   "source": [
    "Using the values provided from the default schema, we will generate a function that will programmatically convert the tool schemas to the format expected by the converse API"
   ]
  },
  {
   "cell_type": "code",
   "execution_count": 27,
   "metadata": {},
   "outputs": [],
   "source": [
    "def pydantic_to_tool_use_conversion(tools: List[type[BaseModel]]):\n",
    "    return {\n",
    "        \"tools\": [\n",
    "            {\n",
    "                \"toolSpec\": {\n",
    "                    \"name\": schema[\"title\"],\n",
    "                    \"description\": schema[\"description\"],\n",
    "                    \"inputSchema\": {\n",
    "                        \"json\": {\n",
    "                            \"type\": \"object\",\n",
    "                            \"properties\": schema[\"properties\"],\n",
    "                            \"required\": schema[\"required\"],\n",
    "                        }\n",
    "                    },\n",
    "                }\n",
    "            }\n",
    "            for tool in tools\n",
    "            if (schema := tool.model_json_schema())\n",
    "        ]\n",
    "    }"
   ]
  },
  {
   "cell_type": "markdown",
   "metadata": {},
   "source": [
    "We can now use this method to use our pydantic tools when invoking the Converse API"
   ]
  },
  {
   "cell_type": "code",
   "execution_count": 34,
   "metadata": {},
   "outputs": [],
   "source": [
    "import boto3\n",
    "from datetime import date\n",
    "\n",
    "LITE_MODEL_ID = \"us.amazon.nova-lite-v1:0\"\n",
    "\n",
    "client = boto3.client(\"bedrock-runtime\", region_name=\"us-east-1\")\n",
    "\n",
    "\n",
    "def ask_about_the_weather(query: str):\n",
    "    print(f\"User: {query}\")\n",
    "\n",
    "    system = [\n",
    "        {\n",
    "            \"text\": f\"\"\"You are a helpful travel assistant. \n",
    "            You have access to external tools to help give recommendations to the user. \n",
    "            The current date is: {date.today()}\"\"\"\n",
    "        }\n",
    "    ]\n",
    "\n",
    "    messages = [{\"role\": \"user\", \"content\": [{\"text\": query}]}]\n",
    "\n",
    "    inf_params = {\"maxTokens\": 300, \"topP\": 1, \"temperature\": 1}\n",
    "\n",
    "    resp = client.converse(\n",
    "        modelId=LITE_MODEL_ID,\n",
    "        system=system,\n",
    "        messages=messages,\n",
    "        inferenceConfig=inf_params,\n",
    "        additionalModelRequestFields={\"inferenceConfig\": {\"topK\": 1}},\n",
    "        toolConfig=pydantic_to_tool_use_conversion(\n",
    "            [GetCurrentWeather, GetAverageTemperature]\n",
    "        ),\n",
    "    )\n",
    "\n",
    "    tool_use = next(\n",
    "        block[\"toolUse\"]\n",
    "        for block in resp[\"output\"][\"message\"][\"content\"]\n",
    "        if \"toolUse\" in block\n",
    "    )\n",
    "    print(f\"Tool: {tool_use}\\n\")"
   ]
  },
  {
   "cell_type": "code",
   "execution_count": null,
   "metadata": {},
   "outputs": [],
   "source": [
    "ask_about_the_weather(\"What is the weather in San Fransisco?\")\n",
    "ask_about_the_weather(\"What is the average temperature in San Fransisco?\")"
   ]
  }
 ],
 "metadata": {
  "kernelspec": {
   "display_name": "agi-dev-3.9",
   "language": "python",
   "name": "python3"
  },
  "language_info": {
   "codemirror_mode": {
    "name": "ipython",
    "version": 3
   },
   "file_extension": ".py",
   "mimetype": "text/x-python",
   "name": "python",
   "nbconvert_exporter": "python",
   "pygments_lexer": "ipython3",
   "version": "3.9.21"
  }
 },
 "nbformat": 4,
 "nbformat_minor": 2
}
