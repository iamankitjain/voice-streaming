{
 "cells": [
  {
   "cell_type": "markdown",
   "id": "3d8e97cd-0183-4374-ad71-2f32fd7cdfd4",
   "metadata": {},
   "source": [
    "### Setup"
   ]
  },
  {
   "cell_type": "markdown",
   "id": "0a2af62a-20d3-40de-b82b-5a02a4fec65d",
   "metadata": {},
   "source": [
    "As there are multiple different installation needed based on your use case. This notebook serves as a single place for you to install all the neccessary needed libraries all at one place\n"
   ]
  },
  {
   "cell_type": "markdown",
   "id": "e9aba729-517c-461e-8855-e2e494d4fc90",
   "metadata": {},
   "source": [
    "#### Step 1: Recommend to create a fresh virtual environment"
   ]
  },
  {
   "cell_type": "markdown",
   "id": "ebcfe75b-5e12-44d9-a2a1-4bf605df0002",
   "metadata": {},
   "source": [
    "1.1 **Create**: Create a new virtual env ( eg: .venv)\n",
    "\n",
    "```sh\n",
    "python -m venv .venv\n",
    "```\n",
    "\n",
    "1.2 **Activate**: Activate this created virtual env\n",
    "\n",
    "```sh\n",
    "source .venv/bin/activate\n",
    "```"
   ]
  },
  {
   "cell_type": "markdown",
   "id": "3beae0ac-4a1d-4ed1-a396-4182cf0166b4",
   "metadata": {},
   "source": [
    "### Step 2: Install Latest AWS SDK to make API Calls\n",
    "\n",
    "```sh\n",
    "pip install boto3 botocore\n",
    "```\n"
   ]
  },
  {
   "cell_type": "code",
   "execution_count": null,
   "id": "d3ab6c82-4505-4745-a0b9-d7d0481fef61",
   "metadata": {},
   "outputs": [],
   "source": []
  }
 ],
 "metadata": {
  "kernelspec": {
   "display_name": "Python 3 (ipykernel)",
   "language": "python",
   "name": "python3"
  },
  "language_info": {
   "codemirror_mode": {
    "name": "ipython",
    "version": 3
   },
   "file_extension": ".py",
   "mimetype": "text/x-python",
   "name": "python",
   "nbconvert_exporter": "python",
   "pygments_lexer": "ipython3",
   "version": "3.12.7"
  }
 },
 "nbformat": 4,
 "nbformat_minor": 5
}
