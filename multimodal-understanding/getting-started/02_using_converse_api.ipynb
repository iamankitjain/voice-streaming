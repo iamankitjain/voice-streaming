{
 "cells": [
  {
   "cell_type": "markdown",
   "id": "7cb107f7-2b50-4f49-8800-4044c2ad1bf0",
   "metadata": {},
   "source": [
    "## Using Converse API"
   ]
  },
  {
   "cell_type": "markdown",
   "id": "f2672d9d-4feb-4590-8839-687f0b62a1c8",
   "metadata": {},
   "source": [
    "The following examples show how to interact with Nova via the Converse API ([API Docs](https://boto3.amazonaws.com/v1/documentation/api/latest/reference/services/bedrock-runtime/client/converse.html))"
   ]
  },
  {
   "cell_type": "code",
   "execution_count": null,
   "id": "eef573d5",
   "metadata": {},
   "outputs": [],
   "source": [
    "import boto3\n",
    "import json\n",
    "import base64\n",
    "\n",
    "# Create a Bedrock Runtime client\n",
    "client = boto3.client(\"bedrock-runtime\", region_name=\"us-east-1\")\n",
    "\n",
    "PRO_MODEL_ID = \"us.amazon.nova-pro-v1:0\"\n",
    "LITE_MODEL_ID = \"us.amazon.nova-lite-v1:0\"\n",
    "MICRO_MODEL_ID = \"us.amazon.nova-micro-v1:0\"\n"
   ]
  },
  {
   "cell_type": "markdown",
   "id": "c277e63b-dcb3-4c68-835c-70638d35955a",
   "metadata": {},
   "source": [
    "### **Single Turn**"
   ]
  },
  {
   "cell_type": "code",
   "execution_count": null,
   "id": "e941d9b0-31ba-47bf-a064-3a41204c89ce",
   "metadata": {},
   "outputs": [],
   "source": [
    "\n",
    "# Define your system prompt(s).\n",
    "system = [\n",
    "    {\n",
    "        \"text\": \"You are an experienced publisher. For each user topic, respond with 3 potential book titles\"\n",
    "    }\n",
    "]\n",
    "\n",
    "# Your user prompt\n",
    "messages = [\n",
    "    {\"role\": \"user\", \"content\": [{\"text\": \"a child graduating from high school\"}]},\n",
    "]\n",
    "\n",
    "# Configure the inference parameters.\n",
    "inf_params = {\"maxTokens\": 300, \"topP\": 0.1, \"temperature\": 0.3}\n",
    "\n",
    "model_response = client.converse(\n",
    "    modelId=LITE_MODEL_ID, messages=messages, system=system, inferenceConfig=inf_params\n",
    ")\n",
    "\n",
    "print(\"\\n[Full Response]\")\n",
    "print(json.dumps(model_response, indent=2))\n",
    "\n",
    "print(\"\\n[Response Content Text]\")\n",
    "print(model_response[\"output\"][\"message\"][\"content\"][0][\"text\"])"
   ]
  },
  {
   "cell_type": "markdown",
   "id": "2c477fc4-3ec1-4c0e-8f20-5987d50e8414",
   "metadata": {},
   "source": [
    "### **Multi Turn**"
   ]
  },
  {
   "cell_type": "code",
   "execution_count": null,
   "id": "11cb0a46-dedf-415a-8c9e-680d6d0db8eb",
   "metadata": {},
   "outputs": [],
   "source": [
    "\n",
    "# Define one or more messages using the \"user\" and \"assistant\" roles.\n",
    "messages = [\n",
    "    {\"role\": \"user\", \"content\": [{\"text\": \"How many days are in a week?\"}]},\n",
    "    {\"role\": \"assistant\", \"content\": [{\"text\": \"There are seven days in a week\"}]},\n",
    "    {\"role\": \"user\", \"content\": [{\"text\": \"Which day is the first?\"}]},\n",
    "]\n",
    "\n",
    "# Configure the inference parameters.\n",
    "inf_params = {\"maxTokens\": 300, \"topP\": 0.1, \"temperature\": 0.3}\n",
    "\n",
    "model_response = client.converse(\n",
    "    modelId=LITE_MODEL_ID, messages=messages, inferenceConfig=inf_params\n",
    ")\n",
    "\n",
    "print(\"\\n[Full Response]\")\n",
    "print(json.dumps(model_response, indent=2))\n",
    "\n",
    "print(model_response[\"output\"][\"message\"][\"content\"][0][\"text\"])"
   ]
  },
  {
   "cell_type": "markdown",
   "id": "a47111bd-2044-43e5-94be-1628ccd508ae",
   "metadata": {},
   "source": [
    "### **Streaming**"
   ]
  },
  {
   "cell_type": "code",
   "execution_count": null,
   "id": "01346b0b-0b74-41aa-b1e2-2e0c2c27f2c7",
   "metadata": {},
   "outputs": [],
   "source": [
    "\n",
    "# Define your system prompt(s).\n",
    "system = [\n",
    "    {\n",
    "        \"text\": \"Act as a creative writing assistant. When the user provides you with a topic, provide a list of 3 potential titles for a short story based on that topic.\"\n",
    "    }\n",
    "]\n",
    "\n",
    "messages = [\n",
    "    {\"role\": \"user\", \"content\": [{\"text\": \"A camping trip\"}]},\n",
    "]\n",
    "\n",
    "# Configure the inference parameters.\n",
    "inf_params = {\"maxTokens\": 300, \"topP\": 0.1, \"temperature\": 0.3}\n",
    "\n",
    "model_response = client.converse_stream(\n",
    "    modelId=LITE_MODEL_ID, messages=messages, system=system, inferenceConfig=inf_params\n",
    ")\n",
    "\n",
    "stream = model_response.get(\"stream\")\n",
    "if stream:\n",
    "    for event in stream:\n",
    "        if \"contentBlockDelta\" in event:\n",
    "            print(event[\"contentBlockDelta\"][\"delta\"][\"text\"], end=\"\")"
   ]
  },
  {
   "cell_type": "markdown",
   "id": "66712974-eb8a-4d6c-a803-fe83660b0fd9",
   "metadata": {},
   "source": [
    "### **Image Understanding**"
   ]
  },
  {
   "cell_type": "code",
   "execution_count": null,
   "id": "dfa569ae-5dfb-4a32-a96b-427fbb04a3c6",
   "metadata": {},
   "outputs": [],
   "source": [
    "\n",
    "with open(\"media/sunset.png\", \"rb\") as f:\n",
    "    image = f.read()\n",
    "\n",
    "messages = [\n",
    "    {\n",
    "        \"role\": \"user\",\n",
    "        \"content\": [\n",
    "            {\"image\": {\"format\": \"png\", \"source\": {\"bytes\": image}}},\n",
    "            {\"text\": \"Describe the following image\"},\n",
    "        ],\n",
    "    }\n",
    "]\n",
    "\n",
    "inf_params = {\"maxTokens\": 300, \"topP\": 0.1, \"temperature\": 0.3}\n",
    "\n",
    "model_response = client.converse(\n",
    "    modelId=LITE_MODEL_ID, messages=messages, inferenceConfig=inf_params\n",
    ")\n",
    "\n",
    "print(\"\\n[Full Response]\")\n",
    "print(json.dumps(model_response, indent=2))\n",
    "\n",
    "print(model_response[\"output\"][\"message\"][\"content\"][0][\"text\"])"
   ]
  },
  {
   "cell_type": "code",
   "execution_count": null,
   "id": "b85d4de2",
   "metadata": {},
   "outputs": [],
   "source": [
    "\n",
    "# Open the image you'd like to use and encode it as a Base64 string.\n",
    "with open(\"media/dog.jpeg\", \"rb\") as image_file:\n",
    "    dog_binary_data = image_file.read()\n",
    "\n",
    "with open(\"media/cat.jpeg\", \"rb\") as image_file:\n",
    "    cat_binary_data = image_file.read()\n",
    "\n",
    "messages = [\n",
    "    {\n",
    "        \"role\": \"user\",\n",
    "        \"content\": [\n",
    "            {\"image\": {\"format\": \"jpeg\", \"source\": {\"bytes\": dog_binary_data}}},\n",
    "            {\"image\": {\"format\": \"jpeg\", \"source\": {\"bytes\": cat_binary_data}}},\n",
    "            {\"text\": \"What do these two images have in common\"},\n",
    "        ],\n",
    "    }\n",
    "]\n",
    "\n",
    "inf_params = {\"maxTokens\": 300, \"topP\": 0.1, \"temperature\": 0.3}\n",
    "\n",
    "model_response = client.converse(\n",
    "    modelId=LITE_MODEL_ID, messages=messages, inferenceConfig=inf_params\n",
    ")\n",
    "\n",
    "print(\"\\n[Full Response]\")\n",
    "print(json.dumps(model_response, indent=2))\n",
    "\n",
    "print(model_response[\"output\"][\"message\"][\"content\"][0][\"text\"])"
   ]
  },
  {
   "cell_type": "markdown",
   "id": "a5fa0a50-fd15-42ba-806c-889bcf261c62",
   "metadata": {},
   "source": [
    "### **Video Understanding**\n"
   ]
  },
  {
   "cell_type": "code",
   "execution_count": null,
   "id": "4bef1a0a-282c-411d-a553-37432d40789d",
   "metadata": {},
   "outputs": [],
   "source": [
    "\n",
    "with open(\"./media/the-sea.mp4\", \"rb\") as file:\n",
    "    media_bytes = file.read()\n",
    "    media_base64 = base64.b64encode(media_bytes)\n",
    "\n",
    "\n",
    "messages = [\n",
    "    {\n",
    "        \"role\": \"user\",\n",
    "        \"content\": [\n",
    "            {\"video\": {\"format\": \"mp4\", \"source\": {\"bytes\": media_bytes}}},\n",
    "            {\"text\": \"Describe the following video\"},\n",
    "        ],\n",
    "    }\n",
    "]\n",
    "\n",
    "inf_params = {\"maxTokens\": 300, \"topP\": 0.1, \"temperature\": 0.3}\n",
    "\n",
    "model_response = client.converse(\n",
    "    modelId=LITE_MODEL_ID, messages=messages, inferenceConfig=inf_params\n",
    ")\n",
    "\n",
    "print(\"\\n[Full Response]\")\n",
    "print(json.dumps(model_response, indent=2))\n",
    "\n",
    "print(\"\\n[Response Content Text]\")\n",
    "print(model_response[\"output\"][\"message\"][\"content\"][0][\"text\"])"
   ]
  },
  {
   "cell_type": "markdown",
   "id": "2a2b7f5b-66cc-41f8-9668-90bd599275a7",
   "metadata": {},
   "source": [
    "### S3 Path for Video Understanding "
   ]
  },
  {
   "cell_type": "markdown",
   "id": "5711dfc2-178f-4a6f-b4fb-a69d1c3fb40a",
   "metadata": {},
   "source": [
    "##### Replace the S3 bucket URI with URI where the video file is located"
   ]
  },
  {
   "cell_type": "code",
   "execution_count": null,
   "id": "098ce021-e214-4246-b533-51907816e344",
   "metadata": {},
   "outputs": [],
   "source": [
    "\n",
    "messages = [\n",
    "    {\n",
    "        \"role\": \"user\",\n",
    "        \"content\": [\n",
    "            {\n",
    "                \"video\": {\n",
    "                    \"format\": \"mp4\",\n",
    "                    \"source\": {\n",
    "                        \"s3Location\": {\n",
    "                            #Replace the s3 bucket URI \n",
    "                            \"uri\": \"s3://demo-bucket/the-sea.mp4\"\n",
    "                        }\n",
    "                    },\n",
    "                }\n",
    "            },\n",
    "            {\"text\": \"Describe the following video\"},\n",
    "        ],\n",
    "    }\n",
    "]\n",
    "\n",
    "inf_params = {\"maxTokens\": 300, \"topP\": 0.1, \"temperature\": 0.3}\n",
    "\n",
    "model_response = client.converse(\n",
    "    modelId=LITE_MODEL_ID, messages=messages, inferenceConfig=inf_params\n",
    ")\n",
    "\n",
    "print(\"\\n[Full Response]\")\n",
    "print(json.dumps(model_response, indent=2))\n",
    "\n",
    "print(\"\\n[Response Content Text]\")\n",
    "print(model_response[\"output\"][\"message\"][\"content\"][0][\"text\"])"
   ]
  },
  {
   "cell_type": "code",
   "execution_count": null,
   "id": "f1a57a57-584e-4662-a054-248a8db81d05",
   "metadata": {},
   "outputs": [],
   "source": []
  }
 ],
 "metadata": {
  "kernelspec": {
   "display_name": "Python 3 (ipykernel)",
   "language": "python",
   "name": "python3"
  },
  "language_info": {
   "codemirror_mode": {
    "name": "ipython",
    "version": 3
   },
   "file_extension": ".py",
   "mimetype": "text/x-python",
   "name": "python",
   "nbconvert_exporter": "python",
   "pygments_lexer": "ipython3",
   "version": "3.12.7"
  }
 },
 "nbformat": 4,
 "nbformat_minor": 5
}
