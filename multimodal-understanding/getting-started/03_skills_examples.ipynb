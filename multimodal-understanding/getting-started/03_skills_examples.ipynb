{
 "cells": [
  {
   "cell_type": "markdown",
   "id": "dd77c861",
   "metadata": {},
   "source": [
    "# Skills examples \n",
    "\n",
    "This notebook is intended to highlight the different capabilities and skills of our models. This is not an exhaustive list, and the examples are meant to be simple so it's easy to understand what's going on. Note we are mostly using Lite across the examples, because of this.\n",
    "\n",
    "We will not focus on the details around how to invoke the models and what is supported, for that please refer to the Quick Start notebook.\n",
    "\n",
    "---"
   ]
  },
  {
   "cell_type": "markdown",
   "id": "30db7cc6-9a4f-4f6b-89a8-bcf48e094842",
   "metadata": {},
   "source": [
    "## Setup\n",
    "\n",
    "Please make sure you followed the steps outlines in the Quick Start first. Namely, that you have the model enabled on your account and region"
   ]
  },
  {
   "cell_type": "markdown",
   "id": "987c033b-9f13-466e-8712-6cbf82544443",
   "metadata": {},
   "source": [
    "**Note**: _Below Examples are Text Understanding use cases and can be used with Micro, Lite or Pro models. You can try other models changing the `model_id`_"
   ]
  },
  {
   "cell_type": "code",
   "execution_count": null,
   "id": "dc302ce2-7ee6-48b8-819c-5bd45d7e64cf",
   "metadata": {},
   "outputs": [],
   "source": [
    "import boto3\n",
    "import json\n",
    "\n",
    "PRO_MODEL_ID = \"us.amazon.nova-pro-v1:0\"\n",
    "LITE_MODEL_ID = \"us.amazon.nova-lite-v1:0\"\n",
    "MICRO_MODEL_ID = \"us.amazon.nova-micro-v1:0\"\n",
    "\n",
    "DEFAULT_MODEL_ID = LITE_MODEL_ID\n",
    "\n",
    "client = boto3.client(\n",
    "    \"bedrock-runtime\",\n",
    "    region_name=\"us-east-1\",\n",
    ")\n",
    "\n",
    "\n",
    "def invoke(prompt, model_id=DEFAULT_MODEL_ID):\n",
    "    messages = [\n",
    "        {\"role\": \"user\", \"content\": [{\"text\": prompt}]},\n",
    "    ]\n",
    "\n",
    "    inference_config = {\n",
    "        \"max_new_tokens\": 600,\n",
    "        \"top_p\": 0.9,\n",
    "        \"top_k\": 20,\n",
    "        \"temperature\": 0.7,\n",
    "    }\n",
    "\n",
    "    request = {\n",
    "        \"messages\": messages,\n",
    "        \"inferenceConfig\": inference_config,\n",
    "    }\n",
    "\n",
    "    response = client.invoke_model(modelId=model_id, body=json.dumps(request))\n",
    "    model_response = json.loads(response[\"body\"].read())\n",
    "    return model_response[\"output\"][\"message\"][\"content\"][0][\"text\"]"
   ]
  },
  {
   "cell_type": "markdown",
   "id": "c0d608ef",
   "metadata": {},
   "source": [
    "---\n",
    "\n",
    "## Examples of skills\n",
    "\n",
    "### Text Summarization\n",
    "\n",
    "In this example, we download the full book Alice in Wonderland by Lewis Carroll, and ask the model to summarize it."
   ]
  },
  {
   "cell_type": "code",
   "execution_count": null,
   "id": "a10e9b75",
   "metadata": {},
   "outputs": [],
   "source": [
    "import urllib.request\n",
    "\n",
    "\n",
    "def download_url(url):\n",
    "    try:\n",
    "        with urllib.request.urlopen(url) as response:\n",
    "            content = response.read().decode(\"utf-8\")\n",
    "            return content\n",
    "    except urllib.error.URLError as e:\n",
    "        print(f\"Error downloading URL: {e.reason}\")\n",
    "        return None\n",
    "\n",
    "\n",
    "book_content = download_url(\"https://www.gutenberg.org/files/11/11-0.txt\")\n",
    "print(f\"{book_content[:100]=}\")\n",
    "print(f\"{len(book_content)=}\")\n",
    "print(invoke(f\"Summarize the following book in less than 500 words: {book_content}\"))"
   ]
  },
  {
   "cell_type": "markdown",
   "id": "d902eeac",
   "metadata": {},
   "source": [
    "### Content Generation\n",
    "\n",
    "This example shows how the model can generate creative text"
   ]
  },
  {
   "cell_type": "code",
   "execution_count": null,
   "id": "ef15b237",
   "metadata": {},
   "outputs": [],
   "source": [
    "print(invoke(f\"Write an ode to the commuting to work\"))"
   ]
  },
  {
   "cell_type": "markdown",
   "id": "1ee83004",
   "metadata": {},
   "source": [
    "### Question Answering\n",
    "\n",
    "This example show how the model can respond to questions about in-context content,. "
   ]
  },
  {
   "cell_type": "code",
   "execution_count": null,
   "id": "7ad724ca",
   "metadata": {},
   "outputs": [],
   "source": [
    "manual = \"\"\"\n",
    "From today, washing will be easier than ever before. The Amica washing machine combines\n",
    "exceptional ease of use with excellent effectiveness. Once you have read the instructions,\n",
    "operating the washing machine will not be a problem.\n",
    "Before being packed and leaving the factory, the safety and functions of this washing machine\n",
    "were carefully tested. These tests may have resulted in some damp or traces of water being\n",
    "left inside the machine.\n",
    "We ask you to read the User Manual carefully before switching on the appliance. Following\n",
    "the directions in this manual will protect you from any misuse.\n",
    "Keep this User Manual and store it near at hand. The instructions should be followed carefully\n",
    "to avoid any unfortunate accidents.\n",
    "Important!\n",
    "This washing machine is intended for purely domestic use to wash textiles and clothes\n",
    "which are designed to be machine washed in a detergent bath.\n",
    "Before plugging the washing machine into the mains, remove the safety packaging and\n",
    "ensure the machine is level.\n",
    "The manufacturer reserves the right to introduce changes which do not affect the operation\n",
    "of the appliance.\n",
    "\n",
    "Use\n",
    "* The machine should only be used after the instructions below have been read carefully.\n",
    "* Never use the machine outdoors or anywhere the temperature may fall below freezing.\n",
    "* The machine should not be operated by children or anyone who has not read the instruc-\n",
    "tions.\n",
    "\n",
    "Important! Temperatures below 0°C can damage the washing machine! In the event of the\n",
    "machine being stored or transported in sub-zero temperatures, it should be left to acclimatise\n",
    "in a temperature above zero for 8 hours before being used.\n",
    "\n",
    "Manufacturer’s Declaration\n",
    "The manufacturer hereby declares that this product meets the requirements of the follo-\n",
    "wing European directives:\n",
    "* Low Voltage Directive 2014/35/UE,\n",
    "* Electromagnetic Compatibility (EMC) Directive 2004/30/UE,\n",
    "* ErP Directive 2009/125/EC,\n",
    "* RoHS Directive 2011/65/UE,\n",
    "and has thus been marked with the symbol and been issued with a declaration of com-\n",
    "pliance made available to market regulators.\n",
    "\n",
    "NOTES ON SAFETY\n",
    "\n",
    "Use only those detergents and additives which\n",
    "are designed for automatic washing machines,\n",
    "especially when using the COTTON\n",
    "programme. Do not use any agents containing\n",
    "solvents, as these may damage certain parts of\n",
    "the machine, or cause them to emit poisonous\n",
    "gases. There may also be a risk of ignition and\n",
    "explosion.\n",
    "Ensure no unwanted objects are put inside the\n",
    "appliance. Completely empty all pockets in the\n",
    "clothing to be washed and fasten buttons and\n",
    "zips. Place small, loose objects in a washing\n",
    "bag, or inside a pillow case, as they may be\n",
    "destroyed or else damage the drum or internal\n",
    "tank. Do not exceed the recommended maxi-\n",
    "mum load of washing.\n",
    "Protect the control panel from water spillage.\n",
    "Do not put washed clothes on top of the ma-\n",
    "chine!\n",
    "Unplug the machine before preparing the\n",
    "machine for transport. Do not transport the\n",
    "washing machine if drum locking bolts are not\n",
    "in place. See the chapter INSTALLING THE\n",
    "MACHINE. Keep the appliance in upright po-\n",
    "sition when transported.\n",
    "Data plate indicating basic information about\n",
    "the washing machine is located at the top part\n",
    "of the rear casing.\n",
    "The door glass of your washing machine is hot\n",
    "during operation. Do not allow children in the\n",
    "vicinity of the appliance.\n",
    "\"\"\"\n",
    "\n",
    "print(\n",
    "    invoke(f\"\"\"\n",
    "**Question:**\n",
    "Can what are the operating temperatures?\n",
    "DO NOT USE INFORMATION THAT IS NOT IN REFERENCE TEXTS!\n",
    "\n",
    "**Reference Text:**\n",
    "{manual}\n",
    "\"\"\"\n",
    "    )\n",
    ")\n"
   ]
  },
  {
   "cell_type": "markdown",
   "id": "678ffe2f",
   "metadata": {},
   "source": [
    "### Text Translation\n",
    "\n",
    "Below we have a passage from Le Petit Prince by Antoine de Saint-Exupéry. We will ask model to identify the language, ask it (in english) to identify the book, ask it about the narrative, and finally ask it to translate to english."
   ]
  },
  {
   "cell_type": "code",
   "execution_count": null,
   "id": "ab880011",
   "metadata": {},
   "outputs": [],
   "source": [
    "text = \"J'ai sauté sur mes pieds comme si j'avais été frappé par la foudre. J'ai bien frotté mes yeux. J'ai bien regardé. Et j'ai vu un petit bonhomme tout à fait extraordinaire qui me considérait gravement. Voilà le meilleur portrait que, plus tard, j'ai réussi à faire de lui. Mais mon dessin, bien sûr, est beaucoup moins ravissant que le modèle. Ce n'est pas ma faute. J'avais été découragé dans ma carrière de peintre par les grandes personnes, à l'age de six ans, et je n'avais rien appris à dessiner, sauf les boas fermés et les boas ouverts. \"\n",
    "print(invoke(f\"What language is this passage in: {text}\"))\n",
    "print(invoke(f\"What book contains this passage: {text}\"))\n",
    "print(invoke(f\"What did the character in this passage saw: {text}\"))\n",
    "print(invoke(f\"Transate to english: {text}\"))"
   ]
  },
  {
   "cell_type": "markdown",
   "id": "dd698821",
   "metadata": {},
   "source": [
    "### Text Analysis & Recommendations\n",
    "\n",
    "In this example we show model's capability to understand text and sentiment"
   ]
  },
  {
   "cell_type": "code",
   "execution_count": null,
   "id": "06e22275",
   "metadata": {},
   "outputs": [],
   "source": [
    "review = \"\"\"First off, the price alone probably led you here to start inquiring about reviews of quality. Fear not, you get a lot more bag than the price suggests. Right out of the box, soft leather without much of that leather smell. Medium brown color is classic and goes with plenty of styles. Overall, well made and provides a lot of space for storage on your travels.\n",
    "\n",
    "I've noticed that the leather scent starts to increase with wear, which is quite pleasant. The feel remains soft and durability seems to be quite good.\n",
    "\n",
    "Overall, great bag for the price considering you are getting a leather bag, from a known solid brand name, all for under $100.00.\n",
    "\n",
    "The single only negative I have found with this bag is the latches used to open and close the bag. They look nice and do their job, however they are a bit cheap and aren't exactly quick and easy to use. They click into place just fine, but opening them is a fumbling challenge as they do not have much give in the spring used to release the clip. I've gotten use to it, but don't expect to quickly grab a business card at a moments notice as you'll be standing there till tomorrow fumbling with the darn clip. A bit of an exaggeration that will change from user to user, but nonetheless something worth mentioning.\n",
    "\n",
    "Don't over think this purchase. If you have the budget for a $500.00 bag, then by all means keep searching as I do believe in getting what you pay for. However, the manufacture retail price is $300, so you won't be scraping the bottom of the barrel. Grab this one while you can!\"\"\"\n",
    "print(\n",
    "    invoke(\n",
    "        f\"Answer with positive or negative, based on the sentiment on this review: {review}\"\n",
    "    )\n",
    ")\n",
    "print(invoke(f\"List the things liked in this product review: {review}\"))"
   ]
  },
  {
   "cell_type": "markdown",
   "id": "9faa3145",
   "metadata": {},
   "source": [
    "### Dialogue and Conversation\n",
    "\n",
    "The following example shows how to use messages to create a back and forth chat."
   ]
  },
  {
   "cell_type": "code",
   "execution_count": null,
   "id": "b6d288a4",
   "metadata": {},
   "outputs": [],
   "source": [
    "multi_turn_messages = []\n",
    "\n",
    "\n",
    "def turn(prompt):\n",
    "    multi_turn_messages.append({\"role\": \"user\", \"content\": [{\"text\": prompt}]})\n",
    "\n",
    "    inference_config = {\n",
    "        \"max_new_tokens\": 300,\n",
    "        \"top_p\": 0.9,\n",
    "        \"top_k\": 20,\n",
    "        \"temperature\": 0.7,\n",
    "    }\n",
    "\n",
    "    request = {\n",
    "        \"messages\": multi_turn_messages,\n",
    "        \"system\": [{ \"text\": \"Respond with short, concise answers\" }],\n",
    "        \"inferenceConfig\": inference_config,\n",
    "    }\n",
    "\n",
    "    response = client.invoke_model(modelId=DEFAULT_MODEL_ID, body=json.dumps(request))\n",
    "    model_response = json.loads(response[\"body\"].read())\n",
    "    output_message = model_response[\"output\"][\"message\"]\n",
    "    multi_turn_messages.append(output_message)\n",
    "    assistant_resp = output_message[\"content\"][0][\"text\"]\n",
    "    print(f\"User: {prompt}\")\n",
    "    print(f\"Assistant: {assistant_resp}\")\n",
    "    print(\"\")\n",
    "\n",
    "\n",
    "turn(\"My name is Alice, I'm 30 years old, I moved to Seattle 9 years ago\")\n",
    "turn(\"What's my name?\")\n",
    "turn(\"Where do I live?\")\n",
    "turn(\"At what age did I move to Seattle?\")"
   ]
  },
  {
   "cell_type": "markdown",
   "id": "a8c3ac74",
   "metadata": {},
   "source": [
    "### Structured Output\n",
    "\n",
    "This example shows how the model can generate structured output adhering to defined schemas"
   ]
  },
  {
   "cell_type": "code",
   "execution_count": null,
   "id": "c215fa8e",
   "metadata": {},
   "outputs": [],
   "source": [
    "print(\n",
    "    invoke(\"\"\"\n",
    "Write for each month name, the number of days in the that month and the holidays if any.\n",
    "           \n",
    "You MUST answer in JSON format only. Please follow the output schema below.\n",
    "*Output Schema:*\n",
    "[{\n",
    "(month_name): {\n",
    "    \"number_of_days\": (total number of days),\n",
    "    \"holidays\": [( name each federal holiday )]\n",
    "}\n",
    "}]\n",
    "\"\"\"\n",
    "    )\n",
    ")"
   ]
  },
  {
   "cell_type": "markdown",
   "id": "dc472f17",
   "metadata": {},
   "source": [
    "### Code Explanation & Generation\n",
    "\n",
    "In the following example ask the model to generate code. This code is very simple, but for more complex code using Nova pro is advised."
   ]
  },
  {
   "cell_type": "code",
   "execution_count": null,
   "id": "f8ae61ee",
   "metadata": {},
   "outputs": [],
   "source": [
    "print(\n",
    "    invoke(\n",
    "        \"Write a 'odd_even' function in Python that takes in a list of numbers, and return a tuple with (odd numbers, even numbers)\",\n",
    "    )\n",
    ")"
   ]
  },
  {
   "cell_type": "markdown",
   "id": "f275858a",
   "metadata": {},
   "source": [
    "### Classification\n",
    "\n",
    "The following example shows how to use multimodal few-shot capabilities with multi-turns for classification."
   ]
  },
  {
   "cell_type": "code",
   "execution_count": null,
   "id": "0c714f91",
   "metadata": {},
   "outputs": [],
   "source": [
    "from pathlib import Path\n",
    "\n",
    "messages = [\n",
    "    {\"role\": \"user\", \"content\": [{\"image\": {\"format\": \"jpeg\", \"source\": {\"bytes\": Path('media/cat.jpeg').read_bytes()}}}]},\n",
    "    {\"role\": \"assistant\", \"content\": [{\"text\": \"fail\" }]},\n",
    "    {\"role\": \"user\", \"content\": [{\"image\": {\"format\": \"jpeg\", \"source\": {\"bytes\": Path('media/dog.jpeg').read_bytes()}}}]},\n",
    "    {\"role\": \"assistant\", \"content\": [{\"text\": \"pass\" }]},\n",
    "    {\"role\": \"user\", \"content\": [{\"image\": {\"format\": \"jpeg\", \"source\": {\"bytes\": Path('media/dog2.jpeg').read_bytes()}}}]},\n",
    "    {\"role\": \"assistant\", \"content\": [{\"text\": \"pass\" }]},\n",
    "    {\"role\": \"user\", \"content\": [{\"image\": {\"format\": \"jpeg\", \"source\": {\"bytes\": Path('media/cat2.jpeg').read_bytes()}}}]},\n",
    "]\n",
    "\n",
    "inf_params = {\"maxTokens\": 300, \"topP\": 0.1, \"temperature\": 0.3}\n",
    "\n",
    "response = client.converse(modelId=DEFAULT_MODEL_ID, messages=messages, inferenceConfig=inf_params)\n",
    "\n",
    "response[\"output\"][\"message\"][\"content\"][0][\"text\"]"
   ]
  }
 ],
 "metadata": {
  "kernelspec": {
   "display_name": "Python 3",
   "language": "python",
   "name": "python3"
  },
  "language_info": {
   "codemirror_mode": {
    "name": "ipython",
    "version": 3
   },
   "file_extension": ".py",
   "mimetype": "text/x-python",
   "name": "python",
   "nbconvert_exporter": "python",
   "pygments_lexer": "ipython3",
   "version": "3.10.13"
  }
 },
 "nbformat": 4,
 "nbformat_minor": 5
}
